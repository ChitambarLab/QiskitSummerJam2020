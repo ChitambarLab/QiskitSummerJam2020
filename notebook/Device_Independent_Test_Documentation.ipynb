{
 "cells": [
  {
   "cell_type": "markdown",
   "metadata": {},
   "source": [
    "# Device Independent Test Documentation"
   ]
  },
  {
   "cell_type": "markdown",
   "metadata": {},
   "source": [
    "Below is a draft of an introduction."
   ]
  },
  {
   "cell_type": "markdown",
   "metadata": {},
   "source": [
    "Device Independent Test is a python library which runs tests on quantum systems through IBM's Qiskit.<br><br>\n",
    "The motivation for this library is the following scenario: there are two quantum computers (say, Alice's and Bob's) with some sort of network connecting them. We trust Alice's computer to be a functional quantum device. However, we do not yet trust Bob's computer. We wish to transmit states from Alice's computer to Bob's, and ask Bob to run certain operations to ascertain the functionality of our transmission and his system. <br><br>\n",
    "There are [NUMBER] tests in this library: dimensionality, incompatible measurements, and entanglement.<br><br>\n",
    "This library includes the following modules: dimension, incompatible_measurement, and entanglement. In addition, there are two classes: handshake and QuantumDispatcher. The documentation below goes over each of these files in detail."
   ]
  },
  {
   "cell_type": "markdown",
   "metadata": {},
   "source": [
    "# Classes"
   ]
  },
  {
   "cell_type": "markdown",
   "metadata": {},
   "source": [
    "## HandShake"
   ]
  },
  {
   "cell_type": "markdown",
   "metadata": {},
   "source": [
    "Interface between the user and the test modules. Initialized with an instance of QuantumDispatcher. You can use this object to run and store the results of tests. <br><br>\n",
    "\n",
    "<table style = \"width:90%\">\n",
    "    <tr>\n",
    "        <th>Methods</th>\n",
    "        <th>Descriptions</th>\n",
    "    </tr>\n",
    "    <tr>\n",
    "        <td>__init__(QuantumDispatcher)</td>\n",
    "        <td>Constructor storing a QuantumDispatcher instance to run tests with.</td>\n",
    "    </tr>\n",
    "    <tr>\n",
    "        <td>dimensionality(tolerance, shots)</td>\n",
    "        <td>Runs the dimensionality test with specified tolerance (float) and number of shots (int).</td>\n",
    "    </tr>\n",
    "    <tr>\n",
    "        <td>measurement_incompatibility(tolerance, shots)</td>\n",
    "        <td>Runs the incompatible measurement test with specified tolerance and shots. Returns a tuple with the pass/fail and the value of the bell violation.</td>\n",
    "    </tr>\n",
    "    <tr>\n",
    "        <td>entanglement(tolerance, shots)</td>\n",
    "        <td>Runs the entanglement test with specified tolerance and number of shots.</td>\n",
    "    </tr>\n",
    "    <tr>\n",
    "        <td>test('name',tolerance, shots)</td>\n",
    "        <td>Runs the test specified by 'name'. Prints available tests if 'name' does not exit.</td>\n",
    "    </tr>\n",
    "    <tr>\n",
    "        <td>print_tests()</td>\n",
    "        <td>Prints the available tests.</td>\n",
    "    </tr>\n",
    "    <tr>\n",
    "        <td>write_to('file')</td>\n",
    "        <td>Writs accumulated data to file.</td>\n",
    "    </tr>\n",
    "</table><br><br>\n",
    "\n",
    "Below is an example of using a handshake object to run an incompatible measurment test."
   ]
  },
  {
   "cell_type": "code",
   "execution_count": null,
   "metadata": {},
   "outputs": [],
   "source": [
    "provider = IBMQ.load_account()\n",
    "dispatch = quantum_communicator.LocalDispatcher([provider.get_backend('ibmq_qasm_simulator')])\n",
    "test = incompatible_measurement.run_test(dispatch,0.0,1000)"
   ]
  },
  {
   "cell_type": "markdown",
   "metadata": {},
   "source": [
    "## Quantum_Dispatcher"
   ]
  },
  {
   "cell_type": "markdown",
   "metadata": {},
   "source": [
    "An abstract base class to generalize the dispatching and running of operations across a system. Offers an interface from which future classes that work with a quantum network can run the tests.\n",
    "<table style = 'width:90%'>\n",
    "    <tr>\n",
    "        <th>Methods</th>\n",
    "        <th>Descriptions</th>\n",
    "    </tr>\n",
    "    <tr>\n",
    "        <td>__init__(backends)</td>\n",
    "        <td>Constructor requiring a list of backends.</td>\n",
    "    <tr>\n",
    "            <th>Abstract Methods</th>\n",
    "            <th>Description</th>\n",
    "    </tr>\n",
    "    <tr>\n",
    "        <td>run_and_transmit(input_registers,output_registers,pre_operations,post_operations,shot)</td>\n",
    "        <td>Dispatches a single job to the quantum system. The circuit specified in pre_operations is ran on the device responsible for preparing states. The states from input_registers are then sent to the output_registers. Next, the operations in the list post_operations are executed. The index of the operation in this array corresponds to which device it runs on. Returns a dictionary with the counts from measurements on the system. \n",
    "    <tr>\n",
    "        <td>multi_run_and_transmit(input_registers,output_register,pre_operations,post_operations,shot)</td>\n",
    "        <td>Dispatches multiple jobs to the quantum system. Pre_operations is a list of circuits. Post_operations is a list of lists, representing operations to run on different machines. Returns a list of dictionaries with the counts from measurements on the system.</td>\n",
    "            </tr>\n",
    "    <tr>\n",
    "        <td>batch_run_and_transmit(input_registers,output_registers,pre_operations,post_operations,shot)</td>\n",
    "        <td>Distpatches and runs all permuations of the given operations. Returns a list of dictionaries with the counts from measurements on the system.</td>\n",
    "</table>"
   ]
  },
  {
   "cell_type": "markdown",
   "metadata": {},
   "source": [
    "### LocalDispatcher"
   ]
  },
  {
   "cell_type": "markdown",
   "metadata": {},
   "source": [
    "Implements the Quantum_Dispatcher interface for running tests on a single computer. Note that the input and output register parameters are not used by this class.\n",
    "<table style = 'width:90%'>\n",
    "    <tr>\n",
    "        <th>Methods</th>\n",
    "        <th>Descriptions</th>\n",
    "    </tr>\n",
    "    <tr>\n",
    "        <td>__init__(backends)</td>\n",
    "        <td>Only the first element in the list backends is used.</td>\n",
    "    <tr>\n",
    "        <td>run_and_transmit(input_registers,output_registers,pre_operations,post_operations,shot)</td>\n",
    "        <td>See QuantumDispatcher. Does not use the registers. Returns counts from running the circuits.\n",
    "    <tr>\n",
    "        <td>multi_run_and_transmit(input_registers,output_register,pre_operations,post_operations,shot)</td>\n",
    "        <td>See QuantumDispatcher. Does not use the registers. Returns a list of counts from running the circuits.</td>\n",
    "            </tr>\n",
    "    <tr>\n",
    "        <td>batch_run_and_transmit(input_registers,output_registers,pre_operations,post_operations,shot)</td>\n",
    "        <td>See QuantumDispatcher. Does not use the registers. Returns a list of counts from running all permutations of the circuits.</td>\n",
    "</table><br><br>\n",
    "Below is an example of creating an instance of LocalDispatcher."
   ]
  },
  {
   "cell_type": "code",
   "execution_count": null,
   "metadata": {},
   "outputs": [],
   "source": [
    "provider = IBMQ.load_account()\n",
    "dispatch = quantum_communicator.LocalDispatcher([provider.get_backend('ibmq_qasm_simulator')])"
   ]
  },
  {
   "cell_type": "markdown",
   "metadata": {},
   "source": [
    "# Modules"
   ]
  },
  {
   "cell_type": "markdown",
   "metadata": {},
   "source": [
    "## Dimension"
   ]
  },
  {
   "cell_type": "markdown",
   "metadata": {},
   "source": [
    "## Incompatible_Measurement"
   ]
  },
  {
   "cell_type": "markdown",
   "metadata": {},
   "source": [
    "A module to conduct tests of Bell violations from incompatible measurements.\n",
    "<table style='width:90%'>\n",
    "    <tr>\n",
    "        <th>Methods</th>\n",
    "        <th>Descriptions</th>\n",
    "    </tr>\n",
    "    <tr>\n",
    "        <td>run_test(dispatcher,tolerance,shots)</td>\n",
    "        <td>Sends a incompatible measurement test to run on dispatcher.<td>\n",
    "    </tr>\n",
    "    <tr>\n",
    "        <td>bb84_states()</td>\n",
    "        <td>Returns a circuit that creates the 0, 1, +, and - states on 4 registers.</td>\n",
    "    </tr>\n",
    "    <tr>\n",
    "        <td>measure_circuit(y)</td>\n",
    "        <td>Returns Bob's circuit measuring 4 registers in the pi/8 (y=0) or 3*pi/8 (y=1) rotated basis.</td>\n",
    "    </tr>\n",
    "    <tr>\n",
    "        <td>bell_violation(y0_counts,y1_counts,y0_shots,y1_shots)</td>\n",
    "        <td>Returns the value of the test minus the classical value.</td>\n",
    "    </tr>\n",
    "    <tr>\n",
    "        <td>bell_score(y0_probs,y1_probs)</td>\n",
    "        <td>Returns the value of the test from the conditional probability distribution.</td>\n",
    "    </tr>\n",
    "    <tr>\n",
    "        <td>conditional_probs(counts,shots)</td>\n",
    "        <td>Parses the counts from a job and returns a 2x4 matrix of conditional probabilities.</td>\n",
    "    </tr>\n",
    "</table>"
   ]
  },
  {
   "cell_type": "markdown",
   "metadata": {},
   "source": [
    "## Entanglement"
   ]
  },
  {
   "cell_type": "markdown",
   "metadata": {},
   "source": [
    "# Example Code"
   ]
  },
  {
   "cell_type": "markdown",
   "metadata": {},
   "source": [
    "## Incompatible Measurement Example"
   ]
  },
  {
   "cell_type": "code",
   "execution_count": 2,
   "metadata": {},
   "outputs": [
    {
     "name": "stderr",
     "output_type": "stream",
     "text": [
      "ibmqfactory.load_account:WARNING:2020-06-29 23:49:59,350: Credentials are already in use. The existing account in the session will be replaced.\n"
     ]
    }
   ],
   "source": [
    "# Importing standard Qiskit libraries and configuring account\n",
    "from qiskit import QuantumCircuit, execute, Aer, IBMQ\n",
    "from qiskit.compiler import transpile, assemble\n",
    "from qiskit.tools.jupyter import *\n",
    "from qiskit.visualization import *\n",
    "from qiskit.providers.ibmq.managed import IBMQJobManager\n",
    "\n",
    "# Loading your IBM Q account(s)\n",
    "import qiskit\n",
    "from qiskit import IBMQ\n",
    "provider = IBMQ.load_account()\n",
    "\n",
    "import numpy as np\n",
    "\n",
    "import context\n",
    "from device_independent_test import handshake\n",
    "from device_independent_test import quantum_communicator\n",
    "from device_independent_test import entanglement"
   ]
  },
  {
   "cell_type": "markdown",
   "metadata": {},
   "source": [
    "Below is an incompatibility test that should output a violation."
   ]
  },
  {
   "cell_type": "code",
   "execution_count": 3,
   "metadata": {},
   "outputs": [
    {
     "data": {
      "text/html": [
       "<pre style=\"word-wrap: normal;white-space: pre;background: #fff0;line-height: 1.1;font-family: &quot;Courier New&quot;,Courier,monospace\">     ┌───────────┐┌─┐\n",
       "q_0: ┤ circuit13 ├┤M├\n",
       "     └───────────┘└╥┘\n",
       "c_0: ══════════════╩═\n",
       "                     </pre>"
      ],
      "text/plain": [
       "     ┌───────────┐┌─┐\n",
       "q_0: ┤ circuit13 ├┤M├\n",
       "     └───────────┘└╥┘\n",
       "c_0: ══════════════╩═\n",
       "                     "
      ]
     },
     "metadata": {},
     "output_type": "display_data"
    },
    {
     "data": {
      "text/html": [
       "<pre style=\"word-wrap: normal;white-space: pre;background: #fff0;line-height: 1.1;font-family: &quot;Courier New&quot;,Courier,monospace\">     ┌───────────┐┌─┐\n",
       "q_0: ┤ circuit68 ├┤M├\n",
       "     └───────────┘└╥┘\n",
       "c_0: ══════════════╩═\n",
       "                     </pre>"
      ],
      "text/plain": [
       "     ┌───────────┐┌─┐\n",
       "q_0: ┤ circuit68 ├┤M├\n",
       "     └───────────┘└╥┘\n",
       "c_0: ══════════════╩═\n",
       "                     "
      ]
     },
     "metadata": {},
     "output_type": "display_data"
    },
    {
     "data": {
      "text/html": [
       "<pre style=\"word-wrap: normal;white-space: pre;background: #fff0;line-height: 1.1;font-family: &quot;Courier New&quot;,Courier,monospace\">     ┌───┐┌───────────┐┌─┐\n",
       "q_0: ┤ X ├┤ circuit13 ├┤M├\n",
       "     └───┘└───────────┘└╥┘\n",
       "c_0: ═══════════════════╩═\n",
       "                          </pre>"
      ],
      "text/plain": [
       "     ┌───┐┌───────────┐┌─┐\n",
       "q_0: ┤ X ├┤ circuit13 ├┤M├\n",
       "     └───┘└───────────┘└╥┘\n",
       "c_0: ═══════════════════╩═\n",
       "                          "
      ]
     },
     "metadata": {},
     "output_type": "display_data"
    },
    {
     "data": {
      "text/html": [
       "<pre style=\"word-wrap: normal;white-space: pre;background: #fff0;line-height: 1.1;font-family: &quot;Courier New&quot;,Courier,monospace\">     ┌───┐┌───────────┐┌─┐\n",
       "q_0: ┤ X ├┤ circuit68 ├┤M├\n",
       "     └───┘└───────────┘└╥┘\n",
       "c_0: ═══════════════════╩═\n",
       "                          </pre>"
      ],
      "text/plain": [
       "     ┌───┐┌───────────┐┌─┐\n",
       "q_0: ┤ X ├┤ circuit68 ├┤M├\n",
       "     └───┘└───────────┘└╥┘\n",
       "c_0: ═══════════════════╩═\n",
       "                          "
      ]
     },
     "metadata": {},
     "output_type": "display_data"
    },
    {
     "data": {
      "text/html": [
       "<pre style=\"word-wrap: normal;white-space: pre;background: #fff0;line-height: 1.1;font-family: &quot;Courier New&quot;,Courier,monospace\">     ┌───┐┌───────────┐┌─┐\n",
       "q_0: ┤ H ├┤ circuit13 ├┤M├\n",
       "     └───┘└───────────┘└╥┘\n",
       "c_0: ═══════════════════╩═\n",
       "                          </pre>"
      ],
      "text/plain": [
       "     ┌───┐┌───────────┐┌─┐\n",
       "q_0: ┤ H ├┤ circuit13 ├┤M├\n",
       "     └───┘└───────────┘└╥┘\n",
       "c_0: ═══════════════════╩═\n",
       "                          "
      ]
     },
     "metadata": {},
     "output_type": "display_data"
    },
    {
     "data": {
      "text/html": [
       "<pre style=\"word-wrap: normal;white-space: pre;background: #fff0;line-height: 1.1;font-family: &quot;Courier New&quot;,Courier,monospace\">     ┌───┐┌───────────┐┌─┐\n",
       "q_0: ┤ H ├┤ circuit68 ├┤M├\n",
       "     └───┘└───────────┘└╥┘\n",
       "c_0: ═══════════════════╩═\n",
       "                          </pre>"
      ],
      "text/plain": [
       "     ┌───┐┌───────────┐┌─┐\n",
       "q_0: ┤ H ├┤ circuit68 ├┤M├\n",
       "     └───┘└───────────┘└╥┘\n",
       "c_0: ═══════════════════╩═\n",
       "                          "
      ]
     },
     "metadata": {},
     "output_type": "display_data"
    },
    {
     "data": {
      "text/html": [
       "<pre style=\"word-wrap: normal;white-space: pre;background: #fff0;line-height: 1.1;font-family: &quot;Courier New&quot;,Courier,monospace\">     ┌───┐┌───┐┌───────────┐┌─┐\n",
       "q_0: ┤ X ├┤ H ├┤ circuit13 ├┤M├\n",
       "     └───┘└───┘└───────────┘└╥┘\n",
       "c_0: ════════════════════════╩═\n",
       "                               </pre>"
      ],
      "text/plain": [
       "     ┌───┐┌───┐┌───────────┐┌─┐\n",
       "q_0: ┤ X ├┤ H ├┤ circuit13 ├┤M├\n",
       "     └───┘└───┘└───────────┘└╥┘\n",
       "c_0: ════════════════════════╩═\n",
       "                               "
      ]
     },
     "metadata": {},
     "output_type": "display_data"
    },
    {
     "data": {
      "text/html": [
       "<pre style=\"word-wrap: normal;white-space: pre;background: #fff0;line-height: 1.1;font-family: &quot;Courier New&quot;,Courier,monospace\">     ┌───┐┌───┐┌───────────┐┌─┐\n",
       "q_0: ┤ X ├┤ H ├┤ circuit68 ├┤M├\n",
       "     └───┘└───┘└───────────┘└╥┘\n",
       "c_0: ════════════════════════╩═\n",
       "                               </pre>"
      ],
      "text/plain": [
       "     ┌───┐┌───┐┌───────────┐┌─┐\n",
       "q_0: ┤ X ├┤ H ├┤ circuit68 ├┤M├\n",
       "     └───┘└───┘└───────────┘└╥┘\n",
       "c_0: ════════════════════════╩═\n",
       "                               "
      ]
     },
     "metadata": {},
     "output_type": "display_data"
    },
    {
     "name": "stdout",
     "output_type": "stream",
     "text": [
      "Failed Measurment Incompatibility with value:  6.8334\n"
     ]
    },
    {
     "data": {
      "text/plain": [
       "(False, 6.8334)"
      ]
     },
     "execution_count": 3,
     "metadata": {},
     "output_type": "execute_result"
    }
   ],
   "source": [
    "communicator = quantum_communicator.LocalDispatcher([provider.get_backend('ibmq_qasm_simulator')])\n",
    "obj = handshake.HandShake(communicator)\n",
    "obj.measurement_incompatibility(0.0,5000,0)\n",
    "#obj.entanglement(0.0,5000)\n",
    "#entanglement.run_test_parallel(communicator,0.0,1000)"
   ]
  },
  {
   "cell_type": "code",
   "execution_count": 5,
   "metadata": {},
   "outputs": [
    {
     "name": "stdout",
     "output_type": "stream",
     "text": [
      "11\n"
     ]
    }
   ],
   "source": [
    "test = \"1101\"\n",
    "print(test[0:2])"
   ]
  },
  {
   "cell_type": "code",
   "execution_count": 4,
   "metadata": {},
   "outputs": [
    {
     "data": {
      "text/html": [
       "<pre style=\"word-wrap: normal;white-space: pre;background: #fff0;line-height: 1.1;font-family: &quot;Courier New&quot;,Courier,monospace\">     ┌───┐┌─┐\n",
       "q_0: ┤ X ├┤M├\n",
       "     └───┘└╥┘\n",
       "q_1: ──────╫─\n",
       "           ║ \n",
       "c_0: ══════╩═\n",
       "             \n",
       "c_1: ════════\n",
       "             </pre>"
      ],
      "text/plain": [
       "     ┌───┐┌─┐\n",
       "q_0: ┤ X ├┤M├\n",
       "     └───┘└╥┘\n",
       "q_1: ──────╫─\n",
       "           ║ \n",
       "c_0: ══════╩═\n",
       "             \n",
       "c_1: ════════\n",
       "             "
      ]
     },
     "execution_count": 4,
     "metadata": {},
     "output_type": "execute_result"
    }
   ],
   "source": [
    "test = QuantumCircuit(2,2)\n",
    "test.x(0)\n",
    "test.measure(0,0)\n",
    "test.draw()"
   ]
  },
  {
   "cell_type": "markdown",
   "metadata": {},
   "source": [
    "Below is a hard coded example of the incompatibility test failing when Bob does not do the correct operations."
   ]
  },
  {
   "cell_type": "code",
   "execution_count": 3,
   "metadata": {},
   "outputs": [
    {
     "name": "stdout",
     "output_type": "stream",
     "text": [
      "1.9869999999999999\n"
     ]
    }
   ],
   "source": [
    "from device_independent_test import incompatible_measurement\n",
    "dispatch = quantum_communicator.LocalDispatcher([provider.get_backend('ibmq_qasm_simulator')])\n",
    "\n",
    "# create bb84 states\n",
    "pre_ops = [incompatible_measurement.bb84_states()]\n",
    "\n",
    "# measure in the wrong basis\n",
    "qc0 = QuantumCircuit(4)\n",
    "qc0.u3(-np.pi,0,0,range(0,4))\n",
    "qc0.measure_all()\n",
    "qc1 = QuantumCircuit(4)\n",
    "qc1.u3(0,0,0,range(0,4))\n",
    "qc1.measure_all()\n",
    "post_ops = [[QuantumCircuit(4)],[qc0,qc1]]\n",
    "counts = dispatch.batch_run_and_transmit(pre_ops,post_ops,1000)\n",
    "violation = incompatible_measurement.bell_violation(counts[0],counts[1],1000,1000)\n",
    "print(violation)"
   ]
  },
  {
   "cell_type": "code",
   "execution_count": null,
   "metadata": {},
   "outputs": [],
   "source": []
  }
 ],
 "metadata": {
  "kernelspec": {
   "display_name": "Python 3",
   "language": "python",
   "name": "python3"
  },
  "language_info": {
   "codemirror_mode": {
    "name": "ipython",
    "version": 3
   },
   "file_extension": ".py",
   "mimetype": "text/x-python",
   "name": "python",
   "nbconvert_exporter": "python",
   "pygments_lexer": "ipython3",
   "version": "3.7.3"
  },
  "toc": {
   "base_numbering": 1,
   "nav_menu": {},
   "number_sections": false,
   "sideBar": true,
   "skip_h1_title": false,
   "title_cell": "Table of Contents",
   "title_sidebar": "Contents",
   "toc_cell": false,
   "toc_position": {
    "height": "177px",
    "left": "10px",
    "top": "150px",
    "width": "208px"
   },
   "toc_section_display": true,
   "toc_window_display": false
  }
 },
 "nbformat": 4,
 "nbformat_minor": 2
}
