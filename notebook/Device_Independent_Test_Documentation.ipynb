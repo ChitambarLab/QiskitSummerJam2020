{
 "cells": [
  {
   "cell_type": "markdown",
   "metadata": {},
   "source": [
    "# Device Independent Test Documentation"
   ]
  },
  {
   "cell_type": "markdown",
   "metadata": {},
   "source": [
    "Device Independent Test is a python library which runs tests on quantum systems through IBM's Qiskit.<br><br>\n",
    "The motivation for this library is the following scenario: there are two quantum computers (say, Alice's and Bob's) with some sort of network connecting them. We trust Alice's computer to be a functional quantum device. However, we do not yet trust Bob's computer. We wish to transmit states from Alice's computer to Bob's, and ask Bob to run certain operations to ascertain the functionality of our transmission and his system. <br><br>\n",
    "There are 3 tests in this library: dimensionality, incompatible measurements, and entanglement.<br><br>\n",
    "This library includes the following modules: dimension, incompatible_measurement, and entanglement. In addition, there are two classes: handshake and QuantumDispatcher. The documentation below goes over each of these files in detail."
   ]
  },
  {
   "cell_type": "markdown",
   "metadata": {},
   "source": [
    "# Classes"
   ]
  },
  {
   "cell_type": "markdown",
   "metadata": {},
   "source": [
    "## HandShake"
   ]
  },
  {
   "cell_type": "markdown",
   "metadata": {},
   "source": [
    "Interface between the user and the test modules. Initialized with an instance of QuantumDispatcher. You can use this object to run and store the results of tests. <br><br>\n",
    "\n",
    "<table style = \"width:90%\">\n",
    "    <tr>\n",
    "        <th>Methods</th>\n",
    "        <th>Descriptions</th>\n",
    "    </tr>\n",
    "    <tr>\n",
    "        <td><pre>dimensionality(tolerance, shots)</pre></td>\n",
    "        <td>Runs the dimensionality test with specified tolerance (float) and number of shots (int).</td>\n",
    "    </tr>\n",
    "    <tr>\n",
    "        <td><pre>measurement_incompatibility(tolerance, shots)</pre></td>\n",
    "        <td>Runs the incompatible measurement test with specified tolerance and shots. Returns a tuple with the pass/fail and the value of the bell violation.</td>\n",
    "    </tr>\n",
    "    <tr>\n",
    "        <td><pre>entanglement(tolerance, shots)</pre></td>\n",
    "        <td>Runs the entanglement test with specified tolerance and number of shots.</td>\n",
    "    </tr>\n",
    "    <tr>\n",
    "        <td><pre>test_all(params)</pre></td>\n",
    "        <td>Run all tests to verify functioning computer/connection. params should look like: {\"dimensionality\": {\"tolerance\": 0.1, \"shots\": 1000}}</td>\n",
    "    </tr>\n",
    "    <tr>\n",
    "        <td><pre>print_tests()</pre></td>\n",
    "        <td>Prints the available tests.</td>\n",
    "    </tr>\n",
    "</table><br><br>\n",
    "\n",
    "Below is an example of using a handshake object to run an incompatible measurment test."
   ]
  },
  {
   "cell_type": "code",
   "execution_count": null,
   "metadata": {},
   "outputs": [],
   "source": [
    "provider = IBMQ.load_account()\n",
    "dispatch = quantum_communicator.LocalDispatcher([provider.get_backend('ibmq_qasm_simulator')])\n",
    "test = incompatible_measurement.run_test(dispatch,0.0,1000)"
   ]
  },
  {
   "cell_type": "markdown",
   "metadata": {},
   "source": [
    "## QuantumDispatcher"
   ]
  },
  {
   "cell_type": "markdown",
   "metadata": {},
   "source": [
    "An abstract base class to generalize the dispatching and running of operations across a system. Offers an interface from which future classes that work with a quantum network can run the tests.\n",
    "<table style='width:90%'>\n",
    "    <tr>\n",
    "        <th>Methods</th>\n",
    "        <th>Descriptions</th>\n",
    "    </tr>\n",
    "    <tr>\n",
    "        <td><pre>__init__(backends)</pre></td>\n",
    "        <td>Constructor requiring a list of backends.</td>\n",
    "    <tr>\n",
    "            <th>Abstract Methods</th>\n",
    "            <th>Description</th>\n",
    "    </tr>\n",
    "    <tr>\n",
    "        <td><pre>run_and_transmit(\n",
    "                pre_operations,\n",
    "                post_operations,\n",
    "                shots)</pre></td>\n",
    "        <td>Dispatches a single job to the quantum system. The circuit specified in pre_operations is ran on the device responsible for preparing states. The states from input_registers are then sent to the output_registers. Next, the operations in the list post_operations are executed. The index of the operation in this array corresponds to which device it runs on. Returns a dictionary with the counts from measurements on the system. \n",
    "    <tr>\n",
    "        <td><pre>multi_run_and_transmit(\n",
    "            pre_operations,\n",
    "            post_operations,\n",
    "            shots)</pre></td>\n",
    "        <td>Dispatches multiple jobs to the quantum system. Pre_operations is a list of circuits. Post_operations is a list of lists, representing operations to run on different machines. Returns a list of dictionaries with the counts from measurements on the system.</td>\n",
    "            </tr>\n",
    "    <tr>\n",
    "        <td><pre>batch_run_and_transmit(\n",
    "            pre_operations,\n",
    "            post_operations,\n",
    "            shots)</td>\n",
    "        <td>Distpatches and runs all permuations of the given operations. Returns a list of dictionaries with the counts from measurements on the system.</td>\n",
    "</table>"
   ]
  },
  {
   "cell_type": "markdown",
   "metadata": {},
   "source": [
    "### LocalDispatcher"
   ]
  },
  {
   "cell_type": "markdown",
   "metadata": {},
   "source": [
    "Implements the Quantum_Dispatcher interface for running tests on a single computer. Note that the input and output register parameters are not used by this class.\n",
    "<table style = 'width:90%'>\n",
    "    <tr>\n",
    "        <th>Methods</th>\n",
    "        <th>Descriptions</th>\n",
    "    </tr>\n",
    "    <tr>\n",
    "        <td><pre>__init__(backends)<pre></td>\n",
    "        <td>Only the first element in the list backends is used.</td>\n",
    "    <tr>\n",
    "        <td><pre>run_and_transmit(\n",
    "        pre_operations,\n",
    "        post_operations,\n",
    "        shots)</pre></td>\n",
    "        <td>See QuantumDispatcher. Does not use the registers. Returns counts from running the circuits.\n",
    "    <tr>\n",
    "        <td><pre>multi_run_and_transmit(\n",
    "        pre_operations,\n",
    "        post_operations,\n",
    "        shots)</pre></td>\n",
    "        <td>See QuantumDispatcher. Does not use the registers. Returns a list of counts from running the circuits.</td>\n",
    "            </tr>\n",
    "    <tr>\n",
    "        <td><pre>batch_run_and_transmit(\n",
    "        pre_operations,\n",
    "        post_operations,\n",
    "        shots)</pre></td>\n",
    "        <td>See QuantumDispatcher. Does not use the registers. Returns a list of counts from running all permutations of the circuits.</td>\n",
    "</table><br><br>\n",
    "Below is an example of creating an instance of LocalDispatcher."
   ]
  },
  {
   "cell_type": "code",
   "execution_count": null,
   "metadata": {},
   "outputs": [],
   "source": [
    "provider = IBMQ.load_account()\n",
    "dispatch = quantum_communicator.LocalDispatcher([provider.get_backend('ibmq_qasm_simulator')])"
   ]
  },
  {
   "cell_type": "markdown",
   "metadata": {},
   "source": [
    "# Device Independent Test Modules"
   ]
  },
  {
   "cell_type": "markdown",
   "metadata": {},
   "source": [
    "## Dimension"
   ]
  },
  {
   "cell_type": "markdown",
   "metadata": {},
   "source": [
    "<table style='width:90%'>\n",
    "    <tr>\n",
    "        <th>Methods</th>\n",
    "        <th>Descriptions</th>\n",
    "    </tr>\n",
    "    <tr>\n",
    "        <td><pre>run_test(dispatcher, tolerance, shots)</pre></td>\n",
    "        <td>Runs dimensionality test for 2-qubits system. Alice prepares all possible\n",
    "    orthogonal states (no rotation), and Bob measures in corresponding canonical\n",
    "    states. Returns a tuple of (pass/fail, test value).<td>\n",
    "    </tr>\n",
    "</table>"
   ]
  },
  {
   "cell_type": "markdown",
   "metadata": {},
   "source": [
    "## Incompatible Measurement"
   ]
  },
  {
   "cell_type": "markdown",
   "metadata": {},
   "source": [
    "A module to conduct tests of Bell violations from incompatible measurements.\n",
    "<table style='width:90%'>\n",
    "    <tr>\n",
    "        <th>Methods</th>\n",
    "        <th>Descriptions</th>\n",
    "    </tr>\n",
    "    <tr>\n",
    "        <td><pre>run_test(dispatcher, tolerance, shots)</pre></td>\n",
    "        <td>Runs all incompatible measurements tests (seperate circuits). Creates and runs all cases x={0,1,2,3} and y={0,1} then determines if the bell inequality has been violated.  Returns a tuple of (pass/fail, test value).<td>\n",
    "    </tr>\n",
    "    <tr>\n",
    "        <td><pre>run_test_parallel(dispatcher, tolerance, shots)</pre></td>\n",
    "        <td>Runs all incompatible measurements test on 4 qubits in parallel for better performance.  Returns a tuple of (pass/fail, test value).</td>\n",
    "    </tr>\n",
    "</table>"
   ]
  },
  {
   "cell_type": "markdown",
   "metadata": {},
   "source": [
    "## Entanglement"
   ]
  },
  {
   "cell_type": "markdown",
   "metadata": {},
   "source": [
    "<table style='width:90%'>\n",
    "    <tr>\n",
    "        <th>Methods</th>\n",
    "        <th>Descriptions</th>\n",
    "    </tr>\n",
    "    <tr>\n",
    "        <td><pre>run_test(dispatcher, tolerance, shots)</pre></td>\n",
    "        <td>Runs a CHSH test with bell state and checks for Tsirelson bound within tolerance. Returns a tuple of (pass/fail, test value).<td>\n",
    "    </tr>\n",
    "    <tr>\n",
    "        <td><pre>run_test_parallel(dispatcher, tolerance, shots)</pre></td>\n",
    "        <td>Runs a CHSH test with bell state and checks for Tsirelson bound within tolerance. Tests are run in parallel for better performance. Returns a tuple of (pass/fail, test value). </td>\n",
    "    </tr>\n",
    "</table>"
   ]
  },
  {
   "cell_type": "markdown",
   "metadata": {},
   "source": [
    "# Example Code"
   ]
  },
  {
   "cell_type": "markdown",
   "metadata": {},
   "source": [
    "## HandShake Example"
   ]
  },
  {
   "cell_type": "code",
   "execution_count": 1,
   "metadata": {
    "scrolled": true
   },
   "outputs": [],
   "source": [
    "# Importing standard Qiskit libraries and configuring account\n",
    "from qiskit import QuantumCircuit, execute, Aer, IBMQ\n",
    "from qiskit.compiler import transpile, assemble\n",
    "from qiskit.tools.jupyter import *\n",
    "from qiskit.visualization import *\n",
    "from qiskit.providers.ibmq.managed import IBMQJobManager\n",
    "\n",
    "# Loading your IBM Q account(s)\n",
    "import qiskit\n",
    "from qiskit import IBMQ\n",
    "provider = IBMQ.load_account()\n",
    "\n",
    "import numpy as np\n",
    "\n",
    "import context\n",
    "from device_independent_test.handshake import HandShake\n",
    "from device_independent_test.quantum_communicator import LocalDispatcher\n",
    "from device_independent_test import entanglement"
   ]
  },
  {
   "cell_type": "markdown",
   "metadata": {},
   "source": [
    "Below is an incompatibility test that should output a violation."
   ]
  },
  {
   "cell_type": "code",
   "execution_count": 3,
   "metadata": {},
   "outputs": [
    {
     "name": "stdout",
     "output_type": "stream",
     "text": [
      "Passed Measurment Incompatibility with value:  6.806\n",
      "Passed Entanglement with value:  2.83\n",
      "Passed Dimensionality with value:  1.0\n"
     ]
    },
    {
     "data": {
      "text/plain": [
       "(True, 1.0)"
      ]
     },
     "execution_count": 3,
     "metadata": {},
     "output_type": "execute_result"
    }
   ],
   "source": [
    "communicator = LocalDispatcher([provider.get_backend('ibmq_qasm_simulator')])\n",
    "handshake = HandShake(communicator)\n",
    "handshake.measurement_incompatibility(0.2, 1000)\n",
    "handshake.entanglement(0.1, 1000)\n",
    "handshake.dimensionality(0.0, 1000)"
   ]
  },
  {
   "cell_type": "markdown",
   "metadata": {},
   "source": [
    "We can run all the test with specific parameters."
   ]
  },
  {
   "cell_type": "code",
   "execution_count": 4,
   "metadata": {},
   "outputs": [
    {
     "name": "stdout",
     "output_type": "stream",
     "text": [
      "Passed Dimensionality with value:  1.0\n",
      "Passed Measurment Incompatibility with value:  6.835999999999999\n",
      "Passed Entanglement with value:  2.8489999999999998\n"
     ]
    },
    {
     "data": {
      "text/plain": [
       "True"
      ]
     },
     "execution_count": 4,
     "metadata": {},
     "output_type": "execute_result"
    }
   ],
   "source": [
    "parameters = {\n",
    "    \"dimensionality\": { \"tolerance\": 0.1, \"shots\": 3000 }, \n",
    "    \"entanglement\": { \"tolerance\": 0.1, \"shots\": 2000 }, \n",
    "    \"measurement_incompatibility\": { \"tolerance\": 0.1, \"shots\": 1000 }\n",
    "}\n",
    "handshake.test_all(parameters)"
   ]
  }
 ],
 "metadata": {
  "kernelspec": {
   "display_name": "Python 3",
   "language": "python",
   "name": "python3"
  },
  "language_info": {
   "codemirror_mode": {
    "name": "ipython",
    "version": 3
   },
   "file_extension": ".py",
   "mimetype": "text/x-python",
   "name": "python",
   "nbconvert_exporter": "python",
   "pygments_lexer": "ipython3",
   "version": "3.7.5"
  },
  "toc": {
   "base_numbering": 1,
   "nav_menu": {},
   "number_sections": false,
   "sideBar": true,
   "skip_h1_title": false,
   "title_cell": "Table of Contents",
   "title_sidebar": "Contents",
   "toc_cell": false,
   "toc_position": {
    "height": "177px",
    "left": "10px",
    "top": "150px",
    "width": "208px"
   },
   "toc_section_display": true,
   "toc_window_display": false
  }
 },
 "nbformat": 4,
 "nbformat_minor": 2
}
