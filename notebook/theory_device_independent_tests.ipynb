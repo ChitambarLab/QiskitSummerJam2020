{
 "cells": [
  {
   "cell_type": "markdown",
   "metadata": {},
   "source": [
    "# Device-Independent Tests\n",
    "\n",
    "A device is a black-box system which performs some function or operation. The physical implementation inside the black-box could be classical, quantum, or even super-quantum, however it remains hidden and the focus of the test. \n",
    "\n",
    "\n",
    "Quantum communication protocols require devices to perform a number of basic quantum function such as preparing quantum superpositions, measuring with incompatible projectors, and creating entanglement.    \n",
    "\n"
   ]
  },
  {
   "cell_type": "markdown",
   "metadata": {},
   "source": [
    "## Ideal Device-Independent Tests\n",
    "\n",
    "A trusted Verifier tests two unknown devices labeled Alice and Bob. A test runs many rounds of the following protocol:\n",
    "\n",
    "1. The Verifier sends Alice and Bob indpendent random inputs $x$ and $y$ respectively.\n",
    "2. Alice and Bob perform a pre-specified task that transforms inputs $x$ and $y$ into discrete outputs $a$ and $b$ respectively.\n",
    "3. The Verifier records $a$ and $b$ and repeats the test.\n",
    "\n",
    "<img src=\"img/ideal_device_independent_test.png\" alt=\"Drawing\" style=\"width: 500px;\"/>\n",
    "\n",
    "After many rounds have been run, the Verifier can construct a joint probability distribution for the devices $p(a,b|x,y)$. In nature, bounds known as Bell inequalities exist on the classical joint probability distributions. In certain scenarios, it is known that quantum resources facilitate the violation of Bell inequalities [1].  \n",
    "\n",
    "### Test Assumptions\n",
    "\n",
    "1. Inputs $x$ and $y$ are sampled from independent random distributions and are private to each party.\n",
    "2. The prior distributions of inputs are uniform and known to all parties.\n",
    "3. Alice and Bob have limited communication resources.\n",
    "\n",
    "### Communication Resources\n",
    "\n",
    "Each test uniquely specifies the allowed communication resources and their limitations. The communication resources are ordered from strongest to weakest [2]\n",
    "\n",
    "1. ***Quantum Communication:*** quantum states (*qubits*)\n",
    "2. ***Classical Communication:*** classical states (*cbits*)\n",
    "3. ***Quantum Entanglement:*** bipartite entanglement (*ebits*)\n",
    "4. ***Shared Randomness:*** public coin flips\n",
    "5. ***Local Randomness:*** private coin flips\n",
    "\n",
    "#### Simulating Quantum Systems with Classical Protocols\n",
    "\n",
    "Clasical simulations exist for communication resources:\n",
    "\n",
    "* Bipartite entanglement correlations can be simulated using shared randomness and 1-*cbit* [3]. \n",
    "* Quantum communication with 1-*qubit* can be simulated with 2-*cbits* and 1-*ebit* [2].\n",
    "\n",
    "Therefore, it is essential for a device-independent test to place restrictions on the communication resources used.\n",
    "\n",
    "#### Communication Security and Classical Simulations\n",
    "\n",
    "One of the key advantages of quantum communication is cryptography. However, secure quantum protocols rely on devices which are truly quantum to perform the protocols. If a classical pair of devices is able to simulate a quantum system, the Verifier may be fooled into thinking that devices Alice and Bob are capable of securely performing a quantum cryptography protocol. This misconception would put the verifier at risk of sharing private information with potentially malicious devices.\n"
   ]
  },
  {
   "cell_type": "markdown",
   "metadata": {},
   "source": [
    "## Partial Device-Independent Tests\n",
    "\n",
    "In real-world scenarios, it is difficult to enforce communication limitations between parties. However, if one of the devices can be characterized and trusted, it can be used to ensure communication limitations. For such a scenario, the Verifier uses a trusted device to perform device-independent tests which can only pass if the unknown device faithfully performs its tasks.\n",
    "\n",
    "<img src=\"img/partial_device_independent_test.png\" alt=\"Drawing\" style=\"width: 500px;\"/>\n",
    "\n",
    "For example, in a test where a single photon is sent from Alice to Bob. If Alice (or Bob) can be trusted to send (or receive) a single photon, then the trusted device can ensure the sanctity of the test. If trust in the device is compromised then the test is no longer meaningful because communication restrictions may have been broken. This would allow for a classical system to simulate quantum device statistics giving parties with malicious intent access to further information exchange. \n",
    "\n",
    "A device-independent should only pass if both parties faithfully execute their tasks. It doesn't matter whether Alice or Bob is the trusted device because ensuring one party fulfills their duty is sufficient to deduce that the other party must have as well.\n",
    "\n",
    "A partial device-independent test allows for a single party to verify a unknown devices capabilities. It does not provide the unknown device with any trust because the verifier could be sharing Bob's secret inputs with Alice. The solution is for each devices to characterize the other.\n",
    "\n",
    "1. A Verifier which trusts Alice runs the handshake protocol to verify Bob's quantum capabilities.\n",
    "2. A Verifier which trusts Bob runs the handshake protocol to verify Alices' quantum capabilities.\n",
    "\n",
    "It is not advantageous to use the trust between Verifier and device to cheat at the test. The objective of running the test in the first place is to verify an unknown device. If the Verifier cheats, the sanctity of the test is diminished and removing any incentive for the Verifier to cheat."
   ]
  },
  {
   "cell_type": "markdown",
   "metadata": {},
   "source": [
    "## Device Trust Through Community Verification\n",
    "\n",
    "For a partial device-independent test to be meaningful, the Verifier must trust one of the devices involved. Gaining this trust is a difficult task, however, community-driven approach may be able to improve the trust of an unknown device. Community verificication could be implemented in the following way.\n",
    "\n",
    "In the setting of a quantum network, there will be many connected devices. To establish trust of a device's quantum capabilities, it is possible for a Verifier to use the untrusted device to run tests against a large number of devices. If the community of devices has a large number of quantum capable devices, it would be possible leverage the community to gain trust in an untrusted device.\n",
    "\n",
    "Furthermore, in a realistic setting, quantum devices used on a quantum network will be subject to standardization and regulation. This will provide unknown devices some merit of truth about their quantum capabalities. With a community verification system in place, a breach of network security would require the majority of devices to be compromised. These are hypothetical situations, but illustrate how community verification might be useful to gain basic trust of a device."
   ]
  },
  {
   "cell_type": "markdown",
   "metadata": {},
   "source": [
    "## References\n",
    "\n",
    "[1] Brunner, Nicolas, et al. \"Bell nonlocality.\" Reviews of Modern Physics 86.2 (2014): 419.\n",
    "\n",
    "[2] Buhrman, Harry, et al. \"Nonlocality and communication complexity.\" *Reviews of modern physics* 82.1 (2010): 665.\n",
    "\n",
    "[3] Toner, Benjamin F., and Dave Bacon. \"Communication cost of simulating Bell correlations.\" *Physical Review Letters* 91.18 (2003): 1879\n",
    "\n"
   ]
  },
  {
   "cell_type": "code",
   "execution_count": null,
   "metadata": {},
   "outputs": [],
   "source": []
  }
 ],
 "metadata": {
  "kernelspec": {
   "display_name": "Python 3",
   "language": "python",
   "name": "python3"
  },
  "language_info": {
   "codemirror_mode": {
    "name": "ipython",
    "version": 3
   },
   "file_extension": ".py",
   "mimetype": "text/x-python",
   "name": "python",
   "nbconvert_exporter": "python",
   "pygments_lexer": "ipython3",
   "version": "3.7.4"
  }
 },
 "nbformat": 4,
 "nbformat_minor": 2
}
