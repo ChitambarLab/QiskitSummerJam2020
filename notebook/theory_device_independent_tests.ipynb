{
 "cells": [
  {
   "cell_type": "markdown",
   "metadata": {},
   "source": [
    "# Device-Independent Tests\n",
    "\n",
    "A device is a black-box system which performs some function or operation. The physical implementation inside the black-box could be classical, quantum, or even super-quantum, however it remains hidden and the focus of the test. \n",
    "\n",
    "\n",
    "Quantum communication protocols require devices to perform a number of basic quantum function such as preparing quantum superpositions, measuring with incompatible projectors, and creating entanglement.    \n",
    "\n"
   ]
  },
  {
   "cell_type": "markdown",
   "metadata": {},
   "source": [
    "## Ideal Device-Independent Tests\n",
    "\n",
    "### Assumptions\n",
    "\n",
    "\n"
   ]
  },
  {
   "cell_type": "markdown",
   "metadata": {},
   "source": [
    "## Partial Device-Independent Tests\n",
    "\n",
    "In a real-world scenario, it is difficult to enforce communication limitations between parties. However, if one of the devices can be characterized and trusted, it can be used to ensure communication limitations. For example, in a test where a single photon is sent from Alice to Bob. If Alice (or Bob) can be trusted to send (or receive) a single photon, then the trusted device can ensure the sanctity of the test. If trust in the device is compromised then the test is no longer meaningful because communication restrictions may have been broken. This would allow for a classical system to simulate quantum device statistics giving parties with malicious intent access to further information exchange. \n"
   ]
  },
  {
   "cell_type": "markdown",
   "metadata": {},
   "source": [
    "## Verifying Minimal Hilbert Space Dimension\n"
   ]
  },
  {
   "cell_type": "markdown",
   "metadata": {},
   "source": [
    "## Verifying Superposition & Measurement Incompatibility\n"
   ]
  },
  {
   "cell_type": "markdown",
   "metadata": {},
   "source": [
    "## Verifying Entanglement"
   ]
  },
  {
   "cell_type": "code",
   "execution_count": null,
   "metadata": {},
   "outputs": [],
   "source": []
  }
 ],
 "metadata": {
  "kernelspec": {
   "display_name": "Python 3",
   "language": "python",
   "name": "python3"
  },
  "language_info": {
   "codemirror_mode": {
    "name": "ipython",
    "version": 3
   },
   "file_extension": ".py",
   "mimetype": "text/x-python",
   "name": "python",
   "nbconvert_exporter": "python",
   "pygments_lexer": "ipython3",
   "version": "3.7.4"
  }
 },
 "nbformat": 4,
 "nbformat_minor": 2
}
