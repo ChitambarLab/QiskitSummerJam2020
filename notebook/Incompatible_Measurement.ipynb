{
 "cells": [
  {
   "cell_type": "markdown",
   "metadata": {},
   "source": [
    "# Measurement Incompatibility Testing"
   ]
  },
  {
   "cell_type": "code",
   "execution_count": null,
   "metadata": {},
   "outputs": [],
   "source": [
    "# Make sure to load your IBM Q token before running the below block"
   ]
  },
  {
   "cell_type": "code",
   "execution_count": 1,
   "metadata": {},
   "outputs": [],
   "source": [
    "# Importing standard Qiskit libraries and configuring account\n",
    "from qiskit import QuantumCircuit, execute, Aer, IBMQ\n",
    "from qiskit.compiler import transpile, assemble\n",
    "from qiskit.tools.jupyter import *\n",
    "from qiskit.visualization import *\n",
    "from qiskit.providers.ibmq.managed import IBMQJobManager\n",
    "\n",
    "# Loading your IBM Q account(s)\n",
    "provider = IBMQ.load_account()\n",
    "\n",
    "import matplotlib.pyplot as plt\n",
    "import numpy as np\n",
    "\n",
    "# custom code\n",
    "import context\n",
    "from device_independent_test import incompatible_measurement\n",
    "from device_independent_test import quantum_communicator"
   ]
  },
  {
   "cell_type": "code",
   "execution_count": 2,
   "metadata": {},
   "outputs": [],
   "source": [
    "def bb84_states():\n",
    "    # Alice's half of the circuit\n",
    "    # creates 0,1,+,-\n",
    "    qc = QuantumCircuit(4)\n",
    "    qc.x(1) # create 1\n",
    "    qc.h(2) # create +\n",
    "    qc.x(3) # create -\n",
    "    qc.h(3) # ^\n",
    "    return qc"
   ]
  },
  {
   "cell_type": "code",
   "execution_count": 3,
   "metadata": {},
   "outputs": [],
   "source": [
    "def measure_circuit(y):\n",
    "    # Bob's measurement circuit\n",
    "    # measure in either pi/4 or 3pi/4 basis\n",
    "    assert y == 0 or y == 1, \"Bob's input should be 0 or 1\"\n",
    "    qc = QuantumCircuit(4)\n",
    "    theta = -1.0*(np.pi/4 + 0.5*y*np.pi)\n",
    "    qc.u3(theta,0,0,range(0,4))\n",
    "    #qc.u3(theta,0,0,1)\n",
    "    #qc.u3(theta,0,0,2)\n",
    "    #qc.u3(theta,0,0,3)\n",
    "    qc.measure_all()\n",
    "    return qc"
   ]
  },
  {
   "cell_type": "code",
   "execution_count": 4,
   "metadata": {
    "scrolled": false
   },
   "outputs": [
    {
     "data": {
      "text/html": [
       "<pre style=\"word-wrap: normal;white-space: pre;background: #fff0;line-height: 1.1;font-family: &quot;Courier New&quot;,Courier,monospace\">        ┌───────────────┐                                   ░ ┌─┐         \n",
       "   q_0: ┤ U3(-pi/4,0,0) ├───────────────────────────────────░─┤M├─────────\n",
       "        └─────┬───┬─────┘┌───────────────┐                  ░ └╥┘┌─┐      \n",
       "   q_1: ──────┤ X ├──────┤ U3(-pi/4,0,0) ├──────────────────░──╫─┤M├──────\n",
       "              ├───┤      ├───────────────┤                  ░  ║ └╥┘┌─┐   \n",
       "   q_2: ──────┤ H ├──────┤ U3(-pi/4,0,0) ├──────────────────░──╫──╫─┤M├───\n",
       "              ├───┤      └─────┬───┬─────┘┌───────────────┐ ░  ║  ║ └╥┘┌─┐\n",
       "   q_3: ──────┤ X ├────────────┤ H ├──────┤ U3(-pi/4,0,0) ├─░──╫──╫──╫─┤M├\n",
       "              └───┘            └───┘      └───────────────┘ ░  ║  ║  ║ └╥┘\n",
       "meas_0: ═══════════════════════════════════════════════════════╩══╬══╬══╬═\n",
       "                                                                  ║  ║  ║ \n",
       "meas_1: ══════════════════════════════════════════════════════════╩══╬══╬═\n",
       "                                                                     ║  ║ \n",
       "meas_2: ═════════════════════════════════════════════════════════════╩══╬═\n",
       "                                                                        ║ \n",
       "meas_3: ════════════════════════════════════════════════════════════════╩═\n",
       "                                                                          </pre>"
      ],
      "text/plain": [
       "        ┌───────────────┐                                   ░ ┌─┐         \n",
       "   q_0: ┤ U3(-pi/4,0,0) ├───────────────────────────────────░─┤M├─────────\n",
       "        └─────┬───┬─────┘┌───────────────┐                  ░ └╥┘┌─┐      \n",
       "   q_1: ──────┤ X ├──────┤ U3(-pi/4,0,0) ├──────────────────░──╫─┤M├──────\n",
       "              ├───┤      ├───────────────┤                  ░  ║ └╥┘┌─┐   \n",
       "   q_2: ──────┤ H ├──────┤ U3(-pi/4,0,0) ├──────────────────░──╫──╫─┤M├───\n",
       "              ├───┤      └─────┬───┬─────┘┌───────────────┐ ░  ║  ║ └╥┘┌─┐\n",
       "   q_3: ──────┤ X ├────────────┤ H ├──────┤ U3(-pi/4,0,0) ├─░──╫──╫──╫─┤M├\n",
       "              └───┘            └───┘      └───────────────┘ ░  ║  ║  ║ └╥┘\n",
       "meas_0: ═══════════════════════════════════════════════════════╩══╬══╬══╬═\n",
       "                                                                  ║  ║  ║ \n",
       "meas_1: ══════════════════════════════════════════════════════════╩══╬══╬═\n",
       "                                                                     ║  ║ \n",
       "meas_2: ═════════════════════════════════════════════════════════════╩══╬═\n",
       "                                                                        ║ \n",
       "meas_3: ════════════════════════════════════════════════════════════════╩═\n",
       "                                                                          "
      ]
     },
     "execution_count": 4,
     "metadata": {},
     "output_type": "execute_result"
    }
   ],
   "source": [
    "qc = bb84_states() + measure_circuit(0)\n",
    "qc.draw()"
   ]
  },
  {
   "cell_type": "code",
   "execution_count": 136,
   "metadata": {
    "scrolled": true
   },
   "outputs": [
    {
     "ename": "SyntaxError",
     "evalue": "positional argument follows keyword argument (<ipython-input-136-b0fe4b8dea3e>, line 12)",
     "output_type": "error",
     "traceback": [
      "\u001b[0;36m  File \u001b[0;32m\"<ipython-input-136-b0fe4b8dea3e>\"\u001b[0;36m, line \u001b[0;32m12\u001b[0m\n\u001b[0;31m    job = execute(qc, backend=provider.get_backend('ibmq_qasm_simulator'), 1000)\u001b[0m\n\u001b[0m                                                                          ^\u001b[0m\n\u001b[0;31mSyntaxError\u001b[0m\u001b[0;31m:\u001b[0m positional argument follows keyword argument\n"
     ]
    }
   ],
   "source": [
    "# OUTDATED CODE\n",
    "# SEE CELL BELOW FOR BATCH JOB\n",
    "\n",
    "from qiskit.tools.monitor import *\n",
    "def run_job(qc):\n",
    "    # runs test on all inputs\n",
    "    # run cicuits in one batch\n",
    "    #job_manager = IBMQJobManager()\n",
    "    #job_set = job_manager.run([qc_0, qc_1], backend=provider.get_backend('ibmq_qasm_simulator'), name='msrincom_test')\n",
    "    #job_monitor(job_set)\n",
    "    #job_set.error_message()\n",
    "    job = execute(qc, backend=provider.get_backend('ibmq_qasm_simulator'), shots=1000)\n",
    "    job_monitor(job)\n",
    "    return job\n",
    "qc_0 = bb84_states() + measure_circuit(0)\n",
    "job = run_job(qc_0)\n",
    "job.result().get_counts(qc_0)\n",
    "plot_histogram(job.result().get_counts(qc_0))\n"
   ]
  },
  {
   "cell_type": "code",
   "execution_count": 78,
   "metadata": {},
   "outputs": [],
   "source": [
    "from qiskit.tools.monitor import *\n",
    "def run_jobs(qc):\n",
    "    # run cicuits in one batch\n",
    "    job_manager = IBMQJobManager()\n",
    "    job_set = job_manager.run(qc, backend=provider.get_backend('ibmq_qasm_simulator'), name='msrincom_test')\n",
    "    job_set.error_messages()\n",
    "    return job_set\n",
    "qc_0 = bb84_states() + measure_circuit(0)\n",
    "qc_1 = bb84_states() + measure_circuit(1)\n",
    "managed_job = run_jobs([qc_0,qc_1])\n"
   ]
  },
  {
   "cell_type": "code",
   "execution_count": 83,
   "metadata": {},
   "outputs": [
    {
     "data": {
      "text/plain": [
       "{'1011': 85,\n",
       " '0000': 17,\n",
       " '0001': 2,\n",
       " '1001': 23,\n",
       " '1111': 20,\n",
       " '1100': 18,\n",
       " '1010': 524,\n",
       " '0010': 104,\n",
       " '0100': 4,\n",
       " '0111': 3,\n",
       " '1101': 4,\n",
       " '0110': 10,\n",
       " '1110': 94,\n",
       " '1000': 105,\n",
       " '0011': 11}"
      ]
     },
     "execution_count": 83,
     "metadata": {},
     "output_type": "execute_result"
    }
   ],
   "source": [
    "result_0 = managed_job.job(0)[0].result()\n",
    "result_1 = managed_job.job(1)[0].result()\n",
    "#managed_job.job(0)[0].error_message()\n",
    "result_0.get_counts(qc_0)"
   ]
  },
  {
   "cell_type": "code",
   "execution_count": 33,
   "metadata": {},
   "outputs": [
    {
     "name": "stdout",
     "output_type": "stream",
     "text": [
      "Job Status: job has successfully run\n"
     ]
    },
    {
     "data": {
      "image/png": "[encoded data removed]",
      "text/plain": [
       "<Figure size 504x360 with 1 Axes>"
      ]
     },
     "execution_count": 33,
     "metadata": {},
     "output_type": "execute_result"
    }
   ],
   "source": [
    "qc_1 = bb84_states() + measure_circuit(1)\n",
    "job2 = run_job(qc_1)\n",
    "job2.result().get_counts(qc_1)\n",
    "plot_histogram(job2.result().get_counts(qc_1))"
   ]
  },
  {
   "cell_type": "code",
   "execution_count": 61,
   "metadata": {},
   "outputs": [
    {
     "name": "stdout",
     "output_type": "stream",
     "text": [
      "{'1011': 78, '0000': 11, '0001': 103, '1001': 523, '1111': 17, '1100': 14, '0101': 19, '1010': 16, '0111': 3, '1101': 103, '0110': 1, '1110': 5, '1000': 91, '0011': 16}\n",
      "[[138. 864. 838. 153.]\n",
      " [862. 136. 162. 847.]]\n",
      "[[0.138 0.864 0.838 0.153]\n",
      " [0.862 0.136 0.162 0.847]]\n"
     ]
    }
   ],
   "source": [
    "counts = job2.result().get_counts(qc_1)\n",
    "print(counts)\n",
    "\n",
    "# 2x4 matrix for probabilities\n",
    "# row for x\n",
    "# column for y\n",
    "bins = (2,4)\n",
    "bins = np.zeros(bins)\n",
    "\n",
    "# iterate over dictionary\n",
    "for state in counts:\n",
    "    for i in range(0,4):\n",
    "        r = int(state[i])\n",
    "        c = 3 - i\n",
    "        bins[r,c] += counts[state]\n",
    "print(bins)\n",
    "# convert bins to probibilities\n",
    "probs = bins / 1000.0\n",
    "print(probs)"
   ]
  },
  {
   "cell_type": "code",
   "execution_count": 132,
   "metadata": {},
   "outputs": [],
   "source": [
    "from qiskit.quantum_info import Statevector"
   ]
  },
  {
   "cell_type": "code",
   "execution_count": 133,
   "metadata": {},
   "outputs": [
    {
     "name": "stdout",
     "output_type": "stream",
     "text": [
      "Statevector([ 0. +0.j,  0. +0.j,  0.5+0.j,  0. +0.j,  0. +0.j,  0. +0.j,\n",
      "              0.5+0.j,  0. +0.j,  0. +0.j,  0. +0.j, -0.5+0.j,  0. +0.j,\n",
      "              0. +0.j,  0. +0.j, -0.5+0.j,  0. +0.j],\n",
      "            dims=(2, 2, 2, 2))\n",
      "[ 0. +0.j  0. +0.j  0.5+0.j  0. +0.j  0. +0.j  0. +0.j  0.5+0.j  0. +0.j\n",
      "  0. +0.j  0. +0.j -0.5+0.j  0. +0.j  0. +0.j  0. +0.j -0.5+0.j  0. +0.j]\n",
      "[ True  True False  True  True  True False  True  True  True False  True\n",
      "  True  True False  True]\n",
      "(0.4999999999999999+0j)\n"
     ]
    },
    {
     "data": {
      "text/plain": [
       "False"
      ]
     },
     "execution_count": 133,
     "metadata": {},
     "output_type": "execute_result"
    }
   ],
   "source": [
    "qc = bb84_states()\n",
    "state = Statevector.from_instruction(qc)\n",
    "print(state)\n",
    "real_state = [0,0,0.5+0.j,0,0,0,0.5,0,0,0,-0.5,0,0,0,-0.5,0]\n",
    "print(state.data)\n",
    "print(state.data == real_state)\n",
    "print(state.data[2])\n",
    "error = abs(state.data-real_state)\n",
    "epsilon = 1.0E-4\n",
    "any(x>epsilon for x in error)"
   ]
  },
  {
   "cell_type": "markdown",
   "metadata": {},
   "source": [
    "# Communicator Testing"
   ]
  },
  {
   "cell_type": "code",
   "execution_count": 5,
   "metadata": {
    "scrolled": true
   },
   "outputs": [
    {
     "name": "stdout",
     "output_type": "stream",
     "text": [
      "<device_independent_test.quantum_communicator.LocalCommunicator object at 0x120bb81d0>\n"
     ]
    },
    {
     "data": {
      "text/html": [
       "<pre style=\"word-wrap: normal;white-space: pre;background: #fff0;line-height: 1.1;font-family: &quot;Courier New&quot;,Courier,monospace\">        ┌───────────────┐ ░ ┌─┐         \n",
       "   q_0: ┤ U3(-pi/4,0,0) ├─░─┤M├─────────\n",
       "        ├───────────────┤ ░ └╥┘┌─┐      \n",
       "   q_1: ┤ U3(-pi/4,0,0) ├─░──╫─┤M├──────\n",
       "        ├───────────────┤ ░  ║ └╥┘┌─┐   \n",
       "   q_2: ┤ U3(-pi/4,0,0) ├─░──╫──╫─┤M├───\n",
       "        ├───────────────┤ ░  ║  ║ └╥┘┌─┐\n",
       "   q_3: ┤ U3(-pi/4,0,0) ├─░──╫──╫──╫─┤M├\n",
       "        └───────────────┘ ░  ║  ║  ║ └╥┘\n",
       "meas_0: ═════════════════════╩══╬══╬══╬═\n",
       "                                ║  ║  ║ \n",
       "meas_1: ════════════════════════╩══╬══╬═\n",
       "                                   ║  ║ \n",
       "meas_2: ═══════════════════════════╩══╬═\n",
       "                                      ║ \n",
       "meas_3: ══════════════════════════════╩═\n",
       "                                        </pre>"
      ],
      "text/plain": [
       "        ┌───────────────┐ ░ ┌─┐         \n",
       "   q_0: ┤ U3(-pi/4,0,0) ├─░─┤M├─────────\n",
       "        ├───────────────┤ ░ └╥┘┌─┐      \n",
       "   q_1: ┤ U3(-pi/4,0,0) ├─░──╫─┤M├──────\n",
       "        ├───────────────┤ ░  ║ └╥┘┌─┐   \n",
       "   q_2: ┤ U3(-pi/4,0,0) ├─░──╫──╫─┤M├───\n",
       "        ├───────────────┤ ░  ║  ║ └╥┘┌─┐\n",
       "   q_3: ┤ U3(-pi/4,0,0) ├─░──╫──╫──╫─┤M├\n",
       "        └───────────────┘ ░  ║  ║  ║ └╥┘\n",
       "meas_0: ═════════════════════╩══╬══╬══╬═\n",
       "                                ║  ║  ║ \n",
       "meas_1: ════════════════════════╩══╬══╬═\n",
       "                                   ║  ║ \n",
       "meas_2: ═══════════════════════════╩══╬═\n",
       "                                      ║ \n",
       "meas_3: ══════════════════════════════╩═\n",
       "                                        "
      ]
     },
     "metadata": {},
     "output_type": "display_data"
    },
    {
     "name": "stdout",
     "output_type": "stream",
     "text": [
      "4\n"
     ]
    },
    {
     "data": {
      "image/png": "[encoded data removed]",
      "text/plain": [
       "<Figure size 504x360 with 1 Axes>"
      ]
     },
     "execution_count": 5,
     "metadata": {},
     "output_type": "execute_result"
    }
   ],
   "source": [
    "communicator = quantum_communicator.LocalCommunicator([provider.get_backend('ibmq_qasm_simulator')])\n",
    "print(communicator)\n",
    "pre_operations = bb84_states()\n",
    "post_operations = (QuantumCircuit(4),measure_circuit(0))\n",
    "display(post_operations[1].draw())\n",
    "size = max(post_operations[0].num_qubits,post_operations[1].num_qubits)\n",
    "print(size)\n",
    "counts = communicator.run_and_transmit(\"nothing\",\"nothing\",pre_operations,post_operations,1000)\n",
    "plot_histogram(counts)"
   ]
  },
  {
   "cell_type": "code",
   "execution_count": 4,
   "metadata": {},
   "outputs": [
    {
     "name": "stdout",
     "output_type": "stream",
     "text": [
      "[{'1000': 99, '1001': 18, '0011': 23, '1111': 11, '1100': 9, '0010': 92, '0001': 5, '1010': 531, '0110': 12, '0000': 17, '0111': 4, '1011': 88, '0100': 6, '1101': 2, '1110': 83}, {'NO MEASUREMENT': 0}, {'1000': 94, '1001': 18, '0011': 18, '1111': 15, '1100': 17, '0010': 93, '0001': 2, '1010': 507, '0110': 22, '0000': 21, '0111': 3, '1011': 80, '0100': 2, '1101': 2, '1110': 106}, {'NO MEASUREMENT': 0}, {'1000': 77, '1001': 18, '0011': 23, '1111': 28, '1100': 19, '0010': 91, '0001': 1, '1010': 517, '0110': 15, '0000': 18, '0111': 2, '1011': 100, '0100': 1, '1101': 5, '1110': 85}, {'NO MEASUREMENT': 0}, {'0110': 12, '0111': 3, '1011': 97, '0100': 1, '1110': 95, '1000': 85, '1001': 16, '0011': 14, '1111': 12, '1100': 16, '0010': 111, '0001': 1, '1010': 517, '0000': 17, '0101': 1, '1101': 2}, {'NO MEASUREMENT': 0}]\n"
     ]
    }
   ],
   "source": [
    "communicator = quantum_communicator.LocalCommunicator([provider.get_backend('ibmq_qasm_simulator')])\n",
    "pre_operations = [bb84_states(),bb84_states()]\n",
    "post_operations = [[QuantumCircuit(4),QuantumCircuit(4)],[measure_circuit(0),QuantumCircuit(4)]]\n",
    "counts = communicator.batch_run_and_transmit(\"\",\"\",pre_operations,post_operations,1000)\n",
    "print(counts)"
   ]
  },
  {
   "cell_type": "code",
   "execution_count": 9,
   "metadata": {},
   "outputs": [
    {
     "name": "stdout",
     "output_type": "stream",
     "text": [
      "[[1, 2, 3], [4, 5, 6], [7, 8, 9]]\n",
      "3\n",
      "4\n"
     ]
    }
   ],
   "source": [
    "test = [[1,2,3],[4,5,6],[7,8,9]]\n",
    "print(test)\n",
    "print(test[0][2])\n",
    "print(test[1][0])"
   ]
  },
  {
   "cell_type": "code",
   "execution_count": 4,
   "metadata": {},
   "outputs": [
    {
     "data": {
      "text/html": [
       "<pre style=\"word-wrap: normal;white-space: pre;background: #fff0;line-height: 1.1;font-family: &quot;Courier New&quot;,Courier,monospace\">     ┌───────────────┐                                  \n",
       "q_0: ┤ U3(-pi/4,0,0) ├──────────────────────────────────\n",
       "     └─────┬───┬─────┘┌───────────────┐                 \n",
       "q_1: ──────┤ X ├──────┤ U3(-pi/4,0,0) ├─────────────────\n",
       "           ├───┤      ├───────────────┤                 \n",
       "q_2: ──────┤ H ├──────┤ U3(-pi/4,0,0) ├─────────────────\n",
       "           ├───┤      └─────┬───┬─────┘┌───────────────┐\n",
       "q_3: ──────┤ X ├────────────┤ H ├──────┤ U3(-pi/4,0,0) ├\n",
       "           └───┘            └───┘      └───────────────┘</pre>"
      ],
      "text/plain": [
       "     ┌───────────────┐                                  \n",
       "q_0: ┤ U3(-pi/4,0,0) ├──────────────────────────────────\n",
       "     └─────┬───┬─────┘┌───────────────┐                 \n",
       "q_1: ──────┤ X ├──────┤ U3(-pi/4,0,0) ├─────────────────\n",
       "           ├───┤      ├───────────────┤                 \n",
       "q_2: ──────┤ H ├──────┤ U3(-pi/4,0,0) ├─────────────────\n",
       "           ├───┤      └─────┬───┬─────┘┌───────────────┐\n",
       "q_3: ──────┤ X ├────────────┤ H ├──────┤ U3(-pi/4,0,0) ├\n",
       "           └───┘            └───┘      └───────────────┘"
      ]
     },
     "metadata": {},
     "output_type": "display_data"
    },
    {
     "data": {
      "text/html": [
       "<pre style=\"word-wrap: normal;white-space: pre;background: #fff0;line-height: 1.1;font-family: &quot;Courier New&quot;,Courier,monospace\">     \n",
       "q_0: \n",
       "     \n",
       "q_1: \n",
       "     \n",
       "q_2: \n",
       "     \n",
       "q_3: \n",
       "     </pre>"
      ],
      "text/plain": [
       "     \n",
       "q_0: \n",
       "     \n",
       "q_1: \n",
       "     \n",
       "q_2: \n",
       "     \n",
       "q_3: \n",
       "     "
      ]
     },
     "metadata": {},
     "output_type": "display_data"
    },
    {
     "data": {
      "text/html": [
       "<pre style=\"word-wrap: normal;white-space: pre;background: #fff0;line-height: 1.1;font-family: &quot;Courier New&quot;,Courier,monospace\">               \n",
       "q_0: ──────────\n",
       "     ┌───┐     \n",
       "q_1: ┤ X ├─────\n",
       "     ├───┤     \n",
       "q_2: ┤ H ├─────\n",
       "     ├───┤┌───┐\n",
       "q_3: ┤ X ├┤ H ├\n",
       "     └───┘└───┘</pre>"
      ],
      "text/plain": [
       "               \n",
       "q_0: ──────────\n",
       "     ┌───┐     \n",
       "q_1: ┤ X ├─────\n",
       "     ├───┤     \n",
       "q_2: ┤ H ├─────\n",
       "     ├───┤┌───┐\n",
       "q_3: ┤ X ├┤ H ├\n",
       "     └───┘└───┘"
      ]
     },
     "metadata": {},
     "output_type": "display_data"
    },
    {
     "name": "stdout",
     "output_type": "stream",
     "text": [
      "{'0': 0}\n"
     ]
    }
   ],
   "source": [
    "communicator = quantum_communicator.LocalCommunicator([provider.get_backend('ibmq_qasm_simulator')])\n",
    "pre_operations = [bb84_states(),QuantumCircuit(4),bb84_states()]\n",
    "#post_operations = [[QuantumCircuit(4),QuantumCircuit(4),QuantumCircuit(4)],[measure_circuit(0),QuantumCircuit(4),measure_circuit(1)]]\n",
    "post_operations = [[QuantumCircuit(4),measure_circuit(0)],[QuantumCircuit(4),QuantumCircuit(4)],[QuantumCircuit(4),QuantumCircuit(4)]]\n",
    "count0 = communicator.run_and_transmit(\"\",\"\",pre_operations[0],post_operations[0],1000)\n",
    "#count1 = communicator.run_and_transmit(\"\",\"\",pre_operations[0],[post_operations[0][0],post_operations[1][0]],1000)\n",
    "#count2 = communicator.run_and_transmit(\"\",\"\",pre_operations[0],[post_operations[0][0],post_operations[1][0]],1000)\n",
    "count1 = communicator.run_and_transmit(\"\",\"\",pre_operations[1],post_operations[1],1000)\n",
    "count2 = communicator.run_and_transmit(\"\",\"\",pre_operations[2],post_operations[2],1000)\n",
    "print(count2)\n",
    "#print(count1)\n",
    "#print(count2)"
   ]
  },
  {
   "cell_type": "code",
   "execution_count": 6,
   "metadata": {},
   "outputs": [
    {
     "name": "stdout",
     "output_type": "stream",
     "text": [
      "{'0010 0010': 93, '1011 1011': 91, '1111 1111': 18, '0100 0100': 4, '1000 1000': 80, '1110 1110': 86, '0111 0111': 2, '0011 0011': 16, '0110 0110': 12, '0001 0001': 5, '1001 1001': 14, '1100 1100': 22, '1101 1101': 2, '1010 1010': 541, '0000 0000': 14}\n"
     ]
    }
   ],
   "source": [
    "print(count0)"
   ]
  },
  {
   "cell_type": "code",
   "execution_count": 9,
   "metadata": {},
   "outputs": [
    {
     "name": "stdout",
     "output_type": "stream",
     "text": [
      "[{'1010': 557, '0111': 1, '0001': 5, '0011': 15, '0100': 1, '0000': 16, '0010': 91, '1110': 84, '1000': 91, '1111': 19, '1001': 13, '1101': 5, '0110': 13, '1100': 14, '1011': 75}, {'1010': 15, '0001': 109, '0011': 14, '0100': 3, '0000': 14, '0010': 2, '1110': 2, '1000': 82, '1111': 17, '0101': 16, '1001': 521, '1101': 102, '1100': 8, '1011': 95}, {'NO MEASURMENT': 0}]\n"
     ]
    }
   ],
   "source": [
    "circuits = [bb84_states()+measure_circuit(0),bb84_states()+measure_circuit(1),bb84_states()]\n",
    "job_manager = IBMQJobManager()\n",
    "job_set = execute(circuits,backend=provider.get_backend('ibmq_qasm_simulator'),shots=1000)\n",
    "\n",
    "# retrieve and return counts\n",
    "counts = []\n",
    "for i in range (0,len(circuits)):\n",
    "    if job_set.result().data(circuits[i]) == {}:\n",
    "        counts.append({\"NO_MEASURMENT\":0})\n",
    "    else:\n",
    "        counts.append(job_set.result().get_counts(circuits[i]))\n",
    "    \n",
    "print(counts)"
   ]
  },
  {
   "cell_type": "code",
   "execution_count": 40,
   "metadata": {},
   "outputs": [
    {
     "name": "stdout",
     "output_type": "stream",
     "text": [
      "<bound method Result.data of Result(backend_name='ibmq_qasm_simulator', backend_version='0.5.2', date=datetime.datetime(2020, 6, 26, 20, 48, 1, 855894), header=Obj(backend_name='ibmq_qasm_simulator', backend_version='0.1.547'), job_id='5ef65efeb74e4b00126aaad6', metadata={'max_memory_mb': 257936, 'omp_enabled': True, 'parallel_experiments': 1, 'time_taken': 0.006904338}, qobj_id='196f4b89-25b4-4421-8ff3-18e7d5ec893f', results=[ExperimentResult(data=ExperimentResultData(counts=Obj(0x0=17, 0x1=2, 0x2=100, 0x3=22, 0x4=2, 0x6=15, 0x7=4, 0x8=81, 0x9=13, 0xa=539, 0xb=90, 0xc=16, 0xd=1, 0xe=87, 0xf=11)), header=Obj(clbit_labels=[['meas', 0], ['meas', 1], ['meas', 2], ['meas', 3]], creg_sizes=[['meas', 4]], memory_slots=4, n_qubits=4, name='circuit2105', qreg_sizes=[['q', 4]], qubit_labels=[['q', 0], ['q', 1], ['q', 2], ['q', 3]]), meas_level=<MeasLevel.CLASSIFIED: 2>, metadata={'measure_sampling': True, 'method': 'statevector', 'parallel_shots': 1, 'parallel_state_update': 16}, seed_simulator=434089721, shots=1000, status='DONE', success=True, time_taken=0.004707263000000001), ExperimentResult(data=ExperimentResultData(counts=Obj(0x0=13, 0x1=100, 0x2=4, 0x3=18, 0x4=2, 0x5=12, 0x7=3, 0x8=83, 0x9=543, 0xa=24, 0xb=88, 0xc=15, 0xd=78, 0xe=5, 0xf=12)), header=Obj(clbit_labels=[['meas', 0], ['meas', 1], ['meas', 2], ['meas', 3]], creg_sizes=[['meas', 4]], memory_slots=4, n_qubits=4, name='circuit2108', qreg_sizes=[['q', 4]], qubit_labels=[['q', 0], ['q', 1], ['q', 2], ['q', 3]]), meas_level=<MeasLevel.CLASSIFIED: 2>, metadata={'measure_sampling': True, 'method': 'statevector', 'parallel_shots': 1, 'parallel_state_update': 16}, seed_simulator=4252937101, shots=1000, status='DONE', success=True, time_taken=0.0018216970000000002), ExperimentResult(data=ExperimentResultData(), header=Obj(clbit_labels=[], creg_sizes=[], memory_slots=0, n_qubits=4, name='circuit2109', qreg_sizes=[['q', 4]], qubit_labels=[['q', 0], ['q', 1], ['q', 2], ['q', 3]]), meas_level=<MeasLevel.CLASSIFIED: 2>, metadata={'measure_sampling': True, 'method': 'stabilizer', 'parallel_shots': 1, 'parallel_state_update': 16}, seed_simulator=776786703, shots=1000, status='DONE', success=True, time_taken=5.6179000000000005e-05)], status='COMPLETED', success=True, time_taken=0.006904338)>\n"
     ]
    }
   ],
   "source": []
  },
  {
   "cell_type": "code",
   "execution_count": 13,
   "metadata": {},
   "outputs": [],
   "source": [
    "result_1 = job_set.job(1)[0].result()\n",
    "counts = result_2.get_counts(circuits[1])"
   ]
  },
  {
   "cell_type": "code",
   "execution_count": 14,
   "metadata": {},
   "outputs": [
    {
     "name": "stdout",
     "output_type": "stream",
     "text": [
      "<qiskit.providers.ibmq.managed.managedresults.ManagedResults object at 0x128cc6978>\n"
     ]
    }
   ],
   "source": [
    "results = job_set.results()\n",
    "print(results)"
   ]
  },
  {
   "cell_type": "code",
   "execution_count": 31,
   "metadata": {},
   "outputs": [
    {
     "ename": "IBMQJobManagerJobNotFound",
     "evalue": "'Unable to find the job for experiment circuit2102.'",
     "output_type": "error",
     "traceback": [
      "\u001b[0;31m---------------------------------------------------------------------------\u001b[0m",
      "\u001b[0;31mIBMQJobManagerJobNotFound\u001b[0m                 Traceback (most recent call last)",
      "\u001b[0;32m<ipython-input-31-98859e6dec6f>\u001b[0m in \u001b[0;36m<module>\u001b[0;34m\u001b[0m\n\u001b[0;32m----> 1\u001b[0;31m \u001b[0mcounts\u001b[0m \u001b[0;34m=\u001b[0m \u001b[0mresults\u001b[0m\u001b[0;34m.\u001b[0m\u001b[0mdata\u001b[0m\u001b[0;34m(\u001b[0m\u001b[0mQuantumCircuit\u001b[0m\u001b[0;34m(\u001b[0m\u001b[0;36m2\u001b[0m\u001b[0;34m)\u001b[0m\u001b[0;34m)\u001b[0m\u001b[0;34m\u001b[0m\u001b[0;34m\u001b[0m\u001b[0m\n\u001b[0m\u001b[1;32m      2\u001b[0m \u001b[0mprint\u001b[0m\u001b[0;34m(\u001b[0m\u001b[0mcounts\u001b[0m\u001b[0;34m)\u001b[0m\u001b[0;34m\u001b[0m\u001b[0;34m\u001b[0m\u001b[0m\n",
      "\u001b[0;32m~/anaconda3/lib/python3.7/site-packages/qiskit/providers/ibmq/managed/managedresults.py\u001b[0m in \u001b[0;36mdata\u001b[0;34m(self, experiment)\u001b[0m\n\u001b[1;32m     79\u001b[0m                 \u001b[0mbe\u001b[0m \u001b[0mfound\u001b[0m\u001b[0;34m.\u001b[0m\u001b[0;34m\u001b[0m\u001b[0;34m\u001b[0m\u001b[0m\n\u001b[1;32m     80\u001b[0m         \"\"\"\n\u001b[0;32m---> 81\u001b[0;31m         \u001b[0mresult\u001b[0m\u001b[0;34m,\u001b[0m \u001b[0mexp_index\u001b[0m \u001b[0;34m=\u001b[0m \u001b[0mself\u001b[0m\u001b[0;34m.\u001b[0m\u001b[0m_get_result\u001b[0m\u001b[0;34m(\u001b[0m\u001b[0mexperiment\u001b[0m\u001b[0;34m)\u001b[0m\u001b[0;34m\u001b[0m\u001b[0;34m\u001b[0m\u001b[0m\n\u001b[0m\u001b[1;32m     82\u001b[0m         \u001b[0;32mreturn\u001b[0m \u001b[0mresult\u001b[0m\u001b[0;34m.\u001b[0m\u001b[0mdata\u001b[0m\u001b[0;34m(\u001b[0m\u001b[0mexp_index\u001b[0m\u001b[0;34m)\u001b[0m\u001b[0;34m\u001b[0m\u001b[0;34m\u001b[0m\u001b[0m\n\u001b[1;32m     83\u001b[0m \u001b[0;34m\u001b[0m\u001b[0m\n",
      "\u001b[0;32m~/anaconda3/lib/python3.7/site-packages/qiskit/providers/ibmq/managed/managedresults.py\u001b[0m in \u001b[0;36m_get_result\u001b[0;34m(self, experiment)\u001b[0m\n\u001b[1;32m    193\u001b[0m         \"\"\"\n\u001b[1;32m    194\u001b[0m \u001b[0;34m\u001b[0m\u001b[0m\n\u001b[0;32m--> 195\u001b[0;31m         \u001b[0;34m(\u001b[0m\u001b[0mjob\u001b[0m\u001b[0;34m,\u001b[0m \u001b[0mexp_index\u001b[0m\u001b[0;34m)\u001b[0m \u001b[0;34m=\u001b[0m \u001b[0mself\u001b[0m\u001b[0;34m.\u001b[0m\u001b[0m_job_set\u001b[0m\u001b[0;34m.\u001b[0m\u001b[0mjob\u001b[0m\u001b[0;34m(\u001b[0m\u001b[0mexperiment\u001b[0m\u001b[0;34m)\u001b[0m\u001b[0;34m\u001b[0m\u001b[0;34m\u001b[0m\u001b[0m\n\u001b[0m\u001b[1;32m    196\u001b[0m         \u001b[0;32mif\u001b[0m \u001b[0mjob\u001b[0m \u001b[0;32mis\u001b[0m \u001b[0;32mNone\u001b[0m\u001b[0;34m:\u001b[0m\u001b[0;34m\u001b[0m\u001b[0;34m\u001b[0m\u001b[0m\n\u001b[1;32m    197\u001b[0m             raise IBMQManagedResultDataNotAvailable(\n",
      "\u001b[0;32m~/anaconda3/lib/python3.7/site-packages/qiskit/providers/ibmq/managed/utils.py\u001b[0m in \u001b[0;36m_wrapper\u001b[0;34m(job_set, *args, **kwargs)\u001b[0m\n\u001b[1;32m     61\u001b[0m                    in job_set._managed_jobs if managed_job.future]\n\u001b[1;32m     62\u001b[0m         \u001b[0mwait\u001b[0m\u001b[0;34m(\u001b[0m\u001b[0mfutures\u001b[0m\u001b[0;34m)\u001b[0m\u001b[0;34m\u001b[0m\u001b[0;34m\u001b[0m\u001b[0m\n\u001b[0;32m---> 63\u001b[0;31m         \u001b[0;32mreturn\u001b[0m \u001b[0mfunc\u001b[0m\u001b[0;34m(\u001b[0m\u001b[0mjob_set\u001b[0m\u001b[0;34m,\u001b[0m \u001b[0;34m*\u001b[0m\u001b[0margs\u001b[0m\u001b[0;34m,\u001b[0m \u001b[0;34m**\u001b[0m\u001b[0mkwargs\u001b[0m\u001b[0;34m)\u001b[0m\u001b[0;34m\u001b[0m\u001b[0;34m\u001b[0m\u001b[0m\n\u001b[0m\u001b[1;32m     64\u001b[0m \u001b[0;34m\u001b[0m\u001b[0m\n\u001b[1;32m     65\u001b[0m     \u001b[0;32mreturn\u001b[0m \u001b[0m_wrapper\u001b[0m\u001b[0;34m\u001b[0m\u001b[0;34m\u001b[0m\u001b[0m\n",
      "\u001b[0;32m~/anaconda3/lib/python3.7/site-packages/qiskit/providers/ibmq/managed/managedjobset.py\u001b[0m in \u001b[0;36mjob\u001b[0;34m(self, experiment)\u001b[0m\n\u001b[1;32m    397\u001b[0m \u001b[0;34m\u001b[0m\u001b[0m\n\u001b[1;32m    398\u001b[0m         raise IBMQJobManagerJobNotFound(\n\u001b[0;32m--> 399\u001b[0;31m             'Unable to find the job for experiment {}.'.format(experiment))\n\u001b[0m\u001b[1;32m    400\u001b[0m \u001b[0;34m\u001b[0m\u001b[0m\n\u001b[1;32m    401\u001b[0m     \u001b[0;34m@\u001b[0m\u001b[0mrequires_submit\u001b[0m\u001b[0;34m\u001b[0m\u001b[0;34m\u001b[0m\u001b[0m\n",
      "\u001b[0;31mIBMQJobManagerJobNotFound\u001b[0m: 'Unable to find the job for experiment circuit2102.'"
     ]
    }
   ],
   "source": [
    "counts = results.data(QuantumCircuit(2))\n",
    "print(counts)"
   ]
  },
  {
   "cell_type": "code",
   "execution_count": 22,
   "metadata": {},
   "outputs": [
    {
     "name": "stderr",
     "output_type": "stream",
     "text": [
      "/Users/louisschatzki/anaconda3/lib/python3.7/site-packages/ipykernel_launcher.py:5: DeprecationWarning: random_circuit keyword argument n_qubits is deprecated and replaced with num_qubits.\n",
      "  \"\"\"\n"
     ]
    }
   ],
   "source": [
    "# Build a thousand circuits.\n",
    "from qiskit.circuit.random import random_circuit\n",
    "circs = []\n",
    "for _ in range(10):\n",
    "    circs.append(random_circuit(n_qubits=5, depth=4))\n",
    "\n",
    "# Use Job Manager to break the circuits into multiple jobs.\n",
    "job_manager = IBMQJobManager()\n",
    "job_set_foo = job_manager.run(circs, backend=provider.get_backend('ibmq_qasm_simulator') , name='foo')"
   ]
  },
  {
   "cell_type": "code",
   "execution_count": 23,
   "metadata": {},
   "outputs": [
    {
     "name": "stderr",
     "output_type": "stream",
     "text": [
      "/Users/louisschatzki/anaconda3/lib/python3.7/site-packages/qiskit/providers/ibmq/managed/managedjob.py:187: UserWarning: Unable to retrieve job result for experiments 0-9, job ID=5ef65c6a4faf630014c031c9: 'Unable to retrieve result for job 5ef65c6a4faf630014c031c9. Job has failed. Use job.error_message() to get more details.' \n",
      "  self.start_index, self.end_index, self.job.job_id(), err))\n"
     ]
    },
    {
     "ename": "IBMQManagedResultDataNotAvailable",
     "evalue": "'Result data for experiment 5 is not available.'",
     "output_type": "error",
     "traceback": [
      "\u001b[0;31m---------------------------------------------------------------------------\u001b[0m",
      "\u001b[0;31mIBMQJobFailureError\u001b[0m                       Traceback (most recent call last)",
      "\u001b[0;32m~/anaconda3/lib/python3.7/site-packages/qiskit/providers/ibmq/managed/managedresults.py\u001b[0m in \u001b[0;36m_get_result\u001b[0;34m(self, experiment)\u001b[0m\n\u001b[1;32m    200\u001b[0m         \u001b[0;32mtry\u001b[0m\u001b[0;34m:\u001b[0m\u001b[0;34m\u001b[0m\u001b[0;34m\u001b[0m\u001b[0m\n\u001b[0;32m--> 201\u001b[0;31m             \u001b[0mresult\u001b[0m \u001b[0;34m=\u001b[0m \u001b[0mjob\u001b[0m\u001b[0;34m.\u001b[0m\u001b[0mresult\u001b[0m\u001b[0;34m(\u001b[0m\u001b[0;34m)\u001b[0m\u001b[0;34m\u001b[0m\u001b[0;34m\u001b[0m\u001b[0m\n\u001b[0m\u001b[1;32m    202\u001b[0m             \u001b[0;32mreturn\u001b[0m \u001b[0mresult\u001b[0m\u001b[0;34m,\u001b[0m \u001b[0mexp_index\u001b[0m\u001b[0;34m\u001b[0m\u001b[0;34m\u001b[0m\u001b[0m\n",
      "\u001b[0;32m~/anaconda3/lib/python3.7/site-packages/qiskit/providers/ibmq/job/ibmqjob.py\u001b[0m in \u001b[0;36mresult\u001b[0;34m(self, timeout, wait, partial, refresh)\u001b[0m\n\u001b[1;32m    273\u001b[0m                     \u001b[0;34m'Unable to retrieve result for job {}. Job has failed. '\u001b[0m\u001b[0;34m\u001b[0m\u001b[0;34m\u001b[0m\u001b[0m\n\u001b[0;32m--> 274\u001b[0;31m                     'Use job.error_message() to get more details.'.format(self.job_id()))\n\u001b[0m\u001b[1;32m    275\u001b[0m \u001b[0;34m\u001b[0m\u001b[0m\n",
      "\u001b[0;31mIBMQJobFailureError\u001b[0m: 'Unable to retrieve result for job 5ef65c6a4faf630014c031c9. Job has failed. Use job.error_message() to get more details.'",
      "\nThe above exception was the direct cause of the following exception:\n",
      "\u001b[0;31mIBMQManagedResultDataNotAvailable\u001b[0m         Traceback (most recent call last)",
      "\u001b[0;32m<ipython-input-23-f346068f3ebb>\u001b[0m in \u001b[0;36m<module>\u001b[0;34m\u001b[0m\n\u001b[1;32m      1\u001b[0m \u001b[0mtestresults\u001b[0m \u001b[0;34m=\u001b[0m \u001b[0mjob_set_foo\u001b[0m\u001b[0;34m.\u001b[0m\u001b[0mresults\u001b[0m\u001b[0;34m(\u001b[0m\u001b[0;34m)\u001b[0m\u001b[0;34m\u001b[0m\u001b[0;34m\u001b[0m\u001b[0m\n\u001b[0;32m----> 2\u001b[0;31m \u001b[0mtest5\u001b[0m \u001b[0;34m=\u001b[0m \u001b[0mtestresults\u001b[0m\u001b[0;34m.\u001b[0m\u001b[0mget_counts\u001b[0m\u001b[0;34m(\u001b[0m\u001b[0;36m5\u001b[0m\u001b[0;34m)\u001b[0m\u001b[0;34m\u001b[0m\u001b[0;34m\u001b[0m\u001b[0m\n\u001b[0m",
      "\u001b[0;32m~/anaconda3/lib/python3.7/site-packages/qiskit/providers/ibmq/managed/managedresults.py\u001b[0m in \u001b[0;36mget_counts\u001b[0;34m(self, experiment)\u001b[0m\n\u001b[1;32m    123\u001b[0m                 \u001b[0mbe\u001b[0m \u001b[0mfound\u001b[0m\u001b[0;34m.\u001b[0m\u001b[0;34m\u001b[0m\u001b[0;34m\u001b[0m\u001b[0m\n\u001b[1;32m    124\u001b[0m         \"\"\"\n\u001b[0;32m--> 125\u001b[0;31m         \u001b[0mresult\u001b[0m\u001b[0;34m,\u001b[0m \u001b[0mexp_index\u001b[0m \u001b[0;34m=\u001b[0m \u001b[0mself\u001b[0m\u001b[0;34m.\u001b[0m\u001b[0m_get_result\u001b[0m\u001b[0;34m(\u001b[0m\u001b[0mexperiment\u001b[0m\u001b[0;34m)\u001b[0m\u001b[0;34m\u001b[0m\u001b[0;34m\u001b[0m\u001b[0m\n\u001b[0m\u001b[1;32m    126\u001b[0m         \u001b[0;32mreturn\u001b[0m \u001b[0mresult\u001b[0m\u001b[0;34m.\u001b[0m\u001b[0mget_counts\u001b[0m\u001b[0;34m(\u001b[0m\u001b[0mexp_index\u001b[0m\u001b[0;34m)\u001b[0m\u001b[0;34m\u001b[0m\u001b[0;34m\u001b[0m\u001b[0m\n\u001b[1;32m    127\u001b[0m \u001b[0;34m\u001b[0m\u001b[0m\n",
      "\u001b[0;32m~/anaconda3/lib/python3.7/site-packages/qiskit/providers/ibmq/managed/managedresults.py\u001b[0m in \u001b[0;36m_get_result\u001b[0;34m(self, experiment)\u001b[0m\n\u001b[1;32m    203\u001b[0m         \u001b[0;32mexcept\u001b[0m \u001b[0mJobError\u001b[0m \u001b[0;32mas\u001b[0m \u001b[0merr\u001b[0m\u001b[0;34m:\u001b[0m\u001b[0;34m\u001b[0m\u001b[0;34m\u001b[0m\u001b[0m\n\u001b[1;32m    204\u001b[0m             raise IBMQManagedResultDataNotAvailable(\n\u001b[0;32m--> 205\u001b[0;31m                 'Result data for experiment {} is not available.'.format(experiment)) from err\n\u001b[0m",
      "\u001b[0;31mIBMQManagedResultDataNotAvailable\u001b[0m: 'Result data for experiment 5 is not available.'"
     ]
    }
   ],
   "source": [
    "testresults = job_set_foo.results()\n",
    "test5 = testresults.get_counts(5)"
   ]
  },
  {
   "cell_type": "code",
   "execution_count": null,
   "metadata": {},
   "outputs": [],
   "source": []
  }
 ],
 "metadata": {
  "kernelspec": {
   "display_name": "Python 3",
   "language": "python",
   "name": "python3"
  },
  "language_info": {
   "codemirror_mode": {
    "name": "ipython",
    "version": 3
   },
   "file_extension": ".py",
   "mimetype": "text/x-python",
   "name": "python",
   "nbconvert_exporter": "python",
   "pygments_lexer": "ipython3",
   "version": "3.7.3"
  },
  "toc": {
   "base_numbering": 1,
   "nav_menu": {},
   "number_sections": false,
   "sideBar": false,
   "skip_h1_title": false,
   "title_cell": "Table of Contents",
   "title_sidebar": "Contents",
   "toc_cell": false,
   "toc_position": {},
   "toc_section_display": false,
   "toc_window_display": false
  }
 },
 "nbformat": 4,
 "nbformat_minor": 2
}
