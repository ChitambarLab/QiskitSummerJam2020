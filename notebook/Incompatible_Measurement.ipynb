{
 "cells": [
  {
   "cell_type": "markdown",
   "metadata": {},
   "source": [
    "# Measurement Incompatibility Testing"
   ]
  },
  {
   "cell_type": "code",
   "execution_count": 1,
   "metadata": {},
   "outputs": [],
   "source": [
    "# Make sure to load your IBM Q token before running the below block"
   ]
  },
  {
   "cell_type": "code",
   "execution_count": 2,
   "metadata": {},
   "outputs": [],
   "source": [
    "# Importing standard Qiskit libraries and configuring account\n",
    "from qiskit import QuantumCircuit, execute, IBMQ\n",
    "from qiskit.tools.jupyter import *\n",
    "from qiskit.visualization import *\n",
    "from qiskit.providers.ibmq.managed import IBMQJobManager\n",
    "\n",
    "# Loading your IBM Q account(s)\n",
    "provider = IBMQ.load_account()\n",
    "\n",
    "import matplotlib.pyplot as plt\n",
    "import numpy as np\n",
    "\n",
    "# custom code\n",
    "import context\n",
    "from device_independent_test import incompatible_measurement\n",
    "from device_independent_test import quantum_communicator"
   ]
  },
  {
   "cell_type": "code",
   "execution_count": 3,
   "metadata": {},
   "outputs": [],
   "source": [
    "def bb84_states():\n",
    "    # Alice's half of the circuit\n",
    "    # creates 0,1,+,-\n",
    "    qc = QuantumCircuit(4)\n",
    "    qc.x(1) # create 1\n",
    "    qc.h(2) # create +\n",
    "    qc.x(3) # create -\n",
    "    qc.h(3) # ^\n",
    "    return qc"
   ]
  },
  {
   "cell_type": "code",
   "execution_count": 4,
   "metadata": {},
   "outputs": [],
   "source": [
    "def measure_circuit(y):\n",
    "    # Bob's measurement circuit\n",
    "    # measure in either pi/4 or 3pi/4 basis\n",
    "    assert y == 0 or y == 1, \"Bob's input should be 0 or 1\"\n",
    "    qc = QuantumCircuit(4)\n",
    "    theta = -1.0*(np.pi/4 + 0.5*y*np.pi)\n",
    "    qc.u3(theta,0,0,range(0,4))\n",
    "    #qc.u3(theta,0,0,1)\n",
    "    #qc.u3(theta,0,0,2)\n",
    "    #qc.u3(theta,0,0,3)\n",
    "    qc.measure_all()\n",
    "    return qc"
   ]
  },
  {
   "cell_type": "code",
   "execution_count": 5,
   "metadata": {
    "scrolled": false
   },
   "outputs": [
    {
     "data": {
      "text/html": [
       "<pre style=\"word-wrap: normal;white-space: pre;background: #fff0;line-height: 1.1;font-family: &quot;Courier New&quot;,Courier,monospace\">        ┌───────────────┐                                   ░ ┌─┐         \n",
       "   q_0: ┤ U3(-pi/4,0,0) ├───────────────────────────────────░─┤M├─────────\n",
       "        └─────┬───┬─────┘┌───────────────┐                  ░ └╥┘┌─┐      \n",
       "   q_1: ──────┤ X ├──────┤ U3(-pi/4,0,0) ├──────────────────░──╫─┤M├──────\n",
       "              ├───┤      ├───────────────┤                  ░  ║ └╥┘┌─┐   \n",
       "   q_2: ──────┤ H ├──────┤ U3(-pi/4,0,0) ├──────────────────░──╫──╫─┤M├───\n",
       "              ├───┤      └─────┬───┬─────┘┌───────────────┐ ░  ║  ║ └╥┘┌─┐\n",
       "   q_3: ──────┤ X ├────────────┤ H ├──────┤ U3(-pi/4,0,0) ├─░──╫──╫──╫─┤M├\n",
       "              └───┘            └───┘      └───────────────┘ ░  ║  ║  ║ └╥┘\n",
       "meas_0: ═══════════════════════════════════════════════════════╩══╬══╬══╬═\n",
       "                                                                  ║  ║  ║ \n",
       "meas_1: ══════════════════════════════════════════════════════════╩══╬══╬═\n",
       "                                                                     ║  ║ \n",
       "meas_2: ═════════════════════════════════════════════════════════════╩══╬═\n",
       "                                                                        ║ \n",
       "meas_3: ════════════════════════════════════════════════════════════════╩═\n",
       "                                                                          </pre>"
      ],
      "text/plain": [
       "        ┌───────────────┐                                   ░ ┌─┐         \n",
       "   q_0: ┤ U3(-pi/4,0,0) ├───────────────────────────────────░─┤M├─────────\n",
       "        └─────┬───┬─────┘┌───────────────┐                  ░ └╥┘┌─┐      \n",
       "   q_1: ──────┤ X ├──────┤ U3(-pi/4,0,0) ├──────────────────░──╫─┤M├──────\n",
       "              ├───┤      ├───────────────┤                  ░  ║ └╥┘┌─┐   \n",
       "   q_2: ──────┤ H ├──────┤ U3(-pi/4,0,0) ├──────────────────░──╫──╫─┤M├───\n",
       "              ├───┤      └─────┬───┬─────┘┌───────────────┐ ░  ║  ║ └╥┘┌─┐\n",
       "   q_3: ──────┤ X ├────────────┤ H ├──────┤ U3(-pi/4,0,0) ├─░──╫──╫──╫─┤M├\n",
       "              └───┘            └───┘      └───────────────┘ ░  ║  ║  ║ └╥┘\n",
       "meas_0: ═══════════════════════════════════════════════════════╩══╬══╬══╬═\n",
       "                                                                  ║  ║  ║ \n",
       "meas_1: ══════════════════════════════════════════════════════════╩══╬══╬═\n",
       "                                                                     ║  ║ \n",
       "meas_2: ═════════════════════════════════════════════════════════════╩══╬═\n",
       "                                                                        ║ \n",
       "meas_3: ════════════════════════════════════════════════════════════════╩═\n",
       "                                                                          "
      ]
     },
     "execution_count": 5,
     "metadata": {},
     "output_type": "execute_result"
    }
   ],
   "source": [
    "qc = bb84_states() + measure_circuit(0)\n",
    "qc.draw()"
   ]
  },
  {
   "cell_type": "code",
   "execution_count": 6,
   "metadata": {
    "scrolled": true
   },
   "outputs": [
    {
     "name": "stdout",
     "output_type": "stream",
     "text": [
      "Job Status: job has successfully run\n"
     ]
    },
    {
     "data": {
      "image/png": "[encoded data removed]",
      "text/plain": [
       "<Figure size 504x360 with 1 Axes>"
      ]
     },
     "execution_count": 6,
     "metadata": {},
     "output_type": "execute_result"
    }
   ],
   "source": [
    "# OUTDATED CODE\n",
    "# SEE CELL BELOW FOR BATCH JOB\n",
    "\n",
    "from qiskit.tools.monitor import *\n",
    "def run_job(qc):\n",
    "    # runs test on all inputs\n",
    "    # run cicuits in one batch\n",
    "    #job_manager = IBMQJobManager()\n",
    "    #job_set = job_manager.run([qc_0, qc_1], backend=provider.get_backend('ibmq_qasm_simulator'), name='msrincom_test')\n",
    "    #job_monitor(job_set)\n",
    "    #job_set.error_message()\n",
    "    job = execute(qc, backend=provider.get_backend('ibmq_qasm_simulator'), shots=1000)\n",
    "    job_monitor(job)\n",
    "    return job\n",
    "qc_0 = bb84_states() + measure_circuit(0)\n",
    "job = run_job(qc_0)\n",
    "job.result().get_counts(qc_0)\n",
    "plot_histogram(job.result().get_counts(qc_0))\n"
   ]
  },
  {
   "cell_type": "code",
   "execution_count": 7,
   "metadata": {},
   "outputs": [],
   "source": [
    "from qiskit.tools.monitor import *\n",
    "def run_jobs(qc):\n",
    "    # run cicuits in one batch\n",
    "    job_manager = IBMQJobManager()\n",
    "    job_set = job_manager.run(qc, backend=provider.get_backend('ibmq_qasm_simulator'), name='msrincom_test')\n",
    "    job_set.error_messages()\n",
    "    return job_set\n",
    "qc_0 = bb84_states() + measure_circuit(0)\n",
    "qc_1 = bb84_states() + measure_circuit(1)\n",
    "managed_job = run_jobs([qc_0,qc_1])\n"
   ]
  },
  {
   "cell_type": "code",
   "execution_count": 8,
   "metadata": {},
   "outputs": [
    {
     "data": {
      "text/plain": [
       "{'0101': 2,\n",
       " '0111': 2,\n",
       " '1100': 18,\n",
       " '0100': 4,\n",
       " '1001': 9,\n",
       " '1010': 554,\n",
       " '0001': 1,\n",
       " '1111': 22,\n",
       " '1110': 94,\n",
       " '0010': 89,\n",
       " '0000': 16,\n",
       " '1011': 90,\n",
       " '0110': 21,\n",
       " '0011': 13,\n",
       " '1101': 4,\n",
       " '1000': 85}"
      ]
     },
     "execution_count": 8,
     "metadata": {},
     "output_type": "execute_result"
    }
   ],
   "source": [
    "result_0 = managed_job.job(0)[0].result()\n",
    "result_1 = managed_job.job(1)[0].result()\n",
    "#managed_job.job(0)[0].error_message()\n",
    "result_0.get_counts(qc_0)"
   ]
  },
  {
   "cell_type": "code",
   "execution_count": 9,
   "metadata": {},
   "outputs": [
    {
     "name": "stdout",
     "output_type": "stream",
     "text": [
      "Job Status: job has successfully run\n"
     ]
    },
    {
     "data": {
      "image/png": "[encoded data removed]",
      "text/plain": [
       "<Figure size 504x360 with 1 Axes>"
      ]
     },
     "execution_count": 9,
     "metadata": {},
     "output_type": "execute_result"
    }
   ],
   "source": [
    "qc_1 = bb84_states() + measure_circuit(1)\n",
    "job2 = run_job(qc_1)\n",
    "job2.result().get_counts(qc_1)\n",
    "plot_histogram(job2.result().get_counts(qc_1))"
   ]
  },
  {
   "cell_type": "code",
   "execution_count": 10,
   "metadata": {},
   "outputs": [
    {
     "name": "stdout",
     "output_type": "stream",
     "text": [
      "{'0101': 17, '0111': 1, '0000': 15, '1100': 17, '1011': 66, '0100': 1, '1001': 540, '1010': 11, '0001': 96, '1111': 23, '0011': 13, '1110': 1, '1101': 105, '0010': 4, '1000': 90}\n",
      "[[139. 881. 835. 147.]\n",
      " [861. 119. 165. 853.]]\n",
      "[[0.139 0.881 0.835 0.147]\n",
      " [0.861 0.119 0.165 0.853]]\n"
     ]
    }
   ],
   "source": [
    "counts = job2.result().get_counts(qc_1)\n",
    "print(counts)\n",
    "\n",
    "# 2x4 matrix for probabilities\n",
    "# row for x\n",
    "# column for y\n",
    "bins = (2,4)\n",
    "bins = np.zeros(bins)\n",
    "\n",
    "# iterate over dictionary\n",
    "for state in counts:\n",
    "    for i in range(0,4):\n",
    "        r = int(state[i])\n",
    "        c = 3 - i\n",
    "        bins[r,c] += counts[state]\n",
    "print(bins)\n",
    "# convert bins to probibilities\n",
    "probs = bins / 1000.0\n",
    "print(probs)"
   ]
  },
  {
   "cell_type": "code",
   "execution_count": 11,
   "metadata": {},
   "outputs": [],
   "source": [
    "from qiskit.quantum_info import Statevector"
   ]
  },
  {
   "cell_type": "code",
   "execution_count": 12,
   "metadata": {},
   "outputs": [
    {
     "name": "stdout",
     "output_type": "stream",
     "text": [
      "Statevector([ 0. +0.j,  0. +0.j,  0.5+0.j,  0. +0.j,  0. +0.j,  0. +0.j,\n",
      "              0.5+0.j,  0. +0.j,  0. +0.j,  0. +0.j, -0.5+0.j,  0. +0.j,\n",
      "              0. +0.j,  0. +0.j, -0.5+0.j,  0. +0.j],\n",
      "            dims=(2, 2, 2, 2))\n",
      "[ 0. +0.j  0. +0.j  0.5+0.j  0. +0.j  0. +0.j  0. +0.j  0.5+0.j  0. +0.j\n",
      "  0. +0.j  0. +0.j -0.5+0.j  0. +0.j  0. +0.j  0. +0.j -0.5+0.j  0. +0.j]\n",
      "[ True  True False  True  True  True False  True  True  True False  True\n",
      "  True  True False  True]\n",
      "(0.4999999999999999+0j)\n"
     ]
    },
    {
     "data": {
      "text/plain": [
       "False"
      ]
     },
     "execution_count": 12,
     "metadata": {},
     "output_type": "execute_result"
    }
   ],
   "source": [
    "qc = bb84_states()\n",
    "state = Statevector.from_instruction(qc)\n",
    "print(state)\n",
    "real_state = [0,0,0.5+0.j,0,0,0,0.5,0,0,0,-0.5,0,0,0,-0.5,0]\n",
    "print(state.data)\n",
    "print(state.data == real_state)\n",
    "print(state.data[2])\n",
    "error = abs(state.data-real_state)\n",
    "epsilon = 1.0E-4\n",
    "any(x>epsilon for x in error)"
   ]
  },
  {
   "cell_type": "markdown",
   "metadata": {},
   "source": [
    "# Communicator Testing"
   ]
  },
  {
   "cell_type": "code",
   "execution_count": 13,
   "metadata": {
    "scrolled": true
   },
   "outputs": [
    {
     "ename": "AttributeError",
     "evalue": "module 'device_independent_test.quantum_communicator' has no attribute 'LocalCommunicator'",
     "output_type": "error",
     "traceback": [
      "\u001b[0;31m---------------------------------------------------------------------------\u001b[0m",
      "\u001b[0;31mAttributeError\u001b[0m                            Traceback (most recent call last)",
      "\u001b[0;32m<ipython-input-13-9ff726b995fb>\u001b[0m in \u001b[0;36m<module>\u001b[0;34m\u001b[0m\n\u001b[0;32m----> 1\u001b[0;31m \u001b[0mcommunicator\u001b[0m \u001b[0;34m=\u001b[0m \u001b[0mquantum_communicator\u001b[0m\u001b[0;34m.\u001b[0m\u001b[0mLocalCommunicator\u001b[0m\u001b[0;34m(\u001b[0m\u001b[0;34m[\u001b[0m\u001b[0mprovider\u001b[0m\u001b[0;34m.\u001b[0m\u001b[0mget_backend\u001b[0m\u001b[0;34m(\u001b[0m\u001b[0;34m'ibmq_qasm_simulator'\u001b[0m\u001b[0;34m)\u001b[0m\u001b[0;34m]\u001b[0m\u001b[0;34m)\u001b[0m\u001b[0;34m\u001b[0m\u001b[0;34m\u001b[0m\u001b[0m\n\u001b[0m\u001b[1;32m      2\u001b[0m \u001b[0mprint\u001b[0m\u001b[0;34m(\u001b[0m\u001b[0mcommunicator\u001b[0m\u001b[0;34m)\u001b[0m\u001b[0;34m\u001b[0m\u001b[0;34m\u001b[0m\u001b[0m\n\u001b[1;32m      3\u001b[0m \u001b[0mpre_operations\u001b[0m \u001b[0;34m=\u001b[0m \u001b[0mbb84_states\u001b[0m\u001b[0;34m(\u001b[0m\u001b[0;34m)\u001b[0m\u001b[0;34m\u001b[0m\u001b[0;34m\u001b[0m\u001b[0m\n\u001b[1;32m      4\u001b[0m \u001b[0mpost_operations\u001b[0m \u001b[0;34m=\u001b[0m \u001b[0;34m(\u001b[0m\u001b[0mQuantumCircuit\u001b[0m\u001b[0;34m(\u001b[0m\u001b[0;36m4\u001b[0m\u001b[0;34m)\u001b[0m\u001b[0;34m,\u001b[0m\u001b[0mmeasure_circuit\u001b[0m\u001b[0;34m(\u001b[0m\u001b[0;36m0\u001b[0m\u001b[0;34m)\u001b[0m\u001b[0;34m)\u001b[0m\u001b[0;34m\u001b[0m\u001b[0;34m\u001b[0m\u001b[0m\n\u001b[1;32m      5\u001b[0m \u001b[0mdisplay\u001b[0m\u001b[0;34m(\u001b[0m\u001b[0mpost_operations\u001b[0m\u001b[0;34m[\u001b[0m\u001b[0;36m1\u001b[0m\u001b[0;34m]\u001b[0m\u001b[0;34m.\u001b[0m\u001b[0mdraw\u001b[0m\u001b[0;34m(\u001b[0m\u001b[0;34m)\u001b[0m\u001b[0;34m)\u001b[0m\u001b[0;34m\u001b[0m\u001b[0;34m\u001b[0m\u001b[0m\n",
      "\u001b[0;31mAttributeError\u001b[0m: module 'device_independent_test.quantum_communicator' has no attribute 'LocalCommunicator'"
     ]
    }
   ],
   "source": [
    "communicator = quantum_communicator.LocalCommunicator([provider.get_backend('ibmq_qasm_simulator')])\n",
    "print(communicator)\n",
    "pre_operations = bb84_states()\n",
    "post_operations = (QuantumCircuit(4),measure_circuit(0))\n",
    "display(post_operations[1].draw())\n",
    "size = max(post_operations[0].num_qubits,post_operations[1].num_qubits)\n",
    "print(size)\n",
    "counts = communicator.run_and_transmit(\"nothing\",\"nothing\",pre_operations,post_operations,1000)\n",
    "plot_histogram(counts)"
   ]
  },
  {
   "cell_type": "code",
   "execution_count": null,
   "metadata": {},
   "outputs": [],
   "source": [
    "communicator = quantum_communicator.LocalCommunicator([provider.get_backend('ibmq_qasm_simulator')])\n",
    "pre_operations = [bb84_states(),bb84_states()]\n",
    "post_operations = [[QuantumCircuit(4),QuantumCircuit(4)],[measure_circuit(0),QuantumCircuit(4)]]\n",
    "counts = communicator.batch_run_and_transmit(\"\",\"\",pre_operations,post_operations,1000)\n",
    "print(counts)"
   ]
  },
  {
   "cell_type": "code",
   "execution_count": null,
   "metadata": {},
   "outputs": [],
   "source": [
    "test = [[1,2,3],[4,5,6],[7,8,9]]\n",
    "print(test)\n",
    "print(test[0][2])\n",
    "print(test[1][0])"
   ]
  },
  {
   "cell_type": "code",
   "execution_count": null,
   "metadata": {},
   "outputs": [],
   "source": [
    "communicator = quantum_communicator.LocalCommunicator([provider.get_backend('ibmq_qasm_simulator')])\n",
    "pre_operations = [bb84_states(),QuantumCircuit(4),bb84_states()]\n",
    "#post_operations = [[QuantumCircuit(4),QuantumCircuit(4),QuantumCircuit(4)],[measure_circuit(0),QuantumCircuit(4),measure_circuit(1)]]\n",
    "post_operations = [[QuantumCircuit(4),measure_circuit(0)],[QuantumCircuit(4),QuantumCircuit(4)],[QuantumCircuit(4),QuantumCircuit(4)]]\n",
    "count0 = communicator.run_and_transmit(\"\",\"\",pre_operations[0],post_operations[0],1000)\n",
    "#count1 = communicator.run_and_transmit(\"\",\"\",pre_operations[0],[post_operations[0][0],post_operations[1][0]],1000)\n",
    "#count2 = communicator.run_and_transmit(\"\",\"\",pre_operations[0],[post_operations[0][0],post_operations[1][0]],1000)\n",
    "count1 = communicator.run_and_transmit(\"\",\"\",pre_operations[1],post_operations[1],1000)\n",
    "count2 = communicator.run_and_transmit(\"\",\"\",pre_operations[2],post_operations[2],1000)\n",
    "print(count2)\n",
    "#print(count1)\n",
    "#print(count2)"
   ]
  },
  {
   "cell_type": "code",
   "execution_count": null,
   "metadata": {},
   "outputs": [],
   "source": [
    "print(count0)"
   ]
  },
  {
   "cell_type": "code",
   "execution_count": null,
   "metadata": {},
   "outputs": [],
   "source": [
    "circuits = [bb84_states()+measure_circuit(0),bb84_states()+measure_circuit(1),bb84_states()]\n",
    "job_manager = IBMQJobManager()\n",
    "job_set = execute(circuits,backend=provider.get_backend('ibmq_qasm_simulator'),shots=1000)\n",
    "\n",
    "# retrieve and return counts\n",
    "counts = []\n",
    "for i in range (0,len(circuits)):\n",
    "    if job_set.result().data(circuits[i]) == {}:\n",
    "        counts.append({\"NO_MEASURMENT\":0})\n",
    "    else:\n",
    "        counts.append(job_set.result().get_counts(circuits[i]))\n",
    "    \n",
    "print(counts)"
   ]
  },
  {
   "cell_type": "code",
   "execution_count": null,
   "metadata": {},
   "outputs": [],
   "source": []
  },
  {
   "cell_type": "code",
   "execution_count": null,
   "metadata": {},
   "outputs": [],
   "source": [
    "result_1 = job_set.job(1)[0].result()\n",
    "counts = result_2.get_counts(circuits[1])"
   ]
  },
  {
   "cell_type": "code",
   "execution_count": null,
   "metadata": {},
   "outputs": [],
   "source": [
    "results = job_set.results()\n",
    "print(results)"
   ]
  },
  {
   "cell_type": "code",
   "execution_count": null,
   "metadata": {},
   "outputs": [],
   "source": [
    "counts = results.data(QuantumCircuit(2))\n",
    "print(counts)"
   ]
  },
  {
   "cell_type": "code",
   "execution_count": null,
   "metadata": {},
   "outputs": [],
   "source": [
    "# Build a thousand circuits.\n",
    "from qiskit.circuit.random import random_circuit\n",
    "circs = []\n",
    "for _ in range(10):\n",
    "    circs.append(random_circuit(n_qubits=5, depth=4))\n",
    "\n",
    "# Use Job Manager to break the circuits into multiple jobs.\n",
    "job_manager = IBMQJobManager()\n",
    "job_set_foo = job_manager.run(circs, backend=provider.get_backend('ibmq_qasm_simulator') , name='foo')"
   ]
  },
  {
   "cell_type": "code",
   "execution_count": null,
   "metadata": {},
   "outputs": [],
   "source": [
    "testresults = job_set_foo.results()\n",
    "test5 = testresults.get_counts(5)"
   ]
  },
  {
   "cell_type": "code",
   "execution_count": null,
   "metadata": {},
   "outputs": [],
   "source": []
  }
 ],
 "metadata": {
  "@webio": {
   "lastCommId": null,
   "lastKernelId": null
  },
  "kernelspec": {
   "display_name": "Python 3",
   "language": "python",
   "name": "python3"
  },
  "language_info": {
   "codemirror_mode": {
    "name": "ipython",
    "version": 3
   },
   "file_extension": ".py",
   "mimetype": "text/x-python",
   "name": "python",
   "nbconvert_exporter": "python",
   "pygments_lexer": "ipython3",
   "version": "3.7.4"
  },
  "toc": {
   "base_numbering": 1,
   "nav_menu": {},
   "number_sections": false,
   "sideBar": false,
   "skip_h1_title": false,
   "title_cell": "Table of Contents",
   "title_sidebar": "Contents",
   "toc_cell": false,
   "toc_position": {},
   "toc_section_display": false,
   "toc_window_display": false
  }
 },
 "nbformat": 4,
 "nbformat_minor": 2
}
