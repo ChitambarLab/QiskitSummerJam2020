{
 "cells": [
  {
   "cell_type": "markdown",
   "metadata": {},
   "source": [
    "# Measurement Incompatibility Testing"
   ]
  },
  {
   "cell_type": "markdown",
   "metadata": {},
   "source": [
    "## Test Description\n",
    "\n",
    "This test runs a single-qubit bell that requires superposition states and incompatible measurments. Alice and Bob Perform the protocol:\n",
    "\n",
    "1. Alice receives an input $x \\in \\{0,1,2,3\\}$ and encodes it into the BB84 qubit states $|\\psi_x\\rangle \\in \\{|0\\rangle, |1\\rangle, |+\\rangle, |-\\rangle \\}$.\n",
    "2. Bob Measures the states using two incompatible binary projective measurements conditioned on $y\\in\\{0,1\\}$.\n",
    "3. Bob outputs the binary measurement result $b\\in\\{0,1\\}$\n",
    "\n",
    "<img src=\"img/qubit_bell_violation.png\" alt=\"Drawing\" style=\"width: 400px;\"/>\n",
    "\n",
    "The classical bound in this scenario is\n",
    "\n",
    "$$\n",
    "6 \\geq \\Big(p(0|00) + p(1|10) + p(0|20) + p(1|30)\\Big) + \\Big(p(1|01) + p(0|11) + p(0|21) + p(1|31)\\Big).\n",
    "$$\n",
    "\n",
    "However, quantum systems can achieve a score of $6.828$.\n",
    "\n",
    "\n",
    "## Test Setup\n",
    "\n",
    "The device-independent test is prototyped on a single circuit of a quantum computer. To reduce the test runtime, Alice's inputs are parallelized over 4 independent qubit registers. Parallelizing the circuits will not skew the test results under the assumption that the IBM quantum computer executes its commands faithfully. "
   ]
  },
  {
   "cell_type": "code",
   "execution_count": 10,
   "metadata": {},
   "outputs": [
    {
     "name": "stderr",
     "output_type": "stream",
     "text": [
      "ibmqfactory.load_account:WARNING:2020-07-01 10:19:41,668: Credentials are already in use. The existing account in the session will be replaced.\n"
     ]
    }
   ],
   "source": [
    "# Importing standard Qiskit libraries and configuring account\n",
    "from qiskit import QuantumCircuit, execute, IBMQ\n",
    "from qiskit.tools.jupyter import *\n",
    "from qiskit.visualization import *\n",
    "from qiskit.providers.ibmq.managed import IBMQJobManager\n",
    "\n",
    "# Loading your IBM Q account(s)\n",
    "provider = IBMQ.load_account()\n",
    "\n",
    "import matplotlib.pyplot as plt\n",
    "import numpy as np\n",
    "\n",
    "# custom code\n",
    "import context\n",
    "from device_independent_test import incompatible_measurement\n",
    "from device_independent_test.quantum_communicator import LocalDispatcher"
   ]
  },
  {
   "cell_type": "markdown",
   "metadata": {},
   "source": [
    "## Test Circuit\n",
    "\n",
    "### State Preparation\n",
    "\n",
    "Alice prepares the BB84 states."
   ]
  },
  {
   "cell_type": "code",
   "execution_count": 2,
   "metadata": {},
   "outputs": [
    {
     "data": {
      "text/html": [
       "<pre style=\"word-wrap: normal;white-space: pre;background: #fff0;line-height: 1.1;font-family: &quot;Courier New&quot;,Courier,monospace\">               \n",
       "q_0: ──────────\n",
       "     ┌───┐     \n",
       "q_1: ┤ X ├─────\n",
       "     ├───┤     \n",
       "q_2: ┤ H ├─────\n",
       "     ├───┤┌───┐\n",
       "q_3: ┤ X ├┤ H ├\n",
       "     └───┘└───┘</pre>"
      ],
      "text/plain": [
       "               \n",
       "q_0: ──────────\n",
       "     ┌───┐     \n",
       "q_1: ┤ X ├─────\n",
       "     ├───┤     \n",
       "q_2: ┤ H ├─────\n",
       "     ├───┤┌───┐\n",
       "q_3: ┤ X ├┤ H ├\n",
       "     └───┘└───┘"
      ]
     },
     "execution_count": 2,
     "metadata": {},
     "output_type": "execute_result"
    }
   ],
   "source": [
    "bb84_states = incompatible_measurement.bb84_states()\n",
    "bb84_states.draw()"
   ]
  },
  {
   "cell_type": "markdown",
   "metadata": {},
   "source": [
    "### Incompatible Measurements\n",
    "\n",
    "Incompatible measurements are constructed by applying rotations before measurements in the computational basis. In the protocol, the measurement bases are conditioned off the input $y$. Therefore, we collect data from two circuits running on the quantum computer, one for $y=0$ and the other for $y=1$."
   ]
  },
  {
   "cell_type": "code",
   "execution_count": 3,
   "metadata": {},
   "outputs": [
    {
     "data": {
      "text/html": [
       "<pre style=\"word-wrap: normal;white-space: pre;background: #fff0;line-height: 1.1;font-family: &quot;Courier New&quot;,Courier,monospace\">        ┌───────────────┐                                   ░ ┌─┐         \n",
       "   q_0: ┤ U3(-pi/4,0,0) ├───────────────────────────────────░─┤M├─────────\n",
       "        └─────┬───┬─────┘┌───────────────┐                  ░ └╥┘┌─┐      \n",
       "   q_1: ──────┤ X ├──────┤ U3(-pi/4,0,0) ├──────────────────░──╫─┤M├──────\n",
       "              ├───┤      ├───────────────┤                  ░  ║ └╥┘┌─┐   \n",
       "   q_2: ──────┤ H ├──────┤ U3(-pi/4,0,0) ├──────────────────░──╫──╫─┤M├───\n",
       "              ├───┤      └─────┬───┬─────┘┌───────────────┐ ░  ║  ║ └╥┘┌─┐\n",
       "   q_3: ──────┤ X ├────────────┤ H ├──────┤ U3(-pi/4,0,0) ├─░──╫──╫──╫─┤M├\n",
       "              └───┘            └───┘      └───────────────┘ ░  ║  ║  ║ └╥┘\n",
       "meas_0: ═══════════════════════════════════════════════════════╩══╬══╬══╬═\n",
       "                                                                  ║  ║  ║ \n",
       "meas_1: ══════════════════════════════════════════════════════════╩══╬══╬═\n",
       "                                                                     ║  ║ \n",
       "meas_2: ═════════════════════════════════════════════════════════════╩══╬═\n",
       "                                                                        ║ \n",
       "meas_3: ════════════════════════════════════════════════════════════════╩═\n",
       "                                                                          </pre>"
      ],
      "text/plain": [
       "        ┌───────────────┐                                   ░ ┌─┐         \n",
       "   q_0: ┤ U3(-pi/4,0,0) ├───────────────────────────────────░─┤M├─────────\n",
       "        └─────┬───┬─────┘┌───────────────┐                  ░ └╥┘┌─┐      \n",
       "   q_1: ──────┤ X ├──────┤ U3(-pi/4,0,0) ├──────────────────░──╫─┤M├──────\n",
       "              ├───┤      ├───────────────┤                  ░  ║ └╥┘┌─┐   \n",
       "   q_2: ──────┤ H ├──────┤ U3(-pi/4,0,0) ├──────────────────░──╫──╫─┤M├───\n",
       "              ├───┤      └─────┬───┬─────┘┌───────────────┐ ░  ║  ║ └╥┘┌─┐\n",
       "   q_3: ──────┤ X ├────────────┤ H ├──────┤ U3(-pi/4,0,0) ├─░──╫──╫──╫─┤M├\n",
       "              └───┘            └───┘      └───────────────┘ ░  ║  ║  ║ └╥┘\n",
       "meas_0: ═══════════════════════════════════════════════════════╩══╬══╬══╬═\n",
       "                                                                  ║  ║  ║ \n",
       "meas_1: ══════════════════════════════════════════════════════════╩══╬══╬═\n",
       "                                                                     ║  ║ \n",
       "meas_2: ═════════════════════════════════════════════════════════════╩══╬═\n",
       "                                                                        ║ \n",
       "meas_3: ════════════════════════════════════════════════════════════════╩═\n",
       "                                                                          "
      ]
     },
     "execution_count": 3,
     "metadata": {},
     "output_type": "execute_result"
    }
   ],
   "source": [
    "# Bob's measurement circuit\n",
    "# measure in either pi/4 or 3pi/4 basis\n",
    "def measure_circuit(y):\n",
    "    qc = QuantumCircuit(4)\n",
    "    theta = -1.0*(np.pi/4 + 0.5*y*np.pi)\n",
    "    qc.u3(theta,0,0,range(0,4))\n",
    "    qc.measure_all()\n",
    "    \n",
    "    return qc\n",
    "\n",
    "qc_y0 = bb84_states + measure_circuit(0)\n",
    "\n",
    "qc_y0.draw()"
   ]
  },
  {
   "cell_type": "code",
   "execution_count": 4,
   "metadata": {
    "scrolled": false
   },
   "outputs": [
    {
     "data": {
      "text/html": [
       "<pre style=\"word-wrap: normal;white-space: pre;background: #fff0;line-height: 1.1;font-family: &quot;Courier New&quot;,Courier,monospace\">        ┌────────────────┐                                     ░ ┌─┐         \n",
       "   q_0: ┤ U3(-3pi/4,0,0) ├─────────────────────────────────────░─┤M├─────────\n",
       "        └─────┬───┬──────┘┌────────────────┐                   ░ └╥┘┌─┐      \n",
       "   q_1: ──────┤ X ├───────┤ U3(-3pi/4,0,0) ├───────────────────░──╫─┤M├──────\n",
       "              ├───┤       ├────────────────┤                   ░  ║ └╥┘┌─┐   \n",
       "   q_2: ──────┤ H ├───────┤ U3(-3pi/4,0,0) ├───────────────────░──╫──╫─┤M├───\n",
       "              ├───┤       └─────┬───┬──────┘┌────────────────┐ ░  ║  ║ └╥┘┌─┐\n",
       "   q_3: ──────┤ X ├─────────────┤ H ├───────┤ U3(-3pi/4,0,0) ├─░──╫──╫──╫─┤M├\n",
       "              └───┘             └───┘       └────────────────┘ ░  ║  ║  ║ └╥┘\n",
       "meas_0: ══════════════════════════════════════════════════════════╩══╬══╬══╬═\n",
       "                                                                     ║  ║  ║ \n",
       "meas_1: ═════════════════════════════════════════════════════════════╩══╬══╬═\n",
       "                                                                        ║  ║ \n",
       "meas_2: ════════════════════════════════════════════════════════════════╩══╬═\n",
       "                                                                           ║ \n",
       "meas_3: ═══════════════════════════════════════════════════════════════════╩═\n",
       "                                                                             </pre>"
      ],
      "text/plain": [
       "        ┌────────────────┐                                     ░ ┌─┐         \n",
       "   q_0: ┤ U3(-3pi/4,0,0) ├─────────────────────────────────────░─┤M├─────────\n",
       "        └─────┬───┬──────┘┌────────────────┐                   ░ └╥┘┌─┐      \n",
       "   q_1: ──────┤ X ├───────┤ U3(-3pi/4,0,0) ├───────────────────░──╫─┤M├──────\n",
       "              ├───┤       ├────────────────┤                   ░  ║ └╥┘┌─┐   \n",
       "   q_2: ──────┤ H ├───────┤ U3(-3pi/4,0,0) ├───────────────────░──╫──╫─┤M├───\n",
       "              ├───┤       └─────┬───┬──────┘┌────────────────┐ ░  ║  ║ └╥┘┌─┐\n",
       "   q_3: ──────┤ X ├─────────────┤ H ├───────┤ U3(-3pi/4,0,0) ├─░──╫──╫──╫─┤M├\n",
       "              └───┘             └───┘       └────────────────┘ ░  ║  ║  ║ └╥┘\n",
       "meas_0: ══════════════════════════════════════════════════════════╩══╬══╬══╬═\n",
       "                                                                     ║  ║  ║ \n",
       "meas_1: ═════════════════════════════════════════════════════════════╩══╬══╬═\n",
       "                                                                        ║  ║ \n",
       "meas_2: ════════════════════════════════════════════════════════════════╩══╬═\n",
       "                                                                           ║ \n",
       "meas_3: ═══════════════════════════════════════════════════════════════════╩═\n",
       "                                                                             "
      ]
     },
     "execution_count": 4,
     "metadata": {},
     "output_type": "execute_result"
    }
   ],
   "source": [
    "# y = 1\n",
    "qc_y1 = bb84_states + measure_circuit(1)\n",
    "\n",
    "qc_y1.draw()"
   ]
  },
  {
   "cell_type": "markdown",
   "metadata": {},
   "source": [
    "## Running on the Simulator\n",
    "\n",
    "The following code block uses our dispatcher to batch run the prepare and measure circuits on the Qiskit simulator. "
   ]
  },
  {
   "cell_type": "code",
   "execution_count": 5,
   "metadata": {},
   "outputs": [],
   "source": [
    "dispatcher = LocalDispatcher([provider.get_backend('ibmq_qasm_simulator')])\n",
    "shots = 1000\n",
    "\n",
    "counts = dispatcher.batch_run_and_transmit(\n",
    "    [incompatible_measurement.bb84_states()],\n",
    "    [[QuantumCircuit(4)],[measure_circuit(0),measure_circuit(1)]],\n",
    "    shots\n",
    ")"
   ]
  },
  {
   "cell_type": "markdown",
   "metadata": {},
   "source": [
    "### Outcome Statistics\n",
    "\n",
    "The outcome statistics for each test are displayed.\n",
    "\n",
    "\n",
    "#### Statistics for y = 0"
   ]
  },
  {
   "cell_type": "code",
   "execution_count": 6,
   "metadata": {},
   "outputs": [
    {
     "data": {
      "image/png": "[encoded data removed]",
      "text/plain": [
       "<Figure size 504x360 with 1 Axes>"
      ]
     },
     "execution_count": 6,
     "metadata": {},
     "output_type": "execute_result"
    }
   ],
   "source": [
    "plot_histogram(counts[0])"
   ]
  },
  {
   "cell_type": "markdown",
   "metadata": {},
   "source": [
    "#### Statistics for y = 1"
   ]
  },
  {
   "cell_type": "code",
   "execution_count": 7,
   "metadata": {},
   "outputs": [
    {
     "data": {
      "image/png": "[encoded data removed]",
      "text/plain": [
       "<Figure size 504x360 with 1 Axes>"
      ]
     },
     "execution_count": 7,
     "metadata": {},
     "output_type": "execute_result"
    }
   ],
   "source": [
    "plot_histogram(counts[1])"
   ]
  },
  {
   "cell_type": "markdown",
   "metadata": {},
   "source": [
    "### Verifying Bell Violation\n",
    "\n",
    "The outcome statistics can be used to compute the score against the bell inequality. The classical bound is 6, but our quantum protocol can achieve a score of 6.828."
   ]
  },
  {
   "cell_type": "code",
   "execution_count": 8,
   "metadata": {},
   "outputs": [
    {
     "name": "stdout",
     "output_type": "stream",
     "text": [
      "classical bound :  6\n",
      "bell violation :  6.83\n"
     ]
    }
   ],
   "source": [
    "bell_violation = incompatible_measurement.bell_violation(counts[0], counts[1], shots, shots)\n",
    "\n",
    "print(\"classical bound : \", 6)\n",
    "print(\"bell violation : \", bell_violation)"
   ]
  },
  {
   "cell_type": "markdown",
   "metadata": {},
   "source": [
    "## Running the Test on a Quantum Computer\n",
    "\n",
    "We use the handshake class to run the device-independent for our handshake protocol. The test is run on the `'ibmq_16_melbourne'` quantum computer. "
   ]
  },
  {
   "cell_type": "code",
   "execution_count": 9,
   "metadata": {},
   "outputs": [
    {
     "name": "stdout",
     "output_type": "stream",
     "text": [
      "Passed Measurment Incompatibility with value:  6.558\n"
     ]
    },
    {
     "data": {
      "text/plain": [
       "(True, 6.558)"
      ]
     },
     "execution_count": 9,
     "metadata": {},
     "output_type": "execute_result"
    }
   ],
   "source": [
    "from device_independent_test.handshake import HandShake\n",
    "\n",
    "dispatcher = LocalDispatcher([provider.get_backend('ibmq_16_melbourne')])\n",
    "handshake = HandShake(dispatcher)\n",
    "\n",
    "shots = 2000\n",
    "tolerance = 0.4\n",
    "handshake.measurement_incompatibility(tolerance, shots)"
   ]
  },
  {
   "cell_type": "markdown",
   "metadata": {},
   "source": [
    "The quantum computer violates the classical bound of 6, but does not achieve the optimal quantum score, 6.828. This is likely due to noise inherent in running the quantum computer. In bipartite communication scenarios, the allowable amount of error, will have to be tailored for the protocols which will run once our verification handshake is complete.  "
   ]
  },
  {
   "cell_type": "code",
   "execution_count": null,
   "metadata": {},
   "outputs": [],
   "source": []
  }
 ],
 "metadata": {
  "@webio": {
   "lastCommId": null,
   "lastKernelId": null
  },
  "kernelspec": {
   "display_name": "Python 3",
   "language": "python",
   "name": "python3"
  },
  "language_info": {
   "codemirror_mode": {
    "name": "ipython",
    "version": 3
   },
   "file_extension": ".py",
   "mimetype": "text/x-python",
   "name": "python",
   "nbconvert_exporter": "python",
   "pygments_lexer": "ipython3",
   "version": "3.7.4"
  },
  "toc": {
   "base_numbering": 1,
   "nav_menu": {},
   "number_sections": false,
   "sideBar": false,
   "skip_h1_title": false,
   "title_cell": "Table of Contents",
   "title_sidebar": "Contents",
   "toc_cell": false,
   "toc_position": {},
   "toc_section_display": false,
   "toc_window_display": false
  }
 },
 "nbformat": 4,
 "nbformat_minor": 2
}
