{
 "cells": [
  {
   "cell_type": "markdown",
   "metadata": {},
   "source": [
    "# Measurement Incompatibility Testing"
   ]
  },
  {
   "cell_type": "code",
   "execution_count": null,
   "metadata": {},
   "outputs": [],
   "source": [
    "# Make sure to load your IBM Q token before running the below block"
   ]
  },
  {
   "cell_type": "code",
   "execution_count": 11,
   "metadata": {},
   "outputs": [
    {
     "name": "stderr",
     "output_type": "stream",
     "text": [
      "ibmqfactory.load_account:WARNING:2020-06-25 13:41:58,859: Credentials are already in use. The existing account in the session will be replaced.\n"
     ]
    }
   ],
   "source": [
    "# Importing standard Qiskit libraries and configuring account\n",
    "from qiskit import QuantumCircuit, execute, Aer, IBMQ\n",
    "from qiskit.compiler import transpile, assemble\n",
    "from qiskit.tools.jupyter import *\n",
    "from qiskit.visualization import *\n",
    "from qiskit.providers.ibmq.managed import IBMQJobManager\n",
    "\n",
    "# Loading your IBM Q account(s)\n",
    "provider = IBMQ.load_account()\n",
    "\n",
    "import matplotlib.pyplot as plt\n",
    "import numpy as np\n",
    "\n",
    "# custom code\n",
    "import context\n",
    "from device_independent_test import incompatible_measurement"
   ]
  },
  {
   "cell_type": "code",
   "execution_count": 2,
   "metadata": {},
   "outputs": [
    {
     "data": {
      "text/html": [
       "<pre style=\"word-wrap: normal;white-space: pre;background: #fff0;line-height: 1.1;font-family: &quot;Courier New&quot;,Courier,monospace\">               \n",
       "q_0: ──────────\n",
       "     ┌───┐     \n",
       "q_1: ┤ X ├─────\n",
       "     ├───┤     \n",
       "q_2: ┤ H ├─────\n",
       "     ├───┤┌───┐\n",
       "q_3: ┤ X ├┤ H ├\n",
       "     └───┘└───┘</pre>"
      ],
      "text/plain": [
       "               \n",
       "q_0: ──────────\n",
       "     ┌───┐     \n",
       "q_1: ┤ X ├─────\n",
       "     ├───┤     \n",
       "q_2: ┤ H ├─────\n",
       "     ├───┤┌───┐\n",
       "q_3: ┤ X ├┤ H ├\n",
       "     └───┘└───┘"
      ]
     },
     "execution_count": 2,
     "metadata": {},
     "output_type": "execute_result"
    }
   ],
   "source": [
    "def bb84_states():\n",
    "    # Alice's half of the circuit\n",
    "    # creates 0,1,+,-\n",
    "    qc = QuantumCircuit(4)\n",
    "    qc.x(1) # create 1\n",
    "    qc.h(2) # create +\n",
    "    qc.x(3) # create -\n",
    "    qc.h(3) # ^\n",
    "    return qc"
   ]
  },
  {
   "cell_type": "code",
   "execution_count": 88,
   "metadata": {},
   "outputs": [],
   "source": [
    "def measure_circuit(y):\n",
    "    # Bob's measurement circuit\n",
    "    # measure in either pi/4 or 3pi/4 basis\n",
    "    qc = QuantumCircuit(4)\n",
    "    theta = -1.0*(np.pi/4 + 0.5*y*np.pi)\n",
    "    qc.u3(theta,0,0,range(0,4))\n",
    "    #qc.u3(theta,0,0,1)\n",
    "    #qc.u3(theta,0,0,2)\n",
    "    #qc.u3(theta,0,0,3)\n",
    "    qc.measure_all()\n",
    "    return qc"
   ]
  },
  {
   "cell_type": "code",
   "execution_count": 89,
   "metadata": {
    "scrolled": false
   },
   "outputs": [
    {
     "data": {
      "text/html": [
       "<pre style=\"word-wrap: normal;white-space: pre;background: #fff0;line-height: 1.1;font-family: &quot;Courier New&quot;,Courier,monospace\">        ┌───────────────┐                                   ░ ┌─┐         \n",
       "   q_0: ┤ U3(-pi/4,0,0) ├───────────────────────────────────░─┤M├─────────\n",
       "        └─────┬───┬─────┘┌───────────────┐                  ░ └╥┘┌─┐      \n",
       "   q_1: ──────┤ X ├──────┤ U3(-pi/4,0,0) ├──────────────────░──╫─┤M├──────\n",
       "              ├───┤      ├───────────────┤                  ░  ║ └╥┘┌─┐   \n",
       "   q_2: ──────┤ H ├──────┤ U3(-pi/4,0,0) ├──────────────────░──╫──╫─┤M├───\n",
       "              ├───┤      └─────┬───┬─────┘┌───────────────┐ ░  ║  ║ └╥┘┌─┐\n",
       "   q_3: ──────┤ X ├────────────┤ H ├──────┤ U3(-pi/4,0,0) ├─░──╫──╫──╫─┤M├\n",
       "              └───┘            └───┘      └───────────────┘ ░  ║  ║  ║ └╥┘\n",
       "meas_0: ═══════════════════════════════════════════════════════╩══╬══╬══╬═\n",
       "                                                                  ║  ║  ║ \n",
       "meas_1: ══════════════════════════════════════════════════════════╩══╬══╬═\n",
       "                                                                     ║  ║ \n",
       "meas_2: ═════════════════════════════════════════════════════════════╩══╬═\n",
       "                                                                        ║ \n",
       "meas_3: ════════════════════════════════════════════════════════════════╩═\n",
       "                                                                          </pre>"
      ],
      "text/plain": [
       "        ┌───────────────┐                                   ░ ┌─┐         \n",
       "   q_0: ┤ U3(-pi/4,0,0) ├───────────────────────────────────░─┤M├─────────\n",
       "        └─────┬───┬─────┘┌───────────────┐                  ░ └╥┘┌─┐      \n",
       "   q_1: ──────┤ X ├──────┤ U3(-pi/4,0,0) ├──────────────────░──╫─┤M├──────\n",
       "              ├───┤      ├───────────────┤                  ░  ║ └╥┘┌─┐   \n",
       "   q_2: ──────┤ H ├──────┤ U3(-pi/4,0,0) ├──────────────────░──╫──╫─┤M├───\n",
       "              ├───┤      └─────┬───┬─────┘┌───────────────┐ ░  ║  ║ └╥┘┌─┐\n",
       "   q_3: ──────┤ X ├────────────┤ H ├──────┤ U3(-pi/4,0,0) ├─░──╫──╫──╫─┤M├\n",
       "              └───┘            └───┘      └───────────────┘ ░  ║  ║  ║ └╥┘\n",
       "meas_0: ═══════════════════════════════════════════════════════╩══╬══╬══╬═\n",
       "                                                                  ║  ║  ║ \n",
       "meas_1: ══════════════════════════════════════════════════════════╩══╬══╬═\n",
       "                                                                     ║  ║ \n",
       "meas_2: ═════════════════════════════════════════════════════════════╩══╬═\n",
       "                                                                        ║ \n",
       "meas_3: ════════════════════════════════════════════════════════════════╩═\n",
       "                                                                          "
      ]
     },
     "execution_count": 89,
     "metadata": {},
     "output_type": "execute_result"
    }
   ],
   "source": [
    "qc = bb84_states() + measure_circuit(0)\n",
    "qc.draw()"
   ]
  },
  {
   "cell_type": "code",
   "execution_count": 32,
   "metadata": {
    "scrolled": true
   },
   "outputs": [
    {
     "name": "stdout",
     "output_type": "stream",
     "text": [
      "Job Status: job has successfully run\n"
     ]
    },
    {
     "data": {
      "image/png": "[encoded data removed]",
      "text/plain": [
       "<Figure size 504x360 with 1 Axes>"
      ]
     },
     "execution_count": 32,
     "metadata": {},
     "output_type": "execute_result"
    }
   ],
   "source": [
    "# OUTDATED CODE\n",
    "# SEE CELL BELOW FOR BATCH JOB\n",
    "\n",
    "from qiskit.tools.monitor import *\n",
    "def run_job(qc):\n",
    "    # runs test on all inputs\n",
    "    # run cicuits in one batch\n",
    "    #job_manager = IBMQJobManager()\n",
    "    #job_set = job_manager.run([qc_0, qc_1], backend=provider.get_backend('ibmq_qasm_simulator'), name='msrincom_test')\n",
    "    #job_monitor(job_set)\n",
    "    #job_set.error_message()\n",
    "    job = execute(qc, backend=provider.get_backend('ibmq_qasm_simulator'), shots=1000)\n",
    "    job_monitor(job)\n",
    "    return job\n",
    "qc_0 = bb84_states() + measure_circuit(0)\n",
    "job = run_job(qc_0)\n",
    "job.result().get_counts(qc_0)\n",
    "plot_histogram(job.result().get_counts(qc_0))\n"
   ]
  },
  {
   "cell_type": "code",
   "execution_count": 78,
   "metadata": {},
   "outputs": [],
   "source": [
    "from qiskit.tools.monitor import *\n",
    "def run_jobs(qc):\n",
    "    # run cicuits in one batch\n",
    "    job_manager = IBMQJobManager()\n",
    "    job_set = job_manager.run(qc, backend=provider.get_backend('ibmq_qasm_simulator'), name='msrincom_test')\n",
    "    job_set.error_messages()\n",
    "    return job_set\n",
    "qc_0 = bb84_states() + measure_circuit(0)\n",
    "qc_1 = bb84_states() + measure_circuit(1)\n",
    "managed_job = run_jobs([qc_0,qc_1])\n"
   ]
  },
  {
   "cell_type": "code",
   "execution_count": 83,
   "metadata": {},
   "outputs": [
    {
     "data": {
      "text/plain": [
       "{'1011': 85,\n",
       " '0000': 17,\n",
       " '0001': 2,\n",
       " '1001': 23,\n",
       " '1111': 20,\n",
       " '1100': 18,\n",
       " '1010': 524,\n",
       " '0010': 104,\n",
       " '0100': 4,\n",
       " '0111': 3,\n",
       " '1101': 4,\n",
       " '0110': 10,\n",
       " '1110': 94,\n",
       " '1000': 105,\n",
       " '0011': 11}"
      ]
     },
     "execution_count": 83,
     "metadata": {},
     "output_type": "execute_result"
    }
   ],
   "source": [
    "result_0 = managed_job.job(0)[0].result()\n",
    "result_1 = managed_job.job(1)[0].result()\n",
    "#managed_job.job(0)[0].error_message()\n",
    "result_0.get_counts(qc_0)"
   ]
  },
  {
   "cell_type": "code",
   "execution_count": 33,
   "metadata": {},
   "outputs": [
    {
     "name": "stdout",
     "output_type": "stream",
     "text": [
      "Job Status: job has successfully run\n"
     ]
    },
    {
     "data": {
      "image/png": "[encoded data removed]",
      "text/plain": [
       "<Figure size 504x360 with 1 Axes>"
      ]
     },
     "execution_count": 33,
     "metadata": {},
     "output_type": "execute_result"
    }
   ],
   "source": [
    "qc_1 = bb84_states() + measure_circuit(1)\n",
    "job2 = run_job(qc_1)\n",
    "job2.result().get_counts(qc_1)\n",
    "plot_histogram(job2.result().get_counts(qc_1))"
   ]
  },
  {
   "cell_type": "code",
   "execution_count": 61,
   "metadata": {},
   "outputs": [
    {
     "name": "stdout",
     "output_type": "stream",
     "text": [
      "{'1011': 78, '0000': 11, '0001': 103, '1001': 523, '1111': 17, '1100': 14, '0101': 19, '1010': 16, '0111': 3, '1101': 103, '0110': 1, '1110': 5, '1000': 91, '0011': 16}\n",
      "[[138. 864. 838. 153.]\n",
      " [862. 136. 162. 847.]]\n",
      "[[0.138 0.864 0.838 0.153]\n",
      " [0.862 0.136 0.162 0.847]]\n"
     ]
    }
   ],
   "source": [
    "counts = job2.result().get_counts(qc_1)\n",
    "print(counts)\n",
    "\n",
    "# 2x4 matrix for probabilities\n",
    "# row for x\n",
    "# column for y\n",
    "bins = (2,4)\n",
    "bins = np.zeros(bins)\n",
    "\n",
    "# iterate over dictionary\n",
    "for state in counts:\n",
    "    for i in range(0,4):\n",
    "        r = int(state[i])\n",
    "        c = 3 - i\n",
    "        bins[r,c] += counts[state]\n",
    "print(bins)\n",
    "# convert bins to probibilities\n",
    "probs = bins / 1000.0\n",
    "print(probs)"
   ]
  },
  {
   "cell_type": "code",
   "execution_count": null,
   "metadata": {},
   "outputs": [],
   "source": []
  }
 ],
 "metadata": {
  "kernelspec": {
   "display_name": "Python 3",
   "language": "python",
   "name": "python3"
  },
  "language_info": {
   "codemirror_mode": {
    "name": "ipython",
    "version": 3
   },
   "file_extension": ".py",
   "mimetype": "text/x-python",
   "name": "python",
   "nbconvert_exporter": "python",
   "pygments_lexer": "ipython3",
   "version": "3.7.3"
  },
  "toc": {
   "base_numbering": 1,
   "nav_menu": {},
   "number_sections": false,
   "sideBar": false,
   "skip_h1_title": false,
   "title_cell": "Table of Contents",
   "title_sidebar": "Contents",
   "toc_cell": false,
   "toc_position": {},
   "toc_section_display": false,
   "toc_window_display": false
  }
 },
 "nbformat": 4,
 "nbformat_minor": 2
}
