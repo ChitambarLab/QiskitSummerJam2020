{
 "cells": [
  {
   "cell_type": "markdown",
   "metadata": {},
   "source": [
    "# CHSH Inequality as a Device-Independent Test of Entanglement\n",
    "\n",
    "## Entanglement\n",
    "One of the most pecuiliar and perhaps also the most well-known quantum phenomena is quantum entanglement. Briefly summarized, entanglement gives rise to a non-classical correlation shared between two or more parties. To be more exact, a bipartite classical (separable) state is given as:\n",
    "$$\\rho^{AB} = \\sum_i p_i \\rho_i^A \\rho_i^B$$\n",
    "    whereas an entangled state is any $\\rho^{AB}$ that cannot be decomposed in the form above. An example of an entangled state is the Bell state $|\\Phi^+\\rangle=\\frac{1}{\\sqrt{2}}|00\\rangle+\\frac{1}{\\sqrt{2}}|11\\rangle$.\n",
    "\n",
    "In his seminal paper in 1964, Bell showed that entangled states can demostrate fundamentally different correlations than correlations that are achievable with separable states. Later in 1969, Clauser, Horne, Shimony, and Holt modified the original approach set out by Bell, and gave a simpler inequality (now termed the CHSH inequality) that all separable states must satisfy. Curiously, there are entangled states that violates the CHSH inequality. We will discuss in more detail the CHSH inequality and its quantum violations below.\n",
    "\n",
    "## The Classical Bound: CHSH Inequality \n",
    "Given any state $\\rho^{AB}$ that is shared between Alice and Bob, both parties can choose a measurement they would like to perform on their part of the state (here for simplicity we assume that they choose from two-outcome measurements labeled 1 and -1). Suppose that Alice chooses to measure $X$, and Bob chooses to measure $Y$. After sufficient trials, we can calculate the expectation value $\\langle XY\\rangle = P(XY=1)-P(XY=-1)=P(X=1,Y=1)+P(X=-1,Y=-1)-P(X=1,Y=-1)-P(X=-1,Y=1)$. Now similarly, Alice and Bob can also change their measurement and measure $X'$ and $Y'$. If Alice and Bob share a separable state, then it must be that \n",
    "$$|\\langle XY\\rangle + \\langle X'Y\\rangle + \\langle XY'\\rangle - \\langle X'Y'\\rangle|\\le 2.$$\n",
    "This is the CHSH inequality alluded to above.\n",
    "\n",
    "## Quantum Violation of CHSH Inequality\n",
    "While all separable states must satisfy that $|\\langle XY\\rangle + \\langle X'Y\\rangle + \\langle XY'\\rangle - \\langle X'Y'\\rangle|\\le 2$, it is possible to violate this inequality with some entangled states. An example of such violation  is achieved by the Bell state $|\\Phi^+\\rangle=\\frac{1}{\\sqrt{2}}|00\\rangle+\\frac{1}{\\sqrt{2}}|11\\rangle$ with measurements given by: \n",
    "$$\n",
    "X = \\sigma_x,\\quad X' = \\sigma_z,\\quad Y = \\frac{1}{\\sqrt{2}}(\\sigma_z+\\sigma_x),\\quad Y' = \\frac{1}{\\sqrt{2}}(\\sigma_z-\\sigma_x)\n",
    "$$\n",
    "where $\\sigma_z$ and $\\sigma_x$ are the Pauli Z and Pauli X operators respectively. Straightforward calculation reveals that the correlation will should be $2\\sqrt{2}>2$ in this case. Here, we will run the quantum computer to prepare $|\\Phi^+\\rangle$ and perform exactly this measurement to verify that we have indeed created an entangled state.  <span style='color:Red'> insert code cell  </span>\n",
    "\n",
    "## Device Independence\n",
    "There are a number of ways to verify that a state is indeed entangled. The most straightforward approach is to perform a state tomography. The essential idea behind state tomography is to perform projective measurements onto an over-complete basis, and use the measurement statistics to reconstruct the original state. However, there is one caveat to this approach. We have to trust that the measurements being performed on the quantum system are indeed what we intended to perform. If the quantum system is \"secretly\" performing different measurements than what we thought, we could end up reconstructing an erroneous state, thus only have an illusion of entanglement.\n",
    "\n",
    "In contrast, verification of entanglement through violation of CHSH inequality is manifestly device-independent. All we need from the system and the measurement on the system is that they produce statistics that violates the CHSH inequality. As long as there is such a violation, then there has to be entanglment shared between the two parties (barring a couple of loopholes such as the locality loophole).\n",
    "\n",
    "# References\n"
   ]
  },
  {
   "cell_type": "code",
   "execution_count": null,
   "metadata": {},
   "outputs": [],
   "source": []
  }
 ],
 "metadata": {
  "kernelspec": {
   "display_name": "Python 3",
   "language": "python",
   "name": "python3"
  },
  "language_info": {
   "codemirror_mode": {
    "name": "ipython",
    "version": 3
   },
   "file_extension": ".py",
   "mimetype": "text/x-python",
   "name": "python",
   "nbconvert_exporter": "python",
   "pygments_lexer": "ipython3",
   "version": "3.7.3"
  }
 },
 "nbformat": 4,
 "nbformat_minor": 2
}
