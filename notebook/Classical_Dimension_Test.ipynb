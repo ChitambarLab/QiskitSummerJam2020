{
 "cells": [
  {
   "cell_type": "code",
   "execution_count": null,
   "metadata": {},
   "outputs": [],
   "source": []
  },
  {
   "cell_type": "markdown",
   "metadata": {},
   "source": [
    "# A Rudimentary Test for Classical Dimension\n",
    "\n",
    "Alice receives an input $x\\in\\{0,1,2,3\\}$ and sends it to Bob using 2 classical bits ($|0\\rangle$, $|1\\rangle$ qubits). Bob measures in the computational basis and outputs the result. The success probability for quantum and classical scenarios is bounded by  $d/N \\geq 1/N\\sum_x p(b=x,x)$, where $d$ is the number of dimensions in the hilbert space and $N$ is the number of inputs $x$. \n",
    "\n",
    "* The first test considers when Alice and Bob verify the ability to send two bits.\n",
    "* The second test considers when Alice encodes the input onto a single bit. "
   ]
  },
  {
   "cell_type": "code",
   "execution_count": 1,
   "metadata": {},
   "outputs": [],
   "source": [
    "from qiskit import QuantumCircuit,execute, IBMQ\n",
    "from qiskit.tools.monitor import *\n",
    "from qiskit.providers.ibmq.managed import IBMQJobManager\n",
    "\n",
    "provider = IBMQ.load_account()\n",
    "\n",
    "import matplotlib.pyplot as plt\n",
    "import numpy as np\n",
    "\n",
    "import context\n",
    "from device_independent_test import dimension\n",
    "from device_independent_test.handshake import HandShake\n",
    "from device_independent_test.quantum_communicator import LocalDispatcher"
   ]
  },
  {
   "cell_type": "code",
   "execution_count": 2,
   "metadata": {},
   "outputs": [
    {
     "data": {
      "text/html": [
       "<pre style=\"word-wrap: normal;white-space: pre;background: #fff0;line-height: 1.1;font-family: &quot;Courier New&quot;,Courier,monospace\">          \n",
       "q_0: ─────\n",
       "     ┌───┐\n",
       "q_1: ┤ X ├\n",
       "     ├───┤\n",
       "q_2: ┤ X ├\n",
       "     └───┘\n",
       "q_3: ─────\n",
       "     ┌───┐\n",
       "q_4: ┤ X ├\n",
       "     └───┘</pre>"
      ],
      "text/plain": [
       "          \n",
       "q_0: ─────\n",
       "     ┌───┐\n",
       "q_1: ┤ X ├\n",
       "     ├───┤\n",
       "q_2: ┤ X ├\n",
       "     └───┘\n",
       "q_3: ─────\n",
       "     ┌───┐\n",
       "q_4: ┤ X ├\n",
       "     └───┘"
      ]
     },
     "execution_count": 2,
     "metadata": {},
     "output_type": "execute_result"
    }
   ],
   "source": [
    "bit_circ = dimension.prepare_bit_circuit([0,1,1,0,1])\n",
    "\n",
    "bit_circ.draw()"
   ]
  },
  {
   "cell_type": "markdown",
   "metadata": {},
   "source": [
    "## Test 1)\n",
    "\n",
    "Alice and Bob can prepare and measure a set of orthogonal measurements on a 4-dimensional Hilbert space. Alice simply encodes the input $x\\in\\{0,1,2,3\\}$ into the bit string and Bob decodes it without error. Assuming a uniform prior distribution for $x$, the success probability for this case is $1 \\geq 1/4 \\sum_x p(b=x|x)$."
   ]
  },
  {
   "cell_type": "code",
   "execution_count": 3,
   "metadata": {},
   "outputs": [
    {
     "data": {
      "text/html": [
       "<pre style=\"word-wrap: normal;white-space: pre;background: #fff0;line-height: 1.1;font-family: &quot;Courier New&quot;,Courier,monospace\">         ░ ┌─┐   \n",
       "   q_0: ─░─┤M├───\n",
       "         ░ └╥┘┌─┐\n",
       "   q_1: ─░──╫─┤M├\n",
       "         ░  ║ └╥┘\n",
       "meas_0: ════╩══╬═\n",
       "               ║ \n",
       "meas_1: ═══════╩═\n",
       "                 </pre>"
      ],
      "text/plain": [
       "         ░ ┌─┐   \n",
       "   q_0: ─░─┤M├───\n",
       "         ░ └╥┘┌─┐\n",
       "   q_1: ─░──╫─┤M├\n",
       "         ░  ║ └╥┘\n",
       "meas_0: ════╩══╬═\n",
       "               ║ \n",
       "meas_1: ═══════╩═\n",
       "                 "
      ]
     },
     "metadata": {},
     "output_type": "display_data"
    },
    {
     "data": {
      "text/html": [
       "<pre style=\"word-wrap: normal;white-space: pre;background: #fff0;line-height: 1.1;font-family: &quot;Courier New&quot;,Courier,monospace\">              ░ ┌─┐   \n",
       "   q_0: ──────░─┤M├───\n",
       "        ┌───┐ ░ └╥┘┌─┐\n",
       "   q_1: ┤ X ├─░──╫─┤M├\n",
       "        └───┘ ░  ║ └╥┘\n",
       "meas_0: ═════════╩══╬═\n",
       "                    ║ \n",
       "meas_1: ════════════╩═\n",
       "                      </pre>"
      ],
      "text/plain": [
       "              ░ ┌─┐   \n",
       "   q_0: ──────░─┤M├───\n",
       "        ┌───┐ ░ └╥┘┌─┐\n",
       "   q_1: ┤ X ├─░──╫─┤M├\n",
       "        └───┘ ░  ║ └╥┘\n",
       "meas_0: ═════════╩══╬═\n",
       "                    ║ \n",
       "meas_1: ════════════╩═\n",
       "                      "
      ]
     },
     "metadata": {},
     "output_type": "display_data"
    },
    {
     "data": {
      "text/html": [
       "<pre style=\"word-wrap: normal;white-space: pre;background: #fff0;line-height: 1.1;font-family: &quot;Courier New&quot;,Courier,monospace\">        ┌───┐ ░ ┌─┐   \n",
       "   q_0: ┤ X ├─░─┤M├───\n",
       "        └───┘ ░ └╥┘┌─┐\n",
       "   q_1: ──────░──╫─┤M├\n",
       "              ░  ║ └╥┘\n",
       "meas_0: ═════════╩══╬═\n",
       "                    ║ \n",
       "meas_1: ════════════╩═\n",
       "                      </pre>"
      ],
      "text/plain": [
       "        ┌───┐ ░ ┌─┐   \n",
       "   q_0: ┤ X ├─░─┤M├───\n",
       "        └───┘ ░ └╥┘┌─┐\n",
       "   q_1: ──────░──╫─┤M├\n",
       "              ░  ║ └╥┘\n",
       "meas_0: ═════════╩══╬═\n",
       "                    ║ \n",
       "meas_1: ════════════╩═\n",
       "                      "
      ]
     },
     "metadata": {},
     "output_type": "display_data"
    },
    {
     "data": {
      "text/html": [
       "<pre style=\"word-wrap: normal;white-space: pre;background: #fff0;line-height: 1.1;font-family: &quot;Courier New&quot;,Courier,monospace\">        ┌───┐ ░ ┌─┐   \n",
       "   q_0: ┤ X ├─░─┤M├───\n",
       "        ├───┤ ░ └╥┘┌─┐\n",
       "   q_1: ┤ X ├─░──╫─┤M├\n",
       "        └───┘ ░  ║ └╥┘\n",
       "meas_0: ═════════╩══╬═\n",
       "                    ║ \n",
       "meas_1: ════════════╩═\n",
       "                      </pre>"
      ],
      "text/plain": [
       "        ┌───┐ ░ ┌─┐   \n",
       "   q_0: ┤ X ├─░─┤M├───\n",
       "        ├───┤ ░ └╥┘┌─┐\n",
       "   q_1: ┤ X ├─░──╫─┤M├\n",
       "        └───┘ ░  ║ └╥┘\n",
       "meas_0: ═════════╩══╬═\n",
       "                    ║ \n",
       "meas_1: ════════════╩═\n",
       "                      "
      ]
     },
     "metadata": {},
     "output_type": "display_data"
    }
   ],
   "source": [
    "# alice prepares the complete set of orthogonal states\n",
    "\n",
    "qc_00 = dimension.prepare_bit_circuit([0,0])\n",
    "qc_01 = dimension.prepare_bit_circuit([0,1])\n",
    "qc_10 = dimension.prepare_bit_circuit([1,0])\n",
    "qc_11 = dimension.prepare_bit_circuit([1,1])\n",
    "\n",
    "circuits = [qc_00, qc_01, qc_10, qc_11]\n",
    "\n",
    "# Bob measures in the computational basis.\n",
    "for qc in circuits:\n",
    "    qc.measure_all()\n",
    "    \n",
    "for qc in circuits:\n",
    "    display(qc.draw())\n"
   ]
  },
  {
   "cell_type": "code",
   "execution_count": 4,
   "metadata": {},
   "outputs": [
    {
     "name": "stdout",
     "output_type": "stream",
     "text": [
      "Job Status: job has successfully run\n",
      "Job Status: job has successfully run\n",
      "Job Status: job has successfully run\n",
      "Job Status: job has successfully run\n"
     ]
    }
   ],
   "source": [
    "# running tests on quantum computer\n",
    "\n",
    "def run_job(qc, shots):\n",
    "    job = execute(qc, backend=provider.get_backend('ibmq_qasm_simulator'), shots=shots)\n",
    "    job_monitor(job)\n",
    "    return job\n",
    "\n",
    "shots = 1000\n",
    "d4_job_00 = run_job(qc_00, shots)\n",
    "d4_job_01 = run_job(qc_01, shots)\n",
    "d4_job_10 = run_job(qc_10, shots)\n",
    "d4_job_11 = run_job(qc_11, shots)"
   ]
  },
  {
   "cell_type": "code",
   "execution_count": 5,
   "metadata": {},
   "outputs": [
    {
     "data": {
      "text/plain": [
       "1.0"
      ]
     },
     "execution_count": 5,
     "metadata": {},
     "output_type": "execute_result"
    }
   ],
   "source": [
    "# parsing statistics\n",
    "d4_counts_00 = d4_job_00.result().get_counts()\n",
    "d4_counts_01 = d4_job_01.result().get_counts()\n",
    "d4_counts_10 = d4_job_10.result().get_counts()\n",
    "d4_counts_11 = d4_job_11.result().get_counts()\n",
    "\n",
    "# success probability for a d=4 system is 1\n",
    "p_succ_00 = d4_counts_00[\"00\"]/shots\n",
    "p_succ_01 = d4_counts_01[\"10\"]/shots # qiskits labeling is weird\n",
    "p_succ_10 = d4_counts_10[\"01\"]/shots # qiskits labeling is weird\n",
    "p_succ_11 = d4_counts_11[\"11\"]/shots\n",
    "\n",
    "d4_success_probability = (p_succ_00 + p_succ_01 + p_succ_10 + p_succ_11)/4 # divide by 4 because there are 4 inputs.\n",
    "\n",
    "d4_success_probability"
   ]
  },
  {
   "cell_type": "markdown",
   "metadata": {},
   "source": [
    "Above test can be run as the following with specific tolerance and shots."
   ]
  },
  {
   "cell_type": "code",
   "execution_count": 2,
   "metadata": {},
   "outputs": [
    {
     "name": "stdout",
     "output_type": "stream",
     "text": [
      "Passed Dimensionality with value:  1.0\n"
     ]
    },
    {
     "data": {
      "text/plain": [
       "(True, 1.0)"
      ]
     },
     "execution_count": 2,
     "metadata": {},
     "output_type": "execute_result"
    }
   ],
   "source": [
    "\n",
    "dispatcher = LocalDispatcher([provider.get_backend('ibmq_qasm_simulator')])\n",
    "handshake = HandShake(dispatcher)\n",
    "\n",
    "tolerance = 0.1\n",
    "shots = 1000\n",
    "handshake.dimensionality(tolerance, shots)\n"
   ]
  },
  {
   "cell_type": "code",
   "execution_count": 3,
   "metadata": {},
   "outputs": [
    {
     "name": "stdout",
     "output_type": "stream",
     "text": [
      "Passed Dimensionality with value:  0.9065\n"
     ]
    },
    {
     "data": {
      "text/plain": [
       "(True, 0.9065)"
      ]
     },
     "execution_count": 3,
     "metadata": {},
     "output_type": "execute_result"
    }
   ],
   "source": [
    "\n",
    "dispatcher = LocalDispatcher([provider.get_backend('ibmq_london')])\n",
    "handshake = HandShake(dispatcher)\n",
    "\n",
    "tolerance = 0.1\n",
    "shots = 1000\n",
    "handshake.dimensionality(tolerance, shots)\n"
   ]
  },
  {
   "cell_type": "markdown",
   "metadata": {},
   "source": [
    "## Test 2)\n",
    "\n",
    "Alice can only encode information in one classical bit, the second bit is constant. The measurement success_probability is $0.5 \\geq 1/4 \\sum_x p(b=x|x)$."
   ]
  },
  {
   "cell_type": "code",
   "execution_count": null,
   "metadata": {},
   "outputs": [],
   "source": [
    "shots = 1000\n",
    "d2_job_00 = run_job(qc_00, shots)\n",
    "d2_job_01 = run_job(qc_00, shots)\n",
    "d2_job_10 = run_job(qc_10, shots)\n",
    "d2_job_11 = run_job(qc_10, shots)"
   ]
  },
  {
   "cell_type": "code",
   "execution_count": null,
   "metadata": {},
   "outputs": [],
   "source": [
    "counts_00 = d2_job_00.result().get_counts()\n",
    "counts_01 = d2_job_01.result().get_counts()\n",
    "counts_10 = d2_job_10.result().get_counts()\n",
    "counts_11 = d2_job_11.result().get_counts()\n",
    "\n",
    "d2_p_succ_00 = counts_00[\"00\"]/shots if (\"00\" in counts_00) else 0.0\n",
    "d2_p_succ_01 = counts_01[\"10\"]/shots if (\"10\" in counts_01) else 0.0 # qiskits labeling is weird\n",
    "d2_p_succ_10 = counts_10[\"01\"]/shots if \"01\" in counts_10 else 0.0 # qiskits labeling is weird\n",
    "d2_p_succ_11 = counts_11[\"11\"]/shots if \"11\" in counts_11 else 0.0\n",
    "\n",
    "d2_success_probability = (d2_p_succ_00 + d2_p_succ_01 + d2_p_succ_10 + d2_p_succ_11)/2\n",
    "\n",
    "d2_success_probability # the classical bound is 0.5 "
   ]
  },
  {
   "cell_type": "code",
   "execution_count": null,
   "metadata": {},
   "outputs": [],
   "source": []
  }
 ],
 "metadata": {
  "@webio": {
   "lastCommId": null,
   "lastKernelId": null
  },
  "kernelspec": {
   "display_name": "Python 3",
   "language": "python",
   "name": "python3"
  },
  "language_info": {
   "codemirror_mode": {
    "name": "ipython",
    "version": 3
   },
   "file_extension": ".py",
   "mimetype": "text/x-python",
   "name": "python",
   "nbconvert_exporter": "python",
   "pygments_lexer": "ipython3",
   "version": "3.7.3"
  },
  "toc": {
   "base_numbering": 1,
   "nav_menu": {},
   "number_sections": false,
   "sideBar": false,
   "skip_h1_title": false,
   "title_cell": "Table of Contents",
   "title_sidebar": "Contents",
   "toc_cell": false,
   "toc_position": {},
   "toc_section_display": false,
   "toc_window_display": false
  }
 },
 "nbformat": 4,
 "nbformat_minor": 2
}
