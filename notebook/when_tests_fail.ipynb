{
 "cells": [
  {
   "cell_type": "markdown",
   "metadata": {},
   "source": [
    "# What Happens When the Wrong Operations are Performed?"
   ]
  },
  {
   "cell_type": "markdown",
   "metadata": {},
   "source": [
    "In our tests we (generally) assume that one side of the network can properly perform the desired operations. However, we do not know if the other computer has the desired functionality. If it does, then the tests will pass as intended. But what occurs if the computer does not have the required capabilities? This notebook shows, in code, several examples of the test results when the wrong operations are performed."
   ]
  },
  {
   "cell_type": "markdown",
   "metadata": {},
   "source": [
    "Run the cell below to import all the required modules/libraries."
   ]
  },
  {
   "cell_type": "code",
   "execution_count": 1,
   "metadata": {},
   "outputs": [],
   "source": [
    "from qiskit import QuantumCircuit, IBMQ, execute\n",
    "from qiskit.providers.ibmq.managed import IBMQJobManager\n",
    "from qiskit.quantum_info import random_unitary\n",
    "from random import random\n",
    "import numpy as np\n",
    "import context\n",
    "from device_independent_test import incompatible_measurement\n",
    "from device_independent_test import quantum_communicator\n",
    "from device_independent_test import entanglement\n",
    "from device_independent_test import dimension\n",
    "\n",
    "provider = IBMQ.load_account()"
   ]
  },
  {
   "cell_type": "markdown",
   "metadata": {},
   "source": [
    "# Dimensionality Testing"
   ]
  },
  {
   "cell_type": "markdown",
   "metadata": {},
   "source": [
    "The dimensionality test determines if a computer can properly prepare a system of at least a certain dimension. In the code below, Alice wants to encode {0,1,2,3} into a two-qubit system and transmit this to Bob. What if Alice is unable to generate a two qubit system? Below Alice is unable to prepare a second qubit and can only encode one classical bit. Because of this, the probability that Bob can recover the classical information drops from 1 (disregarding noise) to 0.5."
   ]
  },
  {
   "cell_type": "code",
   "execution_count": 2,
   "metadata": {},
   "outputs": [
    {
     "name": "stdout",
     "output_type": "stream",
     "text": [
      "Success probability:  0.5\n",
      "With 2 qubits, this test can succeed with probability 1.\n"
     ]
    }
   ],
   "source": [
    "# alice prepares the complete set of orthogonal states\n",
    "qc_00 = dimension.prepare_bit_circuit([0,0])\n",
    "qc_01 = dimension.prepare_bit_circuit([0,1])\n",
    "qc_10 = dimension.prepare_bit_circuit([1,0])\n",
    "qc_11 = dimension.prepare_bit_circuit([1,1])\n",
    "\n",
    "circuits = [qc_00, qc_01, qc_10, qc_11]\n",
    "\n",
    "# Bob measures in the computational basis.\n",
    "for qc in circuits:\n",
    "    qc.measure_all()\n",
    "\n",
    "shots = 1000\n",
    "d2_job_00 = execute(qc, backend=provider.get_backend('ibmq_qasm_simulator'), shots=shots)\n",
    "d2_job_01 = execute(qc, backend=provider.get_backend('ibmq_qasm_simulator'), shots=shots)\n",
    "d2_job_10 = execute(qc, backend=provider.get_backend('ibmq_qasm_simulator'), shots=shots)\n",
    "d2_job_11 = execute(qc, backend=provider.get_backend('ibmq_qasm_simulator'), shots=shots)\n",
    "\n",
    "counts_00 = d2_job_00.result().get_counts()\n",
    "counts_01 = d2_job_01.result().get_counts()\n",
    "counts_10 = d2_job_10.result().get_counts()\n",
    "counts_11 = d2_job_11.result().get_counts()\n",
    "\n",
    "# note that the outputs from the job are in the reverse order of the keys we're expecting\n",
    "d2_p_succ_00 = counts_00[\"00\"]/shots if (\"00\" in counts_00) else 0.0\n",
    "d2_p_succ_01 = counts_01[\"10\"]/shots if (\"10\" in counts_01) else 0.0\n",
    "d2_p_succ_10 = counts_10[\"01\"]/shots if \"01\" in counts_10 else 0.0 \n",
    "d2_p_succ_11 = counts_11[\"11\"]/shots if \"11\" in counts_11 else 0.0\n",
    "\n",
    "d2_success_probability = (d2_p_succ_00 + d2_p_succ_01 + d2_p_succ_10 + d2_p_succ_11)/2\n",
    "\n",
    "print(\"Success probability: \", d2_success_probability) # the classical bound is 0.5 \n",
    "print(\"With 2 qubits, this test can succeed with probability 1.\")"
   ]
  },
  {
   "cell_type": "markdown",
   "metadata": {},
   "source": [
    "# Incompatible Measurement Testing"
   ]
  },
  {
   "cell_type": "markdown",
   "metadata": {},
   "source": [
    "This module determines if a quantum device can perform incompatible measurements. Recall that incompatible measurments are those which do not commute, measuring in the Z and X bases, for example. Below the compatible measurement from the theory notebook is performed. Bob's first (y=0) projective measurement performs the following rotation (the global phase on the second basis state has been changed):\n",
    "\n",
    "$$\n",
    "\\begin{pmatrix}\n",
    "    cos(\\theta) & sin(\\theta)\\\\\n",
    "    -sin(\\theta) & cos(\\theta)\\\\\n",
    "\\end{pmatrix}\n",
    "$$\n",
    "\n",
    "Thus we can perform Bob's measurement via a Y rotation by - $2\\theta$ then a measurment in the computational basis. Now let's construct the matrix for the compatible measurement. This is given by:\n",
    "\n",
    "$$\n",
    "\\begin{pmatrix}\n",
    "    sin(\\theta + \\pi /4) & -cos(\\theta + \\pi /4)\\\\\n",
    "    cos(\\theta + \\pi /4) & sin(\\theta + \\pi /4)\\\\\n",
    "\\end{pmatrix}\n",
    "$$\n",
    "\n",
    "Using a couple trig properties, this becomes\n",
    "\n",
    "$$\n",
    "\\begin{pmatrix}\n",
    "    cos(\\pi /4 -\\theta) & -sin(\\pi /4 -\\theta)\\\\\n",
    "    sin(\\pi / 4 -\\theta) & cos(\\pi /4 -\\theta)\\\\\n",
    "\\end{pmatrix}\n",
    "$$\n",
    "\n",
    "The above matrix is a rotation of $2(\\pi /4 -\\theta)$ around the Y axis. In the incompatible measurement test, we use $\\theta = \\pi / 8$. Thus, this measurement is achieved via a rotation of $\\pi / 4$.<br><br>\n",
    "The code snippet below implements this compatible measurement. This set of projective measurements should not violate the classical bounds."
   ]
  },
  {
   "cell_type": "code",
   "execution_count": 3,
   "metadata": {},
   "outputs": [
    {
     "name": "stdout",
     "output_type": "stream",
     "text": [
      "Incompatible measurement test score:  4.002\n",
      "Classical bound is 6. Quantum systems score up to about 6.8.\n"
     ]
    }
   ],
   "source": [
    "dispatch = quantum_communicator.LocalDispatcher([provider.get_backend('ibmq_qasm_simulator')])\n",
    "\n",
    "# create bb84 states\n",
    "pre_ops = [incompatible_measurement.bb84_states()]\n",
    "\n",
    "# measure in the wrong basis\n",
    "qc0 = QuantumCircuit(4)\n",
    "qc0.u3(-np.pi/4,0,0,range(0,4))\n",
    "qc0.measure_all()\n",
    "\n",
    "qc1 = QuantumCircuit(4)\n",
    "qc1.u3(np.pi/4,0,0,range(0,4)) # compatible basis\n",
    "qc1.measure_all()\n",
    "\n",
    "post_ops = [[QuantumCircuit(4)],[qc0,qc1]]\n",
    "counts = dispatch.batch_run_and_transmit(pre_ops,post_ops,1000)\n",
    "violation = incompatible_measurement.bell_violation(counts[0],counts[1],1000,1000)\n",
    "\n",
    "print(\"Incompatible measurement test score: \", violation)\n",
    "print(\"Classical bound is 6. Quantum systems score up to about 6.8.\")"
   ]
  },
  {
   "cell_type": "markdown",
   "metadata": {},
   "source": [
    "# Entanglement Testing"
   ]
  },
  {
   "cell_type": "markdown",
   "metadata": {},
   "source": [
    "The CHSH test in this library truly relies both upon entanglement and incompatible measurments. For the purposes of this document, we will assume that the ability to perform incompatible measurments has already been verified. The code below demonstrates what happens if an entangled pair is not generated."
   ]
  },
  {
   "cell_type": "markdown",
   "metadata": {},
   "source": [
    "The first example generates random states and performs the CHSH measurments upon them (Alice projectively measuring in the Z and X bases, Bob in the W and V). A quantum system with entanglement should be able to achieve a test score of magnitude greater than 2 (the classical bound). As this test is generating random, non-entangled states (failing to perform even the desired one qubit gates), it fails to exceed the classical bounds."
   ]
  },
  {
   "cell_type": "code",
   "execution_count": 4,
   "metadata": {},
   "outputs": [
    {
     "ename": "KeyError",
     "evalue": "'11'",
     "output_type": "error",
     "traceback": [
      "\u001b[0;31m---------------------------------------------------------------------------\u001b[0m",
      "\u001b[0;31mKeyError\u001b[0m                                  Traceback (most recent call last)",
      "\u001b[0;32m<ipython-input-4-89c1530e5477>\u001b[0m in \u001b[0;36m<module>\u001b[0;34m\u001b[0m\n\u001b[1;32m     24\u001b[0m \u001b[0mcounts\u001b[0m \u001b[0;34m=\u001b[0m \u001b[0mdispatch\u001b[0m\u001b[0;34m.\u001b[0m\u001b[0mbatch_run_and_transmit\u001b[0m\u001b[0;34m(\u001b[0m\u001b[0;34m[\u001b[0m\u001b[0mqc\u001b[0m\u001b[0;34m]\u001b[0m\u001b[0;34m,\u001b[0m\u001b[0mpost_ops\u001b[0m\u001b[0;34m,\u001b[0m\u001b[0mshots\u001b[0m\u001b[0;34m)\u001b[0m \u001b[0;31m# run all combinations\u001b[0m\u001b[0;34m\u001b[0m\u001b[0;34m\u001b[0m\u001b[0m\n\u001b[1;32m     25\u001b[0m \u001b[0;34m\u001b[0m\u001b[0m\n\u001b[0;32m---> 26\u001b[0;31m \u001b[0mexpected_ZW\u001b[0m \u001b[0;34m=\u001b[0m \u001b[0mentanglement\u001b[0m\u001b[0;34m.\u001b[0m\u001b[0mcompute_expectation_for_CHSH\u001b[0m\u001b[0;34m(\u001b[0m\u001b[0mcounts\u001b[0m\u001b[0;34m[\u001b[0m\u001b[0;36m0\u001b[0m\u001b[0;34m]\u001b[0m\u001b[0;34m,\u001b[0m \u001b[0mshots\u001b[0m\u001b[0;34m)\u001b[0m\u001b[0;34m\u001b[0m\u001b[0;34m\u001b[0m\u001b[0m\n\u001b[0m\u001b[1;32m     27\u001b[0m \u001b[0mexpected_ZV\u001b[0m \u001b[0;34m=\u001b[0m \u001b[0mentanglement\u001b[0m\u001b[0;34m.\u001b[0m\u001b[0mcompute_expectation_for_CHSH\u001b[0m\u001b[0;34m(\u001b[0m\u001b[0mcounts\u001b[0m\u001b[0;34m[\u001b[0m\u001b[0;36m1\u001b[0m\u001b[0;34m]\u001b[0m\u001b[0;34m,\u001b[0m \u001b[0mshots\u001b[0m\u001b[0;34m)\u001b[0m\u001b[0;34m\u001b[0m\u001b[0;34m\u001b[0m\u001b[0m\n\u001b[1;32m     28\u001b[0m \u001b[0mexpected_XW\u001b[0m \u001b[0;34m=\u001b[0m \u001b[0mentanglement\u001b[0m\u001b[0;34m.\u001b[0m\u001b[0mcompute_expectation_for_CHSH\u001b[0m\u001b[0;34m(\u001b[0m\u001b[0mcounts\u001b[0m\u001b[0;34m[\u001b[0m\u001b[0;36m2\u001b[0m\u001b[0;34m]\u001b[0m\u001b[0;34m,\u001b[0m \u001b[0mshots\u001b[0m\u001b[0;34m)\u001b[0m\u001b[0;34m\u001b[0m\u001b[0;34m\u001b[0m\u001b[0m\n",
      "\u001b[0;32m~/code/QiskitSummerJam2020/device_independent_test/entanglement.py\u001b[0m in \u001b[0;36mcompute_expectation_for_CHSH\u001b[0;34m(counts, shots)\u001b[0m\n\u001b[1;32m     15\u001b[0m \u001b[0;31m# @returns  float expectation value\u001b[0m\u001b[0;34m\u001b[0m\u001b[0;34m\u001b[0m\u001b[0;34m\u001b[0m\u001b[0m\n\u001b[1;32m     16\u001b[0m \u001b[0;32mdef\u001b[0m \u001b[0mcompute_expectation_for_CHSH\u001b[0m\u001b[0;34m(\u001b[0m\u001b[0mcounts\u001b[0m\u001b[0;34m,\u001b[0m \u001b[0mshots\u001b[0m\u001b[0;34m)\u001b[0m\u001b[0;34m:\u001b[0m\u001b[0;34m\u001b[0m\u001b[0;34m\u001b[0m\u001b[0m\n\u001b[0;32m---> 17\u001b[0;31m     \u001b[0;32mreturn\u001b[0m \u001b[0;34m(\u001b[0m\u001b[0mcounts\u001b[0m\u001b[0;34m[\u001b[0m\u001b[0;34m\"00\"\u001b[0m\u001b[0;34m]\u001b[0m \u001b[0;34m+\u001b[0m \u001b[0mcounts\u001b[0m\u001b[0;34m[\u001b[0m\u001b[0;34m\"11\"\u001b[0m\u001b[0;34m]\u001b[0m \u001b[0;34m-\u001b[0m \u001b[0mcounts\u001b[0m\u001b[0;34m[\u001b[0m\u001b[0;34m\"01\"\u001b[0m\u001b[0;34m]\u001b[0m \u001b[0;34m-\u001b[0m \u001b[0mcounts\u001b[0m\u001b[0;34m[\u001b[0m\u001b[0;34m\"10\"\u001b[0m\u001b[0;34m]\u001b[0m\u001b[0;34m)\u001b[0m\u001b[0;34m/\u001b[0m\u001b[0mshots\u001b[0m\u001b[0;34m\u001b[0m\u001b[0;34m\u001b[0m\u001b[0m\n\u001b[0m\u001b[1;32m     18\u001b[0m \u001b[0;34m\u001b[0m\u001b[0m\n\u001b[1;32m     19\u001b[0m \u001b[0;31m# @brief    Runs a CHSH test (seperate circuits)\u001b[0m\u001b[0;34m\u001b[0m\u001b[0;34m\u001b[0m\u001b[0;34m\u001b[0m\u001b[0m\n",
      "\u001b[0;31mKeyError\u001b[0m: '11'"
     ]
    }
   ],
   "source": [
    "dispatch = quantum_communicator.LocalDispatcher([provider.get_backend('ibmq_qasm_simulator')])\n",
    "shots = 1000\n",
    "\n",
    "# Generate two random states via random unitary operations\n",
    "random_circ = random_unitary(2).tensor(random_unitary(2))\n",
    "qc = QuantumCircuit(2)\n",
    "qc.unitary(random_circ,[0,1],label='random unitaries')\n",
    "qc.draw()\n",
    "\n",
    "# Alice's measurements (Z or X basis)\n",
    "alice_z = entanglement.alice_Z()\n",
    "alice_z.measure(0,0)\n",
    "alice_x = entanglement.alice_X()\n",
    "alice_x.measure(0,0)\n",
    "\n",
    "# Bob's measurements (W or V basis)\n",
    "bob_w = entanglement.bob_W()\n",
    "bob_w.measure(1,1)\n",
    "bob_v = entanglement.bob_V()\n",
    "bob_v.measure(1,1)\n",
    "\n",
    "post_ops = [[alice_z,alice_x],[bob_w,bob_v]]\n",
    "\n",
    "counts = dispatch.batch_run_and_transmit([qc],post_ops,shots) # run all combinations\n",
    "\n",
    "expected_ZW = entanglement.compute_expectation_for_CHSH(counts[0], shots)\n",
    "expected_ZV = entanglement.compute_expectation_for_CHSH(counts[1], shots)\n",
    "expected_XW = entanglement.compute_expectation_for_CHSH(counts[2], shots)\n",
    "expected_XV = entanglement.compute_expectation_for_CHSH(counts[3], shots)\n",
    "\n",
    "test_val = (expected_ZW + expected_ZV + expected_XW - expected_XV)\n",
    "print(\"CHSH test score: \", test_val)\n",
    "print(\"Classical bound is of magnitude 2. Quantum systems can go up to about 2.828\")"
   ]
  },
  {
   "cell_type": "markdown",
   "metadata": {},
   "source": [
    "As can be seen above, generating random states does not result in good test scores, dropping even below 1 frequently. <br><br>\n",
    "\n",
    "What happens, however, if the computer is able to perform the desired Bell state with a certain probability? The next failing case below can properly run single qubit gates and performs a hadamard on the first register. However, it then fails to generate entanglement through a CNOT with probability $p \\_ failure$. This code creates $runs$ versions of the CHSH test, each which may randomly fail to entangle the qubits. By increasing $p \\_ failure$, the test score decreases."
   ]
  },
  {
   "cell_type": "code",
   "execution_count": null,
   "metadata": {},
   "outputs": [],
   "source": [
    "dispatch = quantum_communicator.LocalDispatcher([provider.get_backend('ibmq_qasm_simulator')])\n",
    "shots = 200 # shots per run\n",
    "runs = 5 # number of possibly different circuits to run\n",
    "p_failure = 0.2 # probability of failing to entangle\n",
    "\n",
    "# Alice's measurements (Z or X basis)\n",
    "alice_z = entanglement.alice_Z()\n",
    "alice_z.measure(0,0)\n",
    "alice_x = entanglement.alice_X()\n",
    "alice_x.measure(0,0)\n",
    "\n",
    "# Bob's measurements (W or V basis)\n",
    "bob_w = entanglement.bob_W()\n",
    "bob_w.measure(1,1)\n",
    "bob_v = entanglement.bob_V()\n",
    "bob_v.measure(1,1)\n",
    "\n",
    "post_ops = [[alice_z,alice_x],[bob_w,bob_v]]\n",
    "\n",
    "# each dictionary below corresponds to a different measurement: ZW,ZV,XW,XV\n",
    "counts = [{\"00\":0,\"11\":0,\"10\":0,\"01\":0},{\"00\":0,\"11\":0,\"10\":0,\"01\":0},{\"00\":0,\"11\":0,\"10\":0,\"01\":0},{\"00\":0,\"11\":0,\"10\":0,\"01\":0}]\n",
    "\n",
    "for i in range(0,runs): # run possibly different versions of the circuits\n",
    "    qc = QuantumCircuit(2)\n",
    "    qc.h(0)\n",
    "    if random() > p_failure: # randomly fail to generate entanglement\n",
    "        qc.cx(0,1)\n",
    "    temp = dispatch.batch_run_and_transmit([qc],post_ops,shots) # run all combinations of operations\n",
    "    for j in range (0,4):\n",
    "        for key in counts[j]:\n",
    "            counts[j][key] = counts[j][key]+temp[j].get(key,0.0) # add data to accumulating counts\n",
    "\n",
    "expected_ZW = entanglement.compute_expectation_for_CHSH(counts[0], shots*runs)\n",
    "expected_ZV = entanglement.compute_expectation_for_CHSH(counts[1], shots*runs)\n",
    "expected_XW = entanglement.compute_expectation_for_CHSH(counts[2], shots*runs)\n",
    "expected_XV = entanglement.compute_expectation_for_CHSH(counts[3], shots*runs)\n",
    "\n",
    "test_val = (expected_ZW + expected_ZV + expected_XW - expected_XV)\n",
    "print(\"CHSH test score: \", test_val)\n",
    "print(\"Classical bound is of magnitude 2. Quantum systems can go up to about 2.828\")"
   ]
  },
  {
   "cell_type": "markdown",
   "metadata": {},
   "source": [
    "As this code demonstrates, when the computer often runs the correct circuit, it can still violate the classical bounds. This makes it more difficult to decide when the system fails a test. Our test modules expect tolerances for all tests. The tolerance of the result lets us decide how close to perfect functionality we require."
   ]
  },
  {
   "cell_type": "code",
   "execution_count": null,
   "metadata": {},
   "outputs": [],
   "source": []
  }
 ],
 "metadata": {
  "@webio": {
   "lastCommId": null,
   "lastKernelId": null
  },
  "kernelspec": {
   "display_name": "Python 3",
   "language": "python",
   "name": "python3"
  },
  "language_info": {
   "codemirror_mode": {
    "name": "ipython",
    "version": 3
   },
   "file_extension": ".py",
   "mimetype": "text/x-python",
   "name": "python",
   "nbconvert_exporter": "python",
   "pygments_lexer": "ipython3",
   "version": "3.7.4"
  },
  "toc": {
   "base_numbering": 1,
   "nav_menu": {},
   "number_sections": false,
   "sideBar": false,
   "skip_h1_title": false,
   "title_cell": "Table of Contents",
   "title_sidebar": "Contents",
   "toc_cell": false,
   "toc_position": {},
   "toc_section_display": false,
   "toc_window_display": false
  }
 },
 "nbformat": 4,
 "nbformat_minor": 2
}
