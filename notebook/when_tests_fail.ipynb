{
 "cells": [
  {
   "cell_type": "markdown",
   "metadata": {},
   "source": [
    "# What Happens When the Wrong Operations are Performed?"
   ]
  },
  {
   "cell_type": "markdown",
   "metadata": {},
   "source": [
    "In our tests we trust the prepartory system (Alice). We assume Alice properly performs the correct operations and prepares the desired states. However, we do not claim to know if Bob can properly perform the required tests. What happens if Bob does not perform the correct operations? This document runs through examples of performing the wrong measurements and how our tests detect this."
   ]
  },
  {
   "cell_type": "markdown",
   "metadata": {},
   "source": [
    "# Dimensionality Testing"
   ]
  },
  {
   "cell_type": "code",
   "execution_count": null,
   "metadata": {},
   "outputs": [],
   "source": []
  },
  {
   "cell_type": "markdown",
   "metadata": {},
   "source": [
    "# Incompatible Measurement Testing"
   ]
  },
  {
   "cell_type": "markdown",
   "metadata": {},
   "source": [
    "This module determines if a quantum device can perform incompatible measurements. Recall that incompatible measurments are those which do not commute, measuring in the Z and X bases, for example. Below the compatible measurement from the theory notebook is performed. Bob's first (y=0) projective measurement performs the following rotation (the global phase on the second basis state has been changed):\n",
    "\\begin{pmatrix}\n",
    "    cos(\\theta) & sin(\\theta)\\\\\n",
    "    -sin(\\theta) & cos(\\theta)\\\\\n",
    "\\end{pmatrix}\n",
    "Thus we can perform Bob's measurement via a Y rotation by - $2\\theta$ then a measurment in the computational basis. Now let's construct the matrix for the compatible measurement. This is given by:\n",
    "\\begin{pmatrix}\n",
    "    sin(\\theta + \\pi /4) & -cos(\\theta + \\pi /4)\\\\\n",
    "    cos(\\theta + \\pi /4) & sin(\\theta + \\pi /4)\\\\\n",
    "\\end{pmatrix}\n",
    "Using a couple trig properties, this becomes\n",
    "\\begin{pmatrix}\n",
    "    cos(\\pi /4 -\\theta) & -sin(\\pi /4 -\\theta)\\\\\n",
    "    sin(\\pi / 4 -\\theta) & cos(\\pi /4 -\\theta)\\\\\n",
    "\\end{pmatrix}\n",
    "The above matrix is a rotation of $2(\\pi /4 -\\theta)$ around the Y axis. In the incompatible measurement test, we use $\\theta = \\pi / 8$. Thus, this measurement is achieved via a rotation of $\\pi / 4$.<br><br>\n",
    "The code snippet below implements this compatible measurement. This set of projective measurements should not violate the classical bounds."
   ]
  },
  {
   "cell_type": "code",
   "execution_count": 1,
   "metadata": {},
   "outputs": [
    {
     "data": {
      "text/html": [
       "<pre style=\"word-wrap: normal;white-space: pre;background: #fff0;line-height: 1.1;font-family: &quot;Courier New&quot;,Courier,monospace\">        ┌───────────────┐                                   ░ ┌─┐         \n",
       "   q_0: ┤ U3(-pi/4,0,0) ├───────────────────────────────────░─┤M├─────────\n",
       "        └─────┬───┬─────┘┌───────────────┐                  ░ └╥┘┌─┐      \n",
       "   q_1: ──────┤ X ├──────┤ U3(-pi/4,0,0) ├──────────────────░──╫─┤M├──────\n",
       "              ├───┤      ├───────────────┤                  ░  ║ └╥┘┌─┐   \n",
       "   q_2: ──────┤ H ├──────┤ U3(-pi/4,0,0) ├──────────────────░──╫──╫─┤M├───\n",
       "              ├───┤      └─────┬───┬─────┘┌───────────────┐ ░  ║  ║ └╥┘┌─┐\n",
       "   q_3: ──────┤ X ├────────────┤ H ├──────┤ U3(-pi/4,0,0) ├─░──╫──╫──╫─┤M├\n",
       "              └───┘            └───┘      └───────────────┘ ░  ║  ║  ║ └╥┘\n",
       "meas_0: ═══════════════════════════════════════════════════════╩══╬══╬══╬═\n",
       "                                                                  ║  ║  ║ \n",
       "meas_1: ══════════════════════════════════════════════════════════╩══╬══╬═\n",
       "                                                                     ║  ║ \n",
       "meas_2: ═════════════════════════════════════════════════════════════╩══╬═\n",
       "                                                                        ║ \n",
       "meas_3: ════════════════════════════════════════════════════════════════╩═\n",
       "                                                                          </pre>"
      ],
      "text/plain": [
       "        ┌───────────────┐                                   ░ ┌─┐         \n",
       "   q_0: ┤ U3(-pi/4,0,0) ├───────────────────────────────────░─┤M├─────────\n",
       "        └─────┬───┬─────┘┌───────────────┐                  ░ └╥┘┌─┐      \n",
       "   q_1: ──────┤ X ├──────┤ U3(-pi/4,0,0) ├──────────────────░──╫─┤M├──────\n",
       "              ├───┤      ├───────────────┤                  ░  ║ └╥┘┌─┐   \n",
       "   q_2: ──────┤ H ├──────┤ U3(-pi/4,0,0) ├──────────────────░──╫──╫─┤M├───\n",
       "              ├───┤      └─────┬───┬─────┘┌───────────────┐ ░  ║  ║ └╥┘┌─┐\n",
       "   q_3: ──────┤ X ├────────────┤ H ├──────┤ U3(-pi/4,0,0) ├─░──╫──╫──╫─┤M├\n",
       "              └───┘            └───┘      └───────────────┘ ░  ║  ║  ║ └╥┘\n",
       "meas_0: ═══════════════════════════════════════════════════════╩══╬══╬══╬═\n",
       "                                                                  ║  ║  ║ \n",
       "meas_1: ══════════════════════════════════════════════════════════╩══╬══╬═\n",
       "                                                                     ║  ║ \n",
       "meas_2: ═════════════════════════════════════════════════════════════╩══╬═\n",
       "                                                                        ║ \n",
       "meas_3: ════════════════════════════════════════════════════════════════╩═\n",
       "                                                                          "
      ]
     },
     "metadata": {},
     "output_type": "display_data"
    },
    {
     "data": {
      "text/html": [
       "<pre style=\"word-wrap: normal;white-space: pre;background: #fff0;line-height: 1.1;font-family: &quot;Courier New&quot;,Courier,monospace\">        ┌──────────────┐                                 ░ ┌─┐         \n",
       "   q_0: ┤ U3(pi/4,0,0) ├─────────────────────────────────░─┤M├─────────\n",
       "        └────┬───┬─────┘┌──────────────┐                 ░ └╥┘┌─┐      \n",
       "   q_1: ─────┤ X ├──────┤ U3(pi/4,0,0) ├─────────────────░──╫─┤M├──────\n",
       "             ├───┤      ├──────────────┤                 ░  ║ └╥┘┌─┐   \n",
       "   q_2: ─────┤ H ├──────┤ U3(pi/4,0,0) ├─────────────────░──╫──╫─┤M├───\n",
       "             ├───┤      └────┬───┬─────┘┌──────────────┐ ░  ║  ║ └╥┘┌─┐\n",
       "   q_3: ─────┤ X ├───────────┤ H ├──────┤ U3(pi/4,0,0) ├─░──╫──╫──╫─┤M├\n",
       "             └───┘           └───┘      └──────────────┘ ░  ║  ║  ║ └╥┘\n",
       "meas_0: ════════════════════════════════════════════════════╩══╬══╬══╬═\n",
       "                                                               ║  ║  ║ \n",
       "meas_1: ═══════════════════════════════════════════════════════╩══╬══╬═\n",
       "                                                                  ║  ║ \n",
       "meas_2: ══════════════════════════════════════════════════════════╩══╬═\n",
       "                                                                     ║ \n",
       "meas_3: ═════════════════════════════════════════════════════════════╩═\n",
       "                                                                       </pre>"
      ],
      "text/plain": [
       "        ┌──────────────┐                                 ░ ┌─┐         \n",
       "   q_0: ┤ U3(pi/4,0,0) ├─────────────────────────────────░─┤M├─────────\n",
       "        └────┬───┬─────┘┌──────────────┐                 ░ └╥┘┌─┐      \n",
       "   q_1: ─────┤ X ├──────┤ U3(pi/4,0,0) ├─────────────────░──╫─┤M├──────\n",
       "             ├───┤      ├──────────────┤                 ░  ║ └╥┘┌─┐   \n",
       "   q_2: ─────┤ H ├──────┤ U3(pi/4,0,0) ├─────────────────░──╫──╫─┤M├───\n",
       "             ├───┤      └────┬───┬─────┘┌──────────────┐ ░  ║  ║ └╥┘┌─┐\n",
       "   q_3: ─────┤ X ├───────────┤ H ├──────┤ U3(pi/4,0,0) ├─░──╫──╫──╫─┤M├\n",
       "             └───┘           └───┘      └──────────────┘ ░  ║  ║  ║ └╥┘\n",
       "meas_0: ════════════════════════════════════════════════════╩══╬══╬══╬═\n",
       "                                                               ║  ║  ║ \n",
       "meas_1: ═══════════════════════════════════════════════════════╩══╬══╬═\n",
       "                                                                  ║  ║ \n",
       "meas_2: ══════════════════════════════════════════════════════════╩══╬═\n",
       "                                                                     ║ \n",
       "meas_3: ═════════════════════════════════════════════════════════════╩═\n",
       "                                                                       "
      ]
     },
     "metadata": {},
     "output_type": "display_data"
    },
    {
     "name": "stdout",
     "output_type": "stream",
     "text": [
      "Incompatible Measurement Test Score:  4.054\n",
      "Classical Bound is 6. Quantum Systems score up to about 6.8.\n"
     ]
    }
   ],
   "source": [
    "from qiskit import QuantumCircuit, IBMQ\n",
    "import numpy as np\n",
    "import context\n",
    "from device_independent_test import incompatible_measurement\n",
    "from device_independent_test import quantum_communicator\n",
    "provider = IBMQ.load_account()\n",
    "\n",
    "dispatch = quantum_communicator.LocalDispatcher([provider.get_backend('ibmq_qasm_simulator')])\n",
    "\n",
    "# create bb84 states\n",
    "pre_ops = [incompatible_measurement.bb84_states()]\n",
    "\n",
    "# measure in the wrong basis\n",
    "qc0 = QuantumCircuit(4)\n",
    "qc0.u3(-np.pi/4,0,0,range(0,4))\n",
    "qc0.measure_all()\n",
    "\n",
    "qc1 = QuantumCircuit(4)\n",
    "qc1.u3(np.pi/4,0,0,range(0,4)) # compatible basis\n",
    "qc1.measure_all()\n",
    "\n",
    "post_ops = [[QuantumCircuit(4)],[qc0,qc1]]\n",
    "counts = dispatch.batch_run_and_transmit(pre_ops,post_ops,1000)\n",
    "violation = incompatible_measurement.bell_violation(counts[0],counts[1],1000,1000)\n",
    "\n",
    "print(\"Incompatible measurement test score: \", violation)\n",
    "print(\"Classical bound is 6. Quantum wystems score up to about 6.8.\")"
   ]
  },
  {
   "cell_type": "markdown",
   "metadata": {},
   "source": [
    "# Entanglement Testing"
   ]
  },
  {
   "cell_type": "markdown",
   "metadata": {},
   "source": [
    "The CHSH test in this library truly relies both upon entanglement and incompatible measurments. For the purposes of this document, we will assume that the ability to perform incompatible measurments has already been verified. The code below demonstrates what happens if an entangled pair is not generated."
   ]
  },
  {
   "cell_type": "markdown",
   "metadata": {},
   "source": [
    "The first example generates random states and performs the CHSH measurments upon them (Alice projectively measuring in the Z and X bases, Bob in the W and V). A quantum system with entanglement should be able to achieve a test score of magnitude greater than 2 (the classical bound)."
   ]
  },
  {
   "cell_type": "code",
   "execution_count": 3,
   "metadata": {},
   "outputs": [
    {
     "ename": "AttributeError",
     "evalue": "module 'device_independent_test.entanglement' has no attribute 'measure_in_ZW'",
     "output_type": "error",
     "traceback": [
      "\u001b[0;31m---------------------------------------------------------------------------\u001b[0m",
      "\u001b[0;31mAttributeError\u001b[0m                            Traceback (most recent call last)",
      "\u001b[0;32m<ipython-input-3-d777c28a9e47>\u001b[0m in \u001b[0;36m<module>\u001b[0;34m\u001b[0m\n\u001b[1;32m     12\u001b[0m \u001b[0mqc\u001b[0m\u001b[0;34m.\u001b[0m\u001b[0mdraw\u001b[0m\u001b[0;34m(\u001b[0m\u001b[0;34m)\u001b[0m\u001b[0;34m\u001b[0m\u001b[0;34m\u001b[0m\u001b[0m\n\u001b[1;32m     13\u001b[0m \u001b[0;34m\u001b[0m\u001b[0m\n\u001b[0;32m---> 14\u001b[0;31m \u001b[0mpost_ops\u001b[0m \u001b[0;34m=\u001b[0m \u001b[0;34m[\u001b[0m\u001b[0;34m[\u001b[0m\u001b[0mQuantumCircuit\u001b[0m\u001b[0;34m(\u001b[0m\u001b[0;36m2\u001b[0m\u001b[0;34m)\u001b[0m\u001b[0;34m]\u001b[0m\u001b[0;34m,\u001b[0m\u001b[0;34m[\u001b[0m\u001b[0mentanglement\u001b[0m\u001b[0;34m.\u001b[0m\u001b[0mmeasure_in_ZW\u001b[0m\u001b[0;34m(\u001b[0m\u001b[0;34m)\u001b[0m\u001b[0;34m,\u001b[0m\u001b[0mentanglement\u001b[0m\u001b[0;34m.\u001b[0m\u001b[0mmeasure_in_ZV\u001b[0m\u001b[0;34m(\u001b[0m\u001b[0;34m)\u001b[0m\u001b[0;34m,\u001b[0m\u001b[0mentanglement\u001b[0m\u001b[0;34m.\u001b[0m\u001b[0mmeasure_in_XW\u001b[0m\u001b[0;34m(\u001b[0m\u001b[0;34m)\u001b[0m\u001b[0;34m,\u001b[0m\u001b[0mentanglement\u001b[0m\u001b[0;34m.\u001b[0m\u001b[0mmeasure_in_XV\u001b[0m\u001b[0;34m(\u001b[0m\u001b[0;34m)\u001b[0m\u001b[0;34m]\u001b[0m\u001b[0;34m]\u001b[0m\u001b[0;34m\u001b[0m\u001b[0;34m\u001b[0m\u001b[0m\n\u001b[0m\u001b[1;32m     15\u001b[0m \u001b[0mcounts\u001b[0m \u001b[0;34m=\u001b[0m \u001b[0mdispatch\u001b[0m\u001b[0;34m.\u001b[0m\u001b[0mbatch_run_and_transmit\u001b[0m\u001b[0;34m(\u001b[0m\u001b[0;34m[\u001b[0m\u001b[0mqc\u001b[0m\u001b[0;34m]\u001b[0m\u001b[0;34m,\u001b[0m\u001b[0mpost_ops\u001b[0m\u001b[0;34m,\u001b[0m\u001b[0mshots\u001b[0m\u001b[0;34m)\u001b[0m\u001b[0;34m\u001b[0m\u001b[0;34m\u001b[0m\u001b[0m\n\u001b[1;32m     16\u001b[0m \u001b[0;34m\u001b[0m\u001b[0m\n",
      "\u001b[0;31mAttributeError\u001b[0m: module 'device_independent_test.entanglement' has no attribute 'measure_in_ZW'"
     ]
    }
   ],
   "source": [
    "import context\n",
    "from device_independent_test import entanglement\n",
    "from qiskit.quantum_info import random_unitary\n",
    "\n",
    "dispatch = quantum_communicator.LocalDispatcher([provider.get_backend('ibmq_qasm_simulator')])\n",
    "shots = 1000\n",
    "\n",
    "# Generate two random states via random unitary operations\n",
    "random_circ = random_unitary(2).tensor(random_unitary(2))\n",
    "qc = QuantumCircuit(2)\n",
    "qc.unitary(random_circ,[0,1],label='random unitaries')\n",
    "qc.draw()\n",
    "\n",
    "post_ops = [[QuantumCircuit(2)],[entanglement.measure_in_ZW(),entanglement.measure_in_ZV(),entanglement.measure_in_XW(),entanglement.measure_in_XV()]]\n",
    "counts = dispatch.batch_run_and_transmit([qc],post_ops,shots)\n",
    "\n",
    "expected_ZW = entanglement.compute_expectation_for_CHSH(counts[0], shots)\n",
    "expected_ZV = entanglement.compute_expectation_for_CHSH(counts[1], shots)\n",
    "expected_XW = entanglement.compute_expectation_for_CHSH(counts[2], shots)\n",
    "expected_XV = entanglement.compute_expectation_for_CHSH(counts[3], shots)\n",
    "\n",
    "test_val = (expected_ZW + expected_ZV + expected_XW - expected_XV)\n",
    "print(test_val)"
   ]
  },
  {
   "cell_type": "code",
   "execution_count": 8,
   "metadata": {},
   "outputs": [
    {
     "data": {
      "text/html": [
       "<pre style=\"word-wrap: normal;white-space: pre;background: #fff0;line-height: 1.1;font-family: &quot;Courier New&quot;,Courier,monospace\">     ┌───┐┌─┐                  \n",
       "q_0: ┤ H ├┤M├──────────────────\n",
       "     ├───┤└╥┘┌───┐┌───┐┌───┐┌─┐\n",
       "q_1: ┤ S ├─╫─┤ H ├┤ T ├┤ H ├┤M├\n",
       "     └───┘ ║ └───┘└───┘└───┘└╥┘\n",
       "c_0: ══════╩═════════════════╬═\n",
       "                             ║ \n",
       "c_1: ════════════════════════╩═\n",
       "                               </pre>"
      ],
      "text/plain": [
       "     ┌───┐┌─┐                  \n",
       "q_0: ┤ H ├┤M├──────────────────\n",
       "     ├───┤└╥┘┌───┐┌───┐┌───┐┌─┐\n",
       "q_1: ┤ S ├─╫─┤ H ├┤ T ├┤ H ├┤M├\n",
       "     └───┘ ║ └───┘└───┘└───┘└╥┘\n",
       "c_0: ══════╩═════════════════╬═\n",
       "                             ║ \n",
       "c_1: ════════════════════════╩═\n",
       "                               "
      ]
     },
     "metadata": {},
     "output_type": "display_data"
    },
    {
     "data": {
      "text/html": [
       "<pre style=\"word-wrap: normal;white-space: pre;background: #fff0;line-height: 1.1;font-family: &quot;Courier New&quot;,Courier,monospace\">     ┌───┐┌─┐                    \n",
       "q_0: ┤ H ├┤M├────────────────────\n",
       "     ├───┤└╥┘┌───┐┌─────┐┌───┐┌─┐\n",
       "q_1: ┤ S ├─╫─┤ H ├┤ TDG ├┤ H ├┤M├\n",
       "     └───┘ ║ └───┘└─────┘└───┘└╥┘\n",
       "c_0: ══════╩═══════════════════╬═\n",
       "                               ║ \n",
       "c_1: ══════════════════════════╩═\n",
       "                                 </pre>"
      ],
      "text/plain": [
       "     ┌───┐┌─┐                    \n",
       "q_0: ┤ H ├┤M├────────────────────\n",
       "     ├───┤└╥┘┌───┐┌─────┐┌───┐┌─┐\n",
       "q_1: ┤ S ├─╫─┤ H ├┤ TDG ├┤ H ├┤M├\n",
       "     └───┘ ║ └───┘└─────┘└───┘└╥┘\n",
       "c_0: ══════╩═══════════════════╬═\n",
       "                               ║ \n",
       "c_1: ══════════════════════════╩═\n",
       "                                 "
      ]
     },
     "metadata": {},
     "output_type": "display_data"
    },
    {
     "data": {
      "text/html": [
       "<pre style=\"word-wrap: normal;white-space: pre;background: #fff0;line-height: 1.1;font-family: &quot;Courier New&quot;,Courier,monospace\">     ┌───┐┌───┐┌─┐             \n",
       "q_0: ┤ H ├┤ H ├┤M├─────────────\n",
       "     ├───┤├───┤└╥┘┌───┐┌───┐┌─┐\n",
       "q_1: ┤ S ├┤ H ├─╫─┤ T ├┤ H ├┤M├\n",
       "     └───┘└───┘ ║ └───┘└───┘└╥┘\n",
       "c_0: ═══════════╩════════════╬═\n",
       "                             ║ \n",
       "c_1: ════════════════════════╩═\n",
       "                               </pre>"
      ],
      "text/plain": [
       "     ┌───┐┌───┐┌─┐             \n",
       "q_0: ┤ H ├┤ H ├┤M├─────────────\n",
       "     ├───┤├───┤└╥┘┌───┐┌───┐┌─┐\n",
       "q_1: ┤ S ├┤ H ├─╫─┤ T ├┤ H ├┤M├\n",
       "     └───┘└───┘ ║ └───┘└───┘└╥┘\n",
       "c_0: ═══════════╩════════════╬═\n",
       "                             ║ \n",
       "c_1: ════════════════════════╩═\n",
       "                               "
      ]
     },
     "metadata": {},
     "output_type": "display_data"
    },
    {
     "data": {
      "text/html": [
       "<pre style=\"word-wrap: normal;white-space: pre;background: #fff0;line-height: 1.1;font-family: &quot;Courier New&quot;,Courier,monospace\">     ┌───┐┌───┐┌─┐               \n",
       "q_0: ┤ H ├┤ H ├┤M├───────────────\n",
       "     ├───┤├───┤└╥┘┌─────┐┌───┐┌─┐\n",
       "q_1: ┤ S ├┤ H ├─╫─┤ TDG ├┤ H ├┤M├\n",
       "     └───┘└───┘ ║ └─────┘└───┘└╥┘\n",
       "c_0: ═══════════╩══════════════╬═\n",
       "                               ║ \n",
       "c_1: ══════════════════════════╩═\n",
       "                                 </pre>"
      ],
      "text/plain": [
       "     ┌───┐┌───┐┌─┐               \n",
       "q_0: ┤ H ├┤ H ├┤M├───────────────\n",
       "     ├───┤├───┤└╥┘┌─────┐┌───┐┌─┐\n",
       "q_1: ┤ S ├┤ H ├─╫─┤ TDG ├┤ H ├┤M├\n",
       "     └───┘└───┘ ║ └─────┘└───┘└╥┘\n",
       "c_0: ═══════════╩══════════════╬═\n",
       "                               ║ \n",
       "c_1: ══════════════════════════╩═\n",
       "                                 "
      ]
     },
     "metadata": {},
     "output_type": "display_data"
    },
    {
     "data": {
      "text/html": [
       "<pre style=\"word-wrap: normal;white-space: pre;background: #fff0;line-height: 1.1;font-family: &quot;Courier New&quot;,Courier,monospace\">     ┌───┐     ┌─┐                       \n",
       "q_0: ┤ H ├──■──┤M├───────────────────────\n",
       "     └───┘┌─┴─┐└╥┘┌───┐┌───┐┌───┐┌───┐┌─┐\n",
       "q_1: ─────┤ X ├─╫─┤ S ├┤ H ├┤ T ├┤ H ├┤M├\n",
       "          └───┘ ║ └───┘└───┘└───┘└───┘└╥┘\n",
       "c_0: ═══════════╩══════════════════════╬═\n",
       "                                       ║ \n",
       "c_1: ══════════════════════════════════╩═\n",
       "                                         </pre>"
      ],
      "text/plain": [
       "     ┌───┐     ┌─┐                       \n",
       "q_0: ┤ H ├──■──┤M├───────────────────────\n",
       "     └───┘┌─┴─┐└╥┘┌───┐┌───┐┌───┐┌───┐┌─┐\n",
       "q_1: ─────┤ X ├─╫─┤ S ├┤ H ├┤ T ├┤ H ├┤M├\n",
       "          └───┘ ║ └───┘└───┘└───┘└───┘└╥┘\n",
       "c_0: ═══════════╩══════════════════════╬═\n",
       "                                       ║ \n",
       "c_1: ══════════════════════════════════╩═\n",
       "                                         "
      ]
     },
     "metadata": {},
     "output_type": "display_data"
    },
    {
     "data": {
      "text/html": [
       "<pre style=\"word-wrap: normal;white-space: pre;background: #fff0;line-height: 1.1;font-family: &quot;Courier New&quot;,Courier,monospace\">     ┌───┐     ┌─┐                         \n",
       "q_0: ┤ H ├──■──┤M├─────────────────────────\n",
       "     └───┘┌─┴─┐└╥┘┌───┐┌───┐┌─────┐┌───┐┌─┐\n",
       "q_1: ─────┤ X ├─╫─┤ S ├┤ H ├┤ TDG ├┤ H ├┤M├\n",
       "          └───┘ ║ └───┘└───┘└─────┘└───┘└╥┘\n",
       "c_0: ═══════════╩════════════════════════╬═\n",
       "                                         ║ \n",
       "c_1: ════════════════════════════════════╩═\n",
       "                                           </pre>"
      ],
      "text/plain": [
       "     ┌───┐     ┌─┐                         \n",
       "q_0: ┤ H ├──■──┤M├─────────────────────────\n",
       "     └───┘┌─┴─┐└╥┘┌───┐┌───┐┌─────┐┌───┐┌─┐\n",
       "q_1: ─────┤ X ├─╫─┤ S ├┤ H ├┤ TDG ├┤ H ├┤M├\n",
       "          └───┘ ║ └───┘└───┘└─────┘└───┘└╥┘\n",
       "c_0: ═══════════╩════════════════════════╬═\n",
       "                                         ║ \n",
       "c_1: ════════════════════════════════════╩═\n",
       "                                           "
      ]
     },
     "metadata": {},
     "output_type": "display_data"
    },
    {
     "data": {
      "text/html": [
       "<pre style=\"word-wrap: normal;white-space: pre;background: #fff0;line-height: 1.1;font-family: &quot;Courier New&quot;,Courier,monospace\">     ┌───┐     ┌───┐┌─┐                  \n",
       "q_0: ┤ H ├──■──┤ H ├┤M├──────────────────\n",
       "     └───┘┌─┴─┐├───┤└╥┘┌───┐┌───┐┌───┐┌─┐\n",
       "q_1: ─────┤ X ├┤ S ├─╫─┤ H ├┤ T ├┤ H ├┤M├\n",
       "          └───┘└───┘ ║ └───┘└───┘└───┘└╥┘\n",
       "c_0: ════════════════╩═════════════════╬═\n",
       "                                       ║ \n",
       "c_1: ══════════════════════════════════╩═\n",
       "                                         </pre>"
      ],
      "text/plain": [
       "     ┌───┐     ┌───┐┌─┐                  \n",
       "q_0: ┤ H ├──■──┤ H ├┤M├──────────────────\n",
       "     └───┘┌─┴─┐├───┤└╥┘┌───┐┌───┐┌───┐┌─┐\n",
       "q_1: ─────┤ X ├┤ S ├─╫─┤ H ├┤ T ├┤ H ├┤M├\n",
       "          └───┘└───┘ ║ └───┘└───┘└───┘└╥┘\n",
       "c_0: ════════════════╩═════════════════╬═\n",
       "                                       ║ \n",
       "c_1: ══════════════════════════════════╩═\n",
       "                                         "
      ]
     },
     "metadata": {},
     "output_type": "display_data"
    },
    {
     "data": {
      "text/html": [
       "<pre style=\"word-wrap: normal;white-space: pre;background: #fff0;line-height: 1.1;font-family: &quot;Courier New&quot;,Courier,monospace\">     ┌───┐     ┌───┐┌─┐                    \n",
       "q_0: ┤ H ├──■──┤ H ├┤M├────────────────────\n",
       "     └───┘┌─┴─┐├───┤└╥┘┌───┐┌─────┐┌───┐┌─┐\n",
       "q_1: ─────┤ X ├┤ S ├─╫─┤ H ├┤ TDG ├┤ H ├┤M├\n",
       "          └───┘└───┘ ║ └───┘└─────┘└───┘└╥┘\n",
       "c_0: ════════════════╩═══════════════════╬═\n",
       "                                         ║ \n",
       "c_1: ════════════════════════════════════╩═\n",
       "                                           </pre>"
      ],
      "text/plain": [
       "     ┌───┐     ┌───┐┌─┐                    \n",
       "q_0: ┤ H ├──■──┤ H ├┤M├────────────────────\n",
       "     └───┘┌─┴─┐├───┤└╥┘┌───┐┌─────┐┌───┐┌─┐\n",
       "q_1: ─────┤ X ├┤ S ├─╫─┤ H ├┤ TDG ├┤ H ├┤M├\n",
       "          └───┘└───┘ ║ └───┘└─────┘└───┘└╥┘\n",
       "c_0: ════════════════╩═══════════════════╬═\n",
       "                                         ║ \n",
       "c_1: ════════════════════════════════════╩═\n",
       "                                           "
      ]
     },
     "metadata": {},
     "output_type": "display_data"
    },
    {
     "data": {
      "text/html": [
       "<pre style=\"word-wrap: normal;white-space: pre;background: #fff0;line-height: 1.1;font-family: &quot;Courier New&quot;,Courier,monospace\">     ┌───┐     ┌─┐                       \n",
       "q_0: ┤ H ├──■──┤M├───────────────────────\n",
       "     └───┘┌─┴─┐└╥┘┌───┐┌───┐┌───┐┌───┐┌─┐\n",
       "q_1: ─────┤ X ├─╫─┤ S ├┤ H ├┤ T ├┤ H ├┤M├\n",
       "          └───┘ ║ └───┘└───┘└───┘└───┘└╥┘\n",
       "c_0: ═══════════╩══════════════════════╬═\n",
       "                                       ║ \n",
       "c_1: ══════════════════════════════════╩═\n",
       "                                         </pre>"
      ],
      "text/plain": [
       "     ┌───┐     ┌─┐                       \n",
       "q_0: ┤ H ├──■──┤M├───────────────────────\n",
       "     └───┘┌─┴─┐└╥┘┌───┐┌───┐┌───┐┌───┐┌─┐\n",
       "q_1: ─────┤ X ├─╫─┤ S ├┤ H ├┤ T ├┤ H ├┤M├\n",
       "          └───┘ ║ └───┘└───┘└───┘└───┘└╥┘\n",
       "c_0: ═══════════╩══════════════════════╬═\n",
       "                                       ║ \n",
       "c_1: ══════════════════════════════════╩═\n",
       "                                         "
      ]
     },
     "metadata": {},
     "output_type": "display_data"
    },
    {
     "data": {
      "text/html": [
       "<pre style=\"word-wrap: normal;white-space: pre;background: #fff0;line-height: 1.1;font-family: &quot;Courier New&quot;,Courier,monospace\">     ┌───┐     ┌─┐                         \n",
       "q_0: ┤ H ├──■──┤M├─────────────────────────\n",
       "     └───┘┌─┴─┐└╥┘┌───┐┌───┐┌─────┐┌───┐┌─┐\n",
       "q_1: ─────┤ X ├─╫─┤ S ├┤ H ├┤ TDG ├┤ H ├┤M├\n",
       "          └───┘ ║ └───┘└───┘└─────┘└───┘└╥┘\n",
       "c_0: ═══════════╩════════════════════════╬═\n",
       "                                         ║ \n",
       "c_1: ════════════════════════════════════╩═\n",
       "                                           </pre>"
      ],
      "text/plain": [
       "     ┌───┐     ┌─┐                         \n",
       "q_0: ┤ H ├──■──┤M├─────────────────────────\n",
       "     └───┘┌─┴─┐└╥┘┌───┐┌───┐┌─────┐┌───┐┌─┐\n",
       "q_1: ─────┤ X ├─╫─┤ S ├┤ H ├┤ TDG ├┤ H ├┤M├\n",
       "          └───┘ ║ └───┘└───┘└─────┘└───┘└╥┘\n",
       "c_0: ═══════════╩════════════════════════╬═\n",
       "                                         ║ \n",
       "c_1: ════════════════════════════════════╩═\n",
       "                                           "
      ]
     },
     "metadata": {},
     "output_type": "display_data"
    },
    {
     "data": {
      "text/html": [
       "<pre style=\"word-wrap: normal;white-space: pre;background: #fff0;line-height: 1.1;font-family: &quot;Courier New&quot;,Courier,monospace\">     ┌───┐     ┌───┐┌─┐                  \n",
       "q_0: ┤ H ├──■──┤ H ├┤M├──────────────────\n",
       "     └───┘┌─┴─┐├───┤└╥┘┌───┐┌───┐┌───┐┌─┐\n",
       "q_1: ─────┤ X ├┤ S ├─╫─┤ H ├┤ T ├┤ H ├┤M├\n",
       "          └───┘└───┘ ║ └───┘└───┘└───┘└╥┘\n",
       "c_0: ════════════════╩═════════════════╬═\n",
       "                                       ║ \n",
       "c_1: ══════════════════════════════════╩═\n",
       "                                         </pre>"
      ],
      "text/plain": [
       "     ┌───┐     ┌───┐┌─┐                  \n",
       "q_0: ┤ H ├──■──┤ H ├┤M├──────────────────\n",
       "     └───┘┌─┴─┐├───┤└╥┘┌───┐┌───┐┌───┐┌─┐\n",
       "q_1: ─────┤ X ├┤ S ├─╫─┤ H ├┤ T ├┤ H ├┤M├\n",
       "          └───┘└───┘ ║ └───┘└───┘└───┘└╥┘\n",
       "c_0: ════════════════╩═════════════════╬═\n",
       "                                       ║ \n",
       "c_1: ══════════════════════════════════╩═\n",
       "                                         "
      ]
     },
     "metadata": {},
     "output_type": "display_data"
    },
    {
     "data": {
      "text/html": [
       "<pre style=\"word-wrap: normal;white-space: pre;background: #fff0;line-height: 1.1;font-family: &quot;Courier New&quot;,Courier,monospace\">     ┌───┐     ┌───┐┌─┐                    \n",
       "q_0: ┤ H ├──■──┤ H ├┤M├────────────────────\n",
       "     └───┘┌─┴─┐├───┤└╥┘┌───┐┌─────┐┌───┐┌─┐\n",
       "q_1: ─────┤ X ├┤ S ├─╫─┤ H ├┤ TDG ├┤ H ├┤M├\n",
       "          └───┘└───┘ ║ └───┘└─────┘└───┘└╥┘\n",
       "c_0: ════════════════╩═══════════════════╬═\n",
       "                                         ║ \n",
       "c_1: ════════════════════════════════════╩═\n",
       "                                           </pre>"
      ],
      "text/plain": [
       "     ┌───┐     ┌───┐┌─┐                    \n",
       "q_0: ┤ H ├──■──┤ H ├┤M├────────────────────\n",
       "     └───┘┌─┴─┐├───┤└╥┘┌───┐┌─────┐┌───┐┌─┐\n",
       "q_1: ─────┤ X ├┤ S ├─╫─┤ H ├┤ TDG ├┤ H ├┤M├\n",
       "          └───┘└───┘ ║ └───┘└─────┘└───┘└╥┘\n",
       "c_0: ════════════════╩═══════════════════╬═\n",
       "                                         ║ \n",
       "c_1: ════════════════════════════════════╩═\n",
       "                                           "
      ]
     },
     "metadata": {},
     "output_type": "display_data"
    },
    {
     "data": {
      "text/html": [
       "<pre style=\"word-wrap: normal;white-space: pre;background: #fff0;line-height: 1.1;font-family: &quot;Courier New&quot;,Courier,monospace\">     ┌───┐     ┌─┐                       \n",
       "q_0: ┤ H ├──■──┤M├───────────────────────\n",
       "     └───┘┌─┴─┐└╥┘┌───┐┌───┐┌───┐┌───┐┌─┐\n",
       "q_1: ─────┤ X ├─╫─┤ S ├┤ H ├┤ T ├┤ H ├┤M├\n",
       "          └───┘ ║ └───┘└───┘└───┘└───┘└╥┘\n",
       "c_0: ═══════════╩══════════════════════╬═\n",
       "                                       ║ \n",
       "c_1: ══════════════════════════════════╩═\n",
       "                                         </pre>"
      ],
      "text/plain": [
       "     ┌───┐     ┌─┐                       \n",
       "q_0: ┤ H ├──■──┤M├───────────────────────\n",
       "     └───┘┌─┴─┐└╥┘┌───┐┌───┐┌───┐┌───┐┌─┐\n",
       "q_1: ─────┤ X ├─╫─┤ S ├┤ H ├┤ T ├┤ H ├┤M├\n",
       "          └───┘ ║ └───┘└───┘└───┘└───┘└╥┘\n",
       "c_0: ═══════════╩══════════════════════╬═\n",
       "                                       ║ \n",
       "c_1: ══════════════════════════════════╩═\n",
       "                                         "
      ]
     },
     "metadata": {},
     "output_type": "display_data"
    },
    {
     "data": {
      "text/html": [
       "<pre style=\"word-wrap: normal;white-space: pre;background: #fff0;line-height: 1.1;font-family: &quot;Courier New&quot;,Courier,monospace\">     ┌───┐     ┌─┐                         \n",
       "q_0: ┤ H ├──■──┤M├─────────────────────────\n",
       "     └───┘┌─┴─┐└╥┘┌───┐┌───┐┌─────┐┌───┐┌─┐\n",
       "q_1: ─────┤ X ├─╫─┤ S ├┤ H ├┤ TDG ├┤ H ├┤M├\n",
       "          └───┘ ║ └───┘└───┘└─────┘└───┘└╥┘\n",
       "c_0: ═══════════╩════════════════════════╬═\n",
       "                                         ║ \n",
       "c_1: ════════════════════════════════════╩═\n",
       "                                           </pre>"
      ],
      "text/plain": [
       "     ┌───┐     ┌─┐                         \n",
       "q_0: ┤ H ├──■──┤M├─────────────────────────\n",
       "     └───┘┌─┴─┐└╥┘┌───┐┌───┐┌─────┐┌───┐┌─┐\n",
       "q_1: ─────┤ X ├─╫─┤ S ├┤ H ├┤ TDG ├┤ H ├┤M├\n",
       "          └───┘ ║ └───┘└───┘└─────┘└───┘└╥┘\n",
       "c_0: ═══════════╩════════════════════════╬═\n",
       "                                         ║ \n",
       "c_1: ════════════════════════════════════╩═\n",
       "                                           "
      ]
     },
     "metadata": {},
     "output_type": "display_data"
    },
    {
     "data": {
      "text/html": [
       "<pre style=\"word-wrap: normal;white-space: pre;background: #fff0;line-height: 1.1;font-family: &quot;Courier New&quot;,Courier,monospace\">     ┌───┐     ┌───┐┌─┐                  \n",
       "q_0: ┤ H ├──■──┤ H ├┤M├──────────────────\n",
       "     └───┘┌─┴─┐├───┤└╥┘┌───┐┌───┐┌───┐┌─┐\n",
       "q_1: ─────┤ X ├┤ S ├─╫─┤ H ├┤ T ├┤ H ├┤M├\n",
       "          └───┘└───┘ ║ └───┘└───┘└───┘└╥┘\n",
       "c_0: ════════════════╩═════════════════╬═\n",
       "                                       ║ \n",
       "c_1: ══════════════════════════════════╩═\n",
       "                                         </pre>"
      ],
      "text/plain": [
       "     ┌───┐     ┌───┐┌─┐                  \n",
       "q_0: ┤ H ├──■──┤ H ├┤M├──────────────────\n",
       "     └───┘┌─┴─┐├───┤└╥┘┌───┐┌───┐┌───┐┌─┐\n",
       "q_1: ─────┤ X ├┤ S ├─╫─┤ H ├┤ T ├┤ H ├┤M├\n",
       "          └───┘└───┘ ║ └───┘└───┘└───┘└╥┘\n",
       "c_0: ════════════════╩═════════════════╬═\n",
       "                                       ║ \n",
       "c_1: ══════════════════════════════════╩═\n",
       "                                         "
      ]
     },
     "metadata": {},
     "output_type": "display_data"
    },
    {
     "data": {
      "text/html": [
       "<pre style=\"word-wrap: normal;white-space: pre;background: #fff0;line-height: 1.1;font-family: &quot;Courier New&quot;,Courier,monospace\">     ┌───┐     ┌───┐┌─┐                    \n",
       "q_0: ┤ H ├──■──┤ H ├┤M├────────────────────\n",
       "     └───┘┌─┴─┐├───┤└╥┘┌───┐┌─────┐┌───┐┌─┐\n",
       "q_1: ─────┤ X ├┤ S ├─╫─┤ H ├┤ TDG ├┤ H ├┤M├\n",
       "          └───┘└───┘ ║ └───┘└─────┘└───┘└╥┘\n",
       "c_0: ════════════════╩═══════════════════╬═\n",
       "                                         ║ \n",
       "c_1: ════════════════════════════════════╩═\n",
       "                                           </pre>"
      ],
      "text/plain": [
       "     ┌───┐     ┌───┐┌─┐                    \n",
       "q_0: ┤ H ├──■──┤ H ├┤M├────────────────────\n",
       "     └───┘┌─┴─┐├───┤└╥┘┌───┐┌─────┐┌───┐┌─┐\n",
       "q_1: ─────┤ X ├┤ S ├─╫─┤ H ├┤ TDG ├┤ H ├┤M├\n",
       "          └───┘└───┘ ║ └───┘└─────┘└───┘└╥┘\n",
       "c_0: ════════════════╩═══════════════════╬═\n",
       "                                         ║ \n",
       "c_1: ════════════════════════════════════╩═\n",
       "                                           "
      ]
     },
     "metadata": {},
     "output_type": "display_data"
    },
    {
     "data": {
      "text/html": [
       "<pre style=\"word-wrap: normal;white-space: pre;background: #fff0;line-height: 1.1;font-family: &quot;Courier New&quot;,Courier,monospace\">     ┌───┐     ┌─┐                       \n",
       "q_0: ┤ H ├──■──┤M├───────────────────────\n",
       "     └───┘┌─┴─┐└╥┘┌───┐┌───┐┌───┐┌───┐┌─┐\n",
       "q_1: ─────┤ X ├─╫─┤ S ├┤ H ├┤ T ├┤ H ├┤M├\n",
       "          └───┘ ║ └───┘└───┘└───┘└───┘└╥┘\n",
       "c_0: ═══════════╩══════════════════════╬═\n",
       "                                       ║ \n",
       "c_1: ══════════════════════════════════╩═\n",
       "                                         </pre>"
      ],
      "text/plain": [
       "     ┌───┐     ┌─┐                       \n",
       "q_0: ┤ H ├──■──┤M├───────────────────────\n",
       "     └───┘┌─┴─┐└╥┘┌───┐┌───┐┌───┐┌───┐┌─┐\n",
       "q_1: ─────┤ X ├─╫─┤ S ├┤ H ├┤ T ├┤ H ├┤M├\n",
       "          └───┘ ║ └───┘└───┘└───┘└───┘└╥┘\n",
       "c_0: ═══════════╩══════════════════════╬═\n",
       "                                       ║ \n",
       "c_1: ══════════════════════════════════╩═\n",
       "                                         "
      ]
     },
     "metadata": {},
     "output_type": "display_data"
    },
    {
     "data": {
      "text/html": [
       "<pre style=\"word-wrap: normal;white-space: pre;background: #fff0;line-height: 1.1;font-family: &quot;Courier New&quot;,Courier,monospace\">     ┌───┐     ┌─┐                         \n",
       "q_0: ┤ H ├──■──┤M├─────────────────────────\n",
       "     └───┘┌─┴─┐└╥┘┌───┐┌───┐┌─────┐┌───┐┌─┐\n",
       "q_1: ─────┤ X ├─╫─┤ S ├┤ H ├┤ TDG ├┤ H ├┤M├\n",
       "          └───┘ ║ └───┘└───┘└─────┘└───┘└╥┘\n",
       "c_0: ═══════════╩════════════════════════╬═\n",
       "                                         ║ \n",
       "c_1: ════════════════════════════════════╩═\n",
       "                                           </pre>"
      ],
      "text/plain": [
       "     ┌───┐     ┌─┐                         \n",
       "q_0: ┤ H ├──■──┤M├─────────────────────────\n",
       "     └───┘┌─┴─┐└╥┘┌───┐┌───┐┌─────┐┌───┐┌─┐\n",
       "q_1: ─────┤ X ├─╫─┤ S ├┤ H ├┤ TDG ├┤ H ├┤M├\n",
       "          └───┘ ║ └───┘└───┘└─────┘└───┘└╥┘\n",
       "c_0: ═══════════╩════════════════════════╬═\n",
       "                                         ║ \n",
       "c_1: ════════════════════════════════════╩═\n",
       "                                           "
      ]
     },
     "metadata": {},
     "output_type": "display_data"
    },
    {
     "data": {
      "text/html": [
       "<pre style=\"word-wrap: normal;white-space: pre;background: #fff0;line-height: 1.1;font-family: &quot;Courier New&quot;,Courier,monospace\">     ┌───┐     ┌───┐┌─┐                  \n",
       "q_0: ┤ H ├──■──┤ H ├┤M├──────────────────\n",
       "     └───┘┌─┴─┐├───┤└╥┘┌───┐┌───┐┌───┐┌─┐\n",
       "q_1: ─────┤ X ├┤ S ├─╫─┤ H ├┤ T ├┤ H ├┤M├\n",
       "          └───┘└───┘ ║ └───┘└───┘└───┘└╥┘\n",
       "c_0: ════════════════╩═════════════════╬═\n",
       "                                       ║ \n",
       "c_1: ══════════════════════════════════╩═\n",
       "                                         </pre>"
      ],
      "text/plain": [
       "     ┌───┐     ┌───┐┌─┐                  \n",
       "q_0: ┤ H ├──■──┤ H ├┤M├──────────────────\n",
       "     └───┘┌─┴─┐├───┤└╥┘┌───┐┌───┐┌───┐┌─┐\n",
       "q_1: ─────┤ X ├┤ S ├─╫─┤ H ├┤ T ├┤ H ├┤M├\n",
       "          └───┘└───┘ ║ └───┘└───┘└───┘└╥┘\n",
       "c_0: ════════════════╩═════════════════╬═\n",
       "                                       ║ \n",
       "c_1: ══════════════════════════════════╩═\n",
       "                                         "
      ]
     },
     "metadata": {},
     "output_type": "display_data"
    },
    {
     "data": {
      "text/html": [
       "<pre style=\"word-wrap: normal;white-space: pre;background: #fff0;line-height: 1.1;font-family: &quot;Courier New&quot;,Courier,monospace\">     ┌───┐     ┌───┐┌─┐                    \n",
       "q_0: ┤ H ├──■──┤ H ├┤M├────────────────────\n",
       "     └───┘┌─┴─┐├───┤└╥┘┌───┐┌─────┐┌───┐┌─┐\n",
       "q_1: ─────┤ X ├┤ S ├─╫─┤ H ├┤ TDG ├┤ H ├┤M├\n",
       "          └───┘└───┘ ║ └───┘└─────┘└───┘└╥┘\n",
       "c_0: ════════════════╩═══════════════════╬═\n",
       "                                         ║ \n",
       "c_1: ════════════════════════════════════╩═\n",
       "                                           </pre>"
      ],
      "text/plain": [
       "     ┌───┐     ┌───┐┌─┐                    \n",
       "q_0: ┤ H ├──■──┤ H ├┤M├────────────────────\n",
       "     └───┘┌─┴─┐├───┤└╥┘┌───┐┌─────┐┌───┐┌─┐\n",
       "q_1: ─────┤ X ├┤ S ├─╫─┤ H ├┤ TDG ├┤ H ├┤M├\n",
       "          └───┘└───┘ ║ └───┘└─────┘└───┘└╥┘\n",
       "c_0: ════════════════╩═══════════════════╬═\n",
       "                                         ║ \n",
       "c_1: ════════════════════════════════════╩═\n",
       "                                           "
      ]
     },
     "metadata": {},
     "output_type": "display_data"
    },
    {
     "name": "stdout",
     "output_type": "stream",
     "text": [
      "2.178\n"
     ]
    }
   ],
   "source": [
    "import context\n",
    "from device_independent_test import entanglement\n",
    "from random import random\n",
    "\n",
    "dispatch = quantum_communicator.LocalDispatcher([provider.get_backend('ibmq_qasm_simulator')])\n",
    "shots = 200\n",
    "runs = 5\n",
    "p_failure = 0.2\n",
    "\n",
    "# Alice's measurements (Z or X basis)\n",
    "alice_z = entanglement.alice_Z()\n",
    "alice_z.measure(0,0)\n",
    "alice_x = entanglement.alice_X()\n",
    "alice_x.measure(0,0)\n",
    "\n",
    "# Bob's measurements (W or V basis)\n",
    "bob_w = entanglement.bob_W()\n",
    "bob_w.measure(1,1)\n",
    "bob_v = entanglement.bob_V()\n",
    "bob_v.measure(1,1)\n",
    "\n",
    "post_ops = [[alice_z,alice_x],[bob_w,bob_v]]\n",
    "counts = [{\"00\":0,\"11\":0,\"10\":0,\"01\":0},{\"00\":0,\"11\":0,\"10\":0,\"01\":0},{\"00\":0,\"11\":0,\"10\":0,\"01\":0},{\"00\":0,\"11\":0,\"10\":0,\"01\":0}]\n",
    "\n",
    "for i in range(0,runs):\n",
    "    qc = QuantumCircuit(2)\n",
    "    qc.h(0)\n",
    "    if random() > p_failure:\n",
    "        qc.cx(0,1)\n",
    "    temp = dispatch.batch_run_and_transmit([qc],post_ops,shots)\n",
    "    for j in range (0,4):\n",
    "        for key in counts[j]:\n",
    "            counts[j][key] = counts[j][key]+temp[j].get(key,0.0)\n",
    "\n",
    "expected_ZW = entanglement.compute_expectation_for_CHSH(counts[0], shots*runs)\n",
    "expected_ZV = entanglement.compute_expectation_for_CHSH(counts[1], shots*runs)\n",
    "expected_XW = entanglement.compute_expectation_for_CHSH(counts[2], shots*runs)\n",
    "expected_XV = entanglement.compute_expectation_for_CHSH(counts[3], shots*runs)\n",
    "\n",
    "test_val = (expected_ZW + expected_ZV + expected_XW - expected_XV)\n",
    "print(test_val)\n"
   ]
  },
  {
   "cell_type": "code",
   "execution_count": null,
   "metadata": {},
   "outputs": [],
   "source": []
  }
 ],
 "metadata": {
  "kernelspec": {
   "display_name": "Python 3",
   "language": "python",
   "name": "python3"
  },
  "language_info": {
   "codemirror_mode": {
    "name": "ipython",
    "version": 3
   },
   "file_extension": ".py",
   "mimetype": "text/x-python",
   "name": "python",
   "nbconvert_exporter": "python",
   "pygments_lexer": "ipython3",
   "version": "3.7.3"
  },
  "toc": {
   "base_numbering": 1,
   "nav_menu": {},
   "number_sections": false,
   "sideBar": false,
   "skip_h1_title": false,
   "title_cell": "Table of Contents",
   "title_sidebar": "Contents",
   "toc_cell": false,
   "toc_position": {},
   "toc_section_display": false,
   "toc_window_display": false
  }
 },
 "nbformat": 4,
 "nbformat_minor": 2
}
