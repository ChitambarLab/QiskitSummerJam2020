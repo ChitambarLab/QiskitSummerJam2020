{
 "cells": [
  {
   "cell_type": "markdown",
   "metadata": {},
   "source": [
    "# What Happens When the Wrong Operations are Performed?"
   ]
  },
  {
   "cell_type": "markdown",
   "metadata": {},
   "source": [
    "In our tests we trust the prepartory system (Alice). We assume Alice properly performs the correct operations and prepares the desired states. However, we do not claim to know if Bob can properly perform the required tests. What happens if Bob does not perform the correct operations? This document runs through examples of performing the wrong measurements and how our tests detect this."
   ]
  },
  {
   "cell_type": "markdown",
   "metadata": {},
   "source": [
    "# Dimensionality Testing"
   ]
  },
  {
   "cell_type": "code",
   "execution_count": null,
   "metadata": {},
   "outputs": [],
   "source": []
  },
  {
   "cell_type": "markdown",
   "metadata": {},
   "source": [
    "# Incompatible Measurement Testing"
   ]
  },
  {
   "cell_type": "markdown",
   "metadata": {},
   "source": [
    "This module determines if a quantum device can perform incompatible measurements. Recall that incompatible measurments are those which do not commute, measuring in the Z and X bases, for example. Below the compatible measurement from the theory notebook is performed. Bob's first (y=0) projective measurement performs the following rotation (the global phase on the second basis state has been changed):\n",
    "\\begin{pmatrix}\n",
    "    cos(\\theta) & sin(\\theta)\\\\\n",
    "    -sin(\\theta) & cos(\\theta)\\\\\n",
    "\\end{pmatrix}\n",
    "Thus we can perform Bob's measurement via a Y rotation by - $2\\theta$ then a measurment in the computational basis. Now let's construct the matrix for the compatible measurement. This is given by:\n",
    "\\begin{pmatrix}\n",
    "    sin(\\theta + \\pi /4) & -cos(\\theta + \\pi /4)\\\\\n",
    "    cos(\\theta + \\pi /4) & sin(\\theta + \\pi /4)\\\\\n",
    "\\end{pmatrix}\n",
    "Using a couple trig properties, this becomes\n",
    "\\begin{pmatrix}\n",
    "    cos(\\pi /4 -\\theta) & -sin(\\pi /4 -\\theta)\\\\\n",
    "    sin(\\pi / 4 -\\theta) & cos(\\pi /4 -\\theta)\\\\\n",
    "\\end{pmatrix}\n",
    "The above matrix is a rotation of $2(\\pi /4 -\\theta)$ around the Y axis. In the incompatible measurement test, we use $\\theta = \\pi / 8$. Thus, this measurement is achieved via a rotation of $\\pi / 4$.<br><br>\n",
    "The code snippet below implements this compatible measurement. This set of projective measurements should not violate the classical bounds."
   ]
  },
  {
   "cell_type": "code",
   "execution_count": 18,
   "metadata": {},
   "outputs": [
    {
     "name": "stderr",
     "output_type": "stream",
     "text": [
      "ibmqfactory.load_account:WARNING:2020-06-29 13:26:31,632: Credentials are already in use. The existing account in the session will be replaced.\n"
     ]
    },
    {
     "name": "stdout",
     "output_type": "stream",
     "text": [
      "4.04\n"
     ]
    }
   ],
   "source": [
    "from qiskit import QuantumCircuit, IBMQ\n",
    "import numpy as np\n",
    "import context\n",
    "from device_independent_test import incompatible_measurement\n",
    "from device_independent_test import quantum_communicator\n",
    "provider = IBMQ.load_account()\n",
    "\n",
    "dispatch = quantum_communicator.LocalDispatcher([provider.get_backend('ibmq_qasm_simulator')])\n",
    "\n",
    "# create bb84 states\n",
    "pre_ops = [incompatible_measurement.bb84_states()]\n",
    "\n",
    "# measure in the wrong basis\n",
    "qc0 = QuantumCircuit(4)\n",
    "qc0.u3(-np.pi/4,0,0,range(0,4))\n",
    "qc0.measure_all()\n",
    "qc1 = QuantumCircuit(4)\n",
    "qc1.u3(np.pi/4,0,0,range(0,4))\n",
    "qc1.measure_all()\n",
    "post_ops = [[QuantumCircuit(4)],[qc0,qc1]]\n",
    "counts = dispatch.batch_run_and_transmit(pre_ops,post_ops,1000)\n",
    "violation = incompatible_measurement.bell_violation(counts[0],counts[1],1000,1000)\n",
    "print(violation)"
   ]
  },
  {
   "cell_type": "markdown",
   "metadata": {},
   "source": [
    "# Entanglement Testing"
   ]
  },
  {
   "cell_type": "markdown",
   "metadata": {},
   "source": [
    "The CHSH test in this library truly relies both upon entanglement and incompatible measurments. For the purposes of this document, we will assume that the ability to perform incompatible measurments has already been verified. The code below demonstrates what happens if an entangled pair is not generated. The first code block demonstrates the value of the CHSH test for two randomly generated states. The second demonstrates the result of the CHSH test when the entangling CNOT fails with a set failure probability."
   ]
  },
  {
   "cell_type": "code",
   "execution_count": 44,
   "metadata": {},
   "outputs": [
    {
     "name": "stdout",
     "output_type": "stream",
     "text": [
      "-0.10199999999999998\n"
     ]
    }
   ],
   "source": [
    "from qiskit.quantum_info import random_unitary\n",
    "\n",
    "dispatch = quantum_communicator.LocalDispatcher([provider.get_backend('ibmq_qasm_simulator')])\n",
    "shots = 1000\n",
    "\n",
    "# Generate two random states via random unitary operations\n",
    "random_circ = random_unitary(2).tensor(random_unitary(2))\n",
    "qc = QuantumCircuit(2)\n",
    "qc.unitary(random_circ,[0,1],label='random unitaries')\n",
    "qc.draw()\n",
    "\n",
    "post_ops = [[QuantumCircuit(2)],[entanglement.measure_in_ZW(),entanglement.measure_in_ZV(),entanglement.measure_in_XW(),entanglement.measure_in_XV()]]\n",
    "counts = dispatch.batch_run_and_transmit([qc],post_ops,shots)\n",
    "\n",
    "expected_ZW = entanglement.compute_expectation_for_CHSH(counts[0], shots)\n",
    "expected_ZV = entanglement.compute_expectation_for_CHSH(counts[1], shots)\n",
    "expected_XW = entanglement.compute_expectation_for_CHSH(counts[2], shots)\n",
    "expected_XV = entanglement.compute_expectation_for_CHSH(counts[3], shots)\n",
    "\n",
    "test_val = (expected_ZW + expected_ZV + expected_XW - expected_XV)\n",
    "print(test_val)"
   ]
  },
  {
   "cell_type": "code",
   "execution_count": 46,
   "metadata": {},
   "outputs": [
    {
     "name": "stdout",
     "output_type": "stream",
     "text": [
      "2.846\n"
     ]
    }
   ],
   "source": [
    "import context\n",
    "from device_independent_test import entanglement\n",
    "from random import random\n",
    "\n",
    "dispatch = quantum_communicator.LocalDispatcher([provider.get_backend('ibmq_qasm_simulator')])\n",
    "shots = 200\n",
    "runs = 5\n",
    "p_failure = 0.2\n",
    "post_ops = [[QuantumCircuit(2)],[entanglement.measure_in_ZW(),entanglement.measure_in_ZV(),entanglement.measure_in_XW(),entanglement.measure_in_XV()]]\n",
    "counts = [{\"00\":0,\"11\":0,\"10\":0,\"01\":0},{\"00\":0,\"11\":0,\"10\":0,\"01\":0},{\"00\":0,\"11\":0,\"10\":0,\"01\":0},{\"00\":0,\"11\":0,\"10\":0,\"01\":0}]\n",
    "\n",
    "for i in range(0,runs):\n",
    "    qc = QuantumCircuit(2)\n",
    "    qc.h(0)\n",
    "    if random() > p_failure:\n",
    "        qc.cx(0,1)\n",
    "    temp = dispatch.batch_run_and_transmit([qc],post_ops,shots)\n",
    "    for j in range (0,4):\n",
    "        for key in counts[j]:\n",
    "            counts[j][key] = counts[j][key]+temp[j].get(key,0.0)\n",
    "\n",
    "expected_ZW = entanglement.compute_expectation_for_CHSH(counts[0], shots*runs)\n",
    "expected_ZV = entanglement.compute_expectation_for_CHSH(counts[1], shots*runs)\n",
    "expected_XW = entanglement.compute_expectation_for_CHSH(counts[2], shots*runs)\n",
    "expected_XV = entanglement.compute_expectation_for_CHSH(counts[3], shots*runs)\n",
    "\n",
    "test_val = (expected_ZW + expected_ZV + expected_XW - expected_XV)\n",
    "print(test_val)\n"
   ]
  },
  {
   "cell_type": "code",
   "execution_count": null,
   "metadata": {},
   "outputs": [],
   "source": []
  }
 ],
 "metadata": {
  "kernelspec": {
   "display_name": "Python 3",
   "language": "python",
   "name": "python3"
  },
  "language_info": {
   "codemirror_mode": {
    "name": "ipython",
    "version": 3
   },
   "file_extension": ".py",
   "mimetype": "text/x-python",
   "name": "python",
   "nbconvert_exporter": "python",
   "pygments_lexer": "ipython3",
   "version": "3.7.3"
  },
  "toc": {
   "base_numbering": 1,
   "nav_menu": {},
   "number_sections": false,
   "sideBar": false,
   "skip_h1_title": false,
   "title_cell": "Table of Contents",
   "title_sidebar": "Contents",
   "toc_cell": false,
   "toc_position": {},
   "toc_section_display": false,
   "toc_window_display": false
  }
 },
 "nbformat": 4,
 "nbformat_minor": 2
}
