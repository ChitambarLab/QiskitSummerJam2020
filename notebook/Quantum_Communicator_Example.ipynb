{
 "cells": [
  {
   "cell_type": "code",
   "execution_count": 1,
   "metadata": {},
   "outputs": [],
   "source": [
    "# Importing standard Qiskit libraries and configuring account\n",
    "from qiskit import QuantumCircuit, execute, Aer, IBMQ\n",
    "from qiskit.compiler import transpile, assemble\n",
    "from qiskit.tools.jupyter import *\n",
    "from qiskit.visualization import *\n",
    "from qiskit.providers.ibmq.managed import IBMQJobManager\n",
    "\n",
    "# Loading your IBM Q account(s)\n",
    "import qiskit\n",
    "from qiskit import IBMQ\n",
    "provider = IBMQ.load_account()\n",
    "\n",
    "import numpy as np\n",
    "\n",
    "import context\n",
    "from device_independent_test import quantum_communicator\n",
    "from device_independent_test import incompatible_measurement"
   ]
  },
  {
   "cell_type": "markdown",
   "metadata": {},
   "source": [
    "# Using the QuantumDispatcher Class"
   ]
  },
  {
   "cell_type": "markdown",
   "metadata": {},
   "source": [
    "A Dispatcher has 3 functions: run_and_transmit(), multi_run_and_transmit(), and batch_run_and_transmit(). \n",
    "Run_and_transmit takes in 5 parameters: input registers, output registers, a circuit of operations to prepare a transmitted state, a list operations to run on different devices, and the number of shots. Run_and_transmit() is intended to run a single job.\n",
    "Multi_run_and_transmit takes in similar parameters. However, the preparation operations are now expected to be a list of operations. Similarly, the post operations are expected to be a list of lists. The ith element of each list corresponds to the circuit ran as the ith job. \n",
    "Batch_run_and_transmit creates and runs all permutations of operations given to it, both pre and post transmission. "
   ]
  },
  {
   "cell_type": "markdown",
   "metadata": {},
   "source": [
    "The cell below first creates a list of two operations to run to prepare states. Next, a list of two lists is created to define the operations desired after transmission. The first operation is the bb84 states and then Bob's measurement with y=0. The second is the bb84 states transmitted to Bob who measures when y=1. \n",
    "To create the dispatcher, a list of devices is required in the constructor. As this is a local dispatcher, only one device is required. Next, a multi run is executed and the counts are stored."
   ]
  },
  {
   "cell_type": "code",
   "execution_count": 3,
   "metadata": {},
   "outputs": [],
   "source": [
    "pre_ops = [incompatible_measurement.bb84_states(),incompatible_measurement.bb84_states()]\n",
    "post_ops = [[QuantumCircuit(4),QuantumCircuit(4)],\n",
    "            [incompatible_measurement.measure_circuit(0),incompatible_measurement.measure_circuit(1)]]\n",
    "\n",
    "dispatch = quantum_communicator.LocalDispatcher([provider.get_backend('ibmq_qasm_simulator')])\n",
    "counts = dispatch.multi_run_and_transmit(\"\",\"\",pre_ops,post_ops,1000)"
   ]
  },
  {
   "cell_type": "code",
   "execution_count": 4,
   "metadata": {},
   "outputs": [
    {
     "name": "stdout",
     "output_type": "stream",
     "text": [
      "[{'0000': 17, '0111': 3, '1011': 97, '1100': 12, '1001': 16, '1111': 17, '0100': 5, '0010': 93, '0110': 16, '0011': 24, '1000': 102, '1010': 491, '0001': 7, '1110': 99, '1101': 1}, {'0000': 19, '0111': 4, '1011': 99, '1100': 18, '1001': 533, '1111': 13, '0100': 3, '0101': 20, '0010': 4, '0011': 12, '1000': 95, '1010': 11, '0001': 81, '1110': 3, '1101': 85}]\n"
     ]
    }
   ],
   "source": [
    "print(counts)"
   ]
  },
  {
   "cell_type": "code",
   "execution_count": null,
   "metadata": {},
   "outputs": [],
   "source": []
  }
 ],
 "metadata": {
  "kernelspec": {
   "display_name": "Python 3",
   "language": "python",
   "name": "python3"
  },
  "language_info": {
   "codemirror_mode": {
    "name": "ipython",
    "version": 3
   },
   "file_extension": ".py",
   "mimetype": "text/x-python",
   "name": "python",
   "nbconvert_exporter": "python",
   "pygments_lexer": "ipython3",
   "version": "3.7.3"
  },
  "toc": {
   "base_numbering": 1,
   "nav_menu": {},
   "number_sections": false,
   "sideBar": false,
   "skip_h1_title": false,
   "title_cell": "Table of Contents",
   "title_sidebar": "Contents",
   "toc_cell": false,
   "toc_position": {},
   "toc_section_display": false,
   "toc_window_display": false
  }
 },
 "nbformat": 4,
 "nbformat_minor": 2
}
