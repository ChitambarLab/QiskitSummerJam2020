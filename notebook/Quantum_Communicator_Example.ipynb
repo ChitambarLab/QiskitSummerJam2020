{
 "cells": [
  {
   "cell_type": "markdown",
   "metadata": {},
   "source": [
    "# Using the QuantumDispatcher Class"
   ]
  },
  {
   "cell_type": "markdown",
   "metadata": {},
   "source": [
    "A Dispatcher has 3 functions: `run_and_transmit`, `multi_run_and_transmit`, and `batch_run_and_transmit`. \n",
    "`run_and_transmit` takes in 3 parameters:\n",
    "  * pre-operation: a circuit of operations to prepare a transmitted state\n",
    "  * post-operations: a list operations to run on different devices\n",
    "  * the number of shots to run the circuit.\n",
    "\n",
    "`run_and_transmit` is intended to run a single job, while `multi_run_and_transmit` is intended to run multiple job. For `multi_run_and_transmit` the preparation operations are expected to be a list of operations, and the post operations are expected to be a list of lists. The ith element of each list corresponds to the circuit ran as the ith job.\n",
    "`batch_run_and_transmit` creates and runs all permutations of operations given to it, both pre and post transmission. "
   ]
  },
  {
   "cell_type": "markdown",
   "metadata": {},
   "source": [
    "## Example\n",
    "\n",
    "Consider the scenario for measurement incompatible testing. First, we prepare the BB84 states for Alice, and Bob measures based on the input he gets, y = 0 or y = 1.\n",
    "\n",
    "So we would like to make 2 measurements, once with Bob's input 0 and another with 1. We can instantaite a `LocalDispatcher` and call the method `multi_run_and_transmit` on this instance to accomplish this. To instantiate a `LocalDispatcher`, we need to feed in one device."
   ]
  },
  {
   "cell_type": "code",
   "execution_count": 2,
   "metadata": {},
   "outputs": [],
   "source": [
    "# Importing standard Qiskit libraries and configuring account\n",
    "from qiskit import QuantumCircuit, IBMQ\n",
    "# from qiskit.tools.jupyter import *\n",
    "# from qiskit.visualization import *\n",
    "# from qiskit.providers.ibmq.managed import IBMQJobManager\n",
    "\n",
    "# Loading your IBM Q account(s)\n",
    "provider = IBMQ.load_account()\n",
    "\n",
    "import numpy as np\n",
    "\n",
    "import context\n",
    "from device_independent_test.quantum_communicator import LocalDispatcher"
   ]
  },
  {
   "cell_type": "code",
   "execution_count": 8,
   "metadata": {},
   "outputs": [],
   "source": [
    "def get_bb84_state():\n",
    "    qc = QuantumCircuit(4)\n",
    "    qc.x(1) # create 1\n",
    "    qc.h(2) # create +\n",
    "    qc.x(3) # create -\n",
    "    qc.h(3) # ^\n",
    "    return qc\n",
    "\n",
    "def measure_circuit(y):\n",
    "    qc = QuantumCircuit(4)\n",
    "    theta = -1.0*(np.pi/4 + 0.5*y*np.pi) # -pi/4 rotation for y=0, -3pi/4 rotation for y=1\n",
    "    qc.u3(theta,0,0,0)\n",
    "    qc.measure_all()\n",
    "    return qc\n",
    "\n",
    "# initialization for two measurements - both preparing bb84 state\n",
    "pre_ops = [get_bb84_state(), get_bb84_state()]\n",
    "\n",
    "# one test sequence with QuantumCircuit(4) + measure_circuit(0)\n",
    "# and another with QuantumCircuit(4) + measure_circuit(1) \n",
    "post_ops = [\n",
    "    [QuantumCircuit(4), QuantumCircuit(4)],\n",
    "    [measure_circuit(0), measure_circuit(1)]\n",
    "]\n",
    "\n",
    "dispatch = LocalDispatcher([provider.get_backend('ibmq_qasm_simulator')])\n",
    "counts = dispatch.multi_run_and_transmit(pre_ops, post_ops, 1000)"
   ]
  },
  {
   "cell_type": "markdown",
   "metadata": {},
   "source": [
    "The function returns the list of counts of each measurement."
   ]
  },
  {
   "cell_type": "code",
   "execution_count": 10,
   "metadata": {},
   "outputs": [
    {
     "data": {
      "text/plain": [
       "[{'1010': 193,\n",
       "  '1111': 49,\n",
       "  '0110': 234,\n",
       "  '0011': 30,\n",
       "  '0111': 42,\n",
       "  '1011': 32,\n",
       "  '0010': 211,\n",
       "  '1110': 209},\n",
       " {'1010': 36,\n",
       "  '1111': 211,\n",
       "  '0110': 37,\n",
       "  '0011': 210,\n",
       "  '0111': 205,\n",
       "  '1011': 218,\n",
       "  '0010': 40,\n",
       "  '1110': 43}]"
      ]
     },
     "execution_count": 10,
     "metadata": {},
     "output_type": "execute_result"
    }
   ],
   "source": [
    "counts"
   ]
  }
 ],
 "metadata": {
  "kernelspec": {
   "display_name": "Python 3",
   "language": "python",
   "name": "python3"
  },
  "language_info": {
   "codemirror_mode": {
    "name": "ipython",
    "version": 3
   },
   "file_extension": ".py",
   "mimetype": "text/x-python",
   "name": "python",
   "nbconvert_exporter": "python",
   "pygments_lexer": "ipython3",
   "version": "3.7.5"
  },
  "toc": {
   "base_numbering": 1,
   "nav_menu": {},
   "number_sections": false,
   "sideBar": false,
   "skip_h1_title": false,
   "title_cell": "Table of Contents",
   "title_sidebar": "Contents",
   "toc_cell": false,
   "toc_position": {},
   "toc_section_display": false,
   "toc_window_display": false
  }
 },
 "nbformat": 4,
 "nbformat_minor": 2
}
