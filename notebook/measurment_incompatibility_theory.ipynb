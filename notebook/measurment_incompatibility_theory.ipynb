{
 "cells": [
  {
   "cell_type": "markdown",
   "metadata": {},
   "source": [
    "# A Single-Qubit Bell Violation as a Device-Independent Test\n",
    "\n",
    "In this notebook, we describe a quantum violation of a bell inequality bounding a classical communication system. The violation requires a single qubit and is not the result of entanglement or nonlocal behavior. The violation is caused by local measurement and superposition alone. For this reason, this test is a great \n",
    "\n",
    "For this project, the following Bell inequality and quantum violation were found using the open-source julia package, [BellScenario.jl](https://github.com/ChitambarLab/BellScenario.jl). This package is currently in an alpha version and is unfortunately experiencing a bug which prevents proper execution within a Jupyter notebook."
   ]
  },
  {
   "cell_type": "markdown",
   "metadata": {},
   "source": [
    "## Test Setting\n",
    "\n",
    "We consider a single qubit scenario where Alice and Bob each have a black-box with classical inputs and outputs. Alice is given an input, $x\\in\\{0,1,2,3\\}$ and encodes the value in a qubit, $\\rho_x$. The qubit is sent to Bob via some channel. Bob is given an input $y\\in\\{0,1\\}$ and performs a projective measurement based on the value. The outcome of the measurement, $b\\in\\{0,1\\}$ is output by Bob.\n",
    "\n",
    "<img src=\"img/qubit_bell_violation.png\" alt=\"Drawing\" style=\"width: 400px;\"/>\n",
    "\n",
    "This black-box scenario can be characterized in a device independent way by considering its conditional probabilities $p(b|xy)$. The conditional probability distribution or behavior of a black-box device can be considered as a vector $\\vec{p}$ where each element corresponds to a different probability $p(b|xy)$.\n",
    "\n"
   ]
  },
  {
   "cell_type": "markdown",
   "metadata": {},
   "source": [
    "## Test Assumptions\n",
    "\n",
    "1. Inputs $x$ and $y$ are selected from a uniform random distribution \n",
    "2. The communication channel is limited to the transmission of a single bit or qubit.\n",
    "\n",
    "If these assumptions are true, the quantum violation of a Bell inequality implies that Alice and Bob are performing a quantum protocol. If no assumptions can be placed on the communication channel, it is necessary to trust either device Alice or Bob to ensure that the prescribed protocol is actually taking place.\n"
   ]
  },
  {
   "cell_type": "markdown",
   "metadata": {},
   "source": [
    "## The Classical Bound\n",
    "\n",
    "The classical set of probabilities $\\mathcal{C}$ is the convex hull of the deterministic black-box behaviors, $\\mathcal{C} = \\text{conv}(\\vec{p}_D)$. A behavior is deterministic if $p(b|xy)\\in \\{0,1\\}$ for all $b$, $x$, and $y$. The deterministic behaviors of a black-box scenario are finite and therefore describe a convex polytope.\n",
    "\n",
    "A Bell inequality is a linear inequality that bounds the classical polytope for a black-box scenario. Given the input and output spaces as well as the communication between Alice and Bob, the bell inequalities are computed by first enumerating the deterministic behaviors and using a polytope transformation algorithm to find the bounding inequalities.\n",
    "\n",
    "The significant Bell inequality applied in our device-indepent test for measurement incompatibility is expressed,\n",
    "\n",
    "$$\n",
    "6 \\geq \\Big(p(0|00) + p(1|10) + p(0|20) + p(1|30)\\Big) + \\Big(p(1|01) + p(0|11) + p(0|21) + p(1|31)\\Big).\n",
    "$$\n",
    "\n",
    "This inequality may be daunting, but it can be broken down by Bob's input $y=0$ (left) and $y=1$ (right). \n",
    "\n",
    "\n",
    "\n",
    "\n",
    "\n",
    "\n",
    "\n",
    "\n",
    "\n"
   ]
  },
  {
   "cell_type": "markdown",
   "metadata": {},
   "source": [
    "## Quantum Violation\n",
    "\n",
    "Quantum mechanics can violate the discussed Bell inequality using the following protocol.\n",
    "\n",
    "Alice encodes the input $x$ into a BB84 qubit state $|\\psi_x\\rangle$ where $|\\psi_0\\rangle = |0\\rangle$, $|\\psi_1\\rangle =|1\\rangle$, $|\\psi_2\\rangle = |+\\rangle$, $|\\psi_3\\rangle = |-\\rangle$. Bob measures with a projective measurement onto a basis rotated off the BB84 states by an angle $\\theta=\\pi/4$. The measurement bases for each input $y$ are expressed\n",
    "\n",
    "\n",
    "$$\n",
    "\\begin{align}\n",
    "    &|\\Pi_0^{y=0}\\rangle = \\cos(\\pi/8)|0\\rangle + \\sin(\\pi/8)|1\\rangle, \\quad |\\Pi_1^{y=0}\\rangle = \\sin(\\pi/8)|0\\rangle - \\cos(\\pi/8)|1\\rangle \\\\\n",
    "    &|\\Pi_0^{y=1}\\rangle = \\cos(3\\pi/8)|0\\rangle + \\sin(3\\pi/8)|1\\rangle, \\quad |\\Pi_1^{y=1}\\rangle = \\sin(3\\pi/8)|0\\rangle - \\cos(3\\pi/8)|1\\rangle \\\\\n",
    "\\end{align}\n",
    "$$\n",
    "\n",
    "On Bloch sphere, the states and measurements lie within the $x$-$z$-plane and take the following orientation.\n",
    "\n",
    "<img src=\"img/quantum_protocol_qubit_violation.png\" alt=\"Drawing\" style=\"width: 600px;\"/>\n",
    "\n",
    "The conditional probabilities of each outcome are computed through the inner product, $p(b|xy) = |\\langle\\Pi_b^y|\\psi_x\\rangle|^2 = \\cos^2(\\phi/2)$, where $\\phi$ is the angle of separation between $|\\psi_x\\rangle$, and $|\\Pi_b^y\\rangle$ on Bloch sphere. By the symmetry of the BB84 states $\\phi$ can be one of two values $\\pi/4$ or $3\\pi/4$, therefore, $p(b|xy)\\in \\{\\cos^2(\\pi/8),\\cos^2(3\\pi/8)\\}$. Computing the conditional probabilities for the classical bound, it is found that each of the probabilities in the inequality take on the value $p(b|xy) = \\cos^2(\\pi/8)$. Summing up all of the conditional probabilities in the inequality, a violation is found, \n",
    "\n",
    "$$\n",
    "8\\cos^2(\\pi/8) = 6.818 \\nleq 6.\n",
    "$$\n",
    "\n",
    "The protocol violates the classical bound by $13.6\\%$.\n"
   ]
  },
  {
   "cell_type": "code",
   "execution_count": null,
   "metadata": {},
   "outputs": [],
   "source": [
    "# plot of quantum violation as measurements are rotated"
   ]
  },
  {
   "cell_type": "code",
   "execution_count": null,
   "metadata": {},
   "outputs": [],
   "source": [
    "# plot of quantum violation if classical measurements are used or classical states"
   ]
  }
 ],
 "metadata": {
  "kernelspec": {
   "display_name": "Python 3",
   "language": "python",
   "name": "python3"
  },
  "language_info": {
   "codemirror_mode": {
    "name": "ipython",
    "version": 3
   },
   "file_extension": ".py",
   "mimetype": "text/x-python",
   "name": "python",
   "nbconvert_exporter": "python",
   "pygments_lexer": "ipython3",
   "version": "3.7.4"
  }
 },
 "nbformat": 4,
 "nbformat_minor": 2
}
