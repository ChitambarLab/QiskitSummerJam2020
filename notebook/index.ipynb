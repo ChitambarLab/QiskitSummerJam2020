{
 "cells": [
  {
   "cell_type": "markdown",
   "metadata": {},
   "source": [
    "# Device-Independent Handshake Protocol\n",
    "\n",
    "***A test suite to verify the quantum capabalities of unknown devices.***\n",
    "\n",
    "## Motivation\n",
    "\n",
    "The quantum internet will enable long-distance quantum cryptography, teleportation, and distributed quantum computation. Inevitably, long-distance quantum communications will require a large network of intermediary quantum-enabled devices [1]. As the size the size of quantum networks increases, a handshake protocol will be required to establish connections with unknown devices. It will be an important part of this handshake to determine whether a device can faithfully perform simple quantum communications tasks. \n",
    "\n",
    "## Objectives\n",
    "\n",
    "1. ***Develop a device-independent handshake protocol to verify quantum systems***\n",
    "    * Verifies dimension, superposition, incompatible measurements, and entanglement.\n",
    "    * Applies genericly to future quantum networks of any design.\n",
    "    * Protocol is documented on the [Verification Protocol page](https://chitambarlab.github.io/QiskitSummerJam2020/device_independent_handshake_protocol.html).\n",
    "2. ***Create a python module to perform the handshake protocol***\n",
    "    * The `device_independent_test` module provides a `HandShake` api for running varios device-independent tests for bipartite communication scenarios.\n",
    "    * Our code is found at: [https://github.com/ChitambarLab/QiskitSummerJam2020](https://github.com/ChitambarLab/QiskitSummerJam2020)\n",
    "    * Software documentation is located under the 'Software Documentation' tab on the left-hand side\n",
    "3. ***Prototype and test the handshake with Qiskit***\n",
    "    * Descriptions of test implementations on the Qiskit simulator and IBM quantum computers is found under the Qiskit Examples tab.\n",
    "    * The theory behind device independent tests is documented under the 'Device-Independence Theory' tab on the left-hand size.\n",
    "\n"
   ]
  },
  {
   "cell_type": "markdown",
   "metadata": {},
   "source": []
  },
  {
   "cell_type": "markdown",
   "metadata": {},
   "source": [
    "## About the Team\n",
    "\n",
    "We are an interdisciplinary group of PhD students working under Eric Chitambar in the Coordinated Science Lab at University of Illinois Urbana-Champaign.\n",
    "\n",
    "### Members\n",
    "\n",
    "* Chloe Kim\n",
    "* Xinan Chen\n",
    "* Louis Schatzki\n",
    "* Brian Doolittle"
   ]
  },
  {
   "cell_type": "markdown",
   "metadata": {},
   "source": [
    "## Codebase Guide\n",
    "\n",
    "The best way to consume our project is through this website. All notebooks have been converted into a static website made with `mkdocs` and hosted with GitHub pages. \n",
    "\n",
    "Our codebase is found on github, [https://github.com/ChitambarLab/QiskitSummerJam2020](https://github.com/ChitambarLab/QiskitSummerJam2020).\n",
    "\n",
    "The `device_independent_test` module contains python software for running our `HandShake.test_all()` test suite in a generic manner. The `quantum_communicator` module serves as the interface between our `HandShake` module and the quantum devices. For the scope of this project we ran all tests for quantum devices on a single quantum machine.\n",
    "\n",
    "Please review the [Software Documentation](https://chitambarlab.github.io/QiskitSummerJam2020/Device_Independent_Test_Documentation.html), [Qiskit Examples](https://chitambarlab.github.io/QiskitSummerJam2020/Classical_Dimension_Test.html) and [Usage Guide](https://github.com/ChitambarLab/QiskitSummerJam2020/tree/master#usage-guide) for details regarding project use. "
   ]
  },
  {
   "cell_type": "markdown",
   "metadata": {},
   "source": [
    "## References\n",
    "\n",
    "[1] Wehner, Stephanie, David Elkouss, and Ronald Hanson. \"Quantum internet: A vision for the road ahead.\" *Science* 362.6412 (2018).\n"
   ]
  },
  {
   "cell_type": "code",
   "execution_count": null,
   "metadata": {},
   "outputs": [],
   "source": []
  }
 ],
 "metadata": {
  "cite2c": {
   "citations": {
    "7964131/YKKDV5DX": {
     "DOI": "10.1126/science.aam9288",
     "abstract": "The internet—a vast network that enables simultaneous long-range classical communication—has had a revolutionary impact on our world. The vision of a quantum internet is to fundamentally enhance internet technology by enabling quantum communication between any two points on Earth. Such a quantum internet may operate in parallel to the internet that we have today and connect quantum processors in order to achieve capabilities that are provably impossible by using only classical means. Here, we propose stages of development toward a full-blown quantum internet and highlight experimental and theoretical progress needed to attain them.",
     "author": [
      {
       "family": "Wehner",
       "given": "Stephanie"
      },
      {
       "family": "Elkouss",
       "given": "David"
      },
      {
       "family": "Hanson",
       "given": "Ronald"
      }
     ],
     "container-title": "Science",
     "id": "7964131/YKKDV5DX",
     "issue": "6412",
     "issued": {
      "year": 2018
     },
     "title": "Quantum internet: A vision for the road ahead",
     "type": "article-journal",
     "volume": "362"
    }
   }
  },
  "kernelspec": {
   "display_name": "Python 3",
   "language": "python",
   "name": "python3"
  },
  "language_info": {
   "codemirror_mode": {
    "name": "ipython",
    "version": 3
   },
   "file_extension": ".py",
   "mimetype": "text/x-python",
   "name": "python",
   "nbconvert_exporter": "python",
   "pygments_lexer": "ipython3",
   "version": "3.7.4"
  }
 },
 "nbformat": 4,
 "nbformat_minor": 4
}
