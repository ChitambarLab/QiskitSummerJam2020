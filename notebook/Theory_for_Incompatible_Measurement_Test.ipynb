{
 "cells": [
  {
   "cell_type": "markdown",
   "metadata": {},
   "source": [
    "# A Single-Qubit Bell Violation as a Device-Independent Test\n",
    "\n",
    "This notebook describe the quantum violation of a novel bell inequality bounding classical communication systems. The Bell violation does not require entanglement and is achieved by incompatible measurements and qubit superposition alone.\n",
    "\n",
    "Generally, a Bell violation describes non-classical measurement statistics which can only be achieved by a quantum system. That is, Alice and Bob cannot violate a Bell inequality using a classical system and shared randomness. The quantum-classical separation allows for a strong device independent test to be setup provided the following assumptions hold:\n",
    "\n",
    "### Test Assumptions:\n",
    "\n",
    "1. Alice and Bob receive independent input drawn from uniform random distributions.\n",
    "2. Alice sends Bob no more than 1-bit or 1-qubit.\n",
    "\n",
    "If the assumptions are met, a single-qubit bell violation is sufficient to classify the bipartite communication system as a quantum communication system capable of superposition and incompatible measurements.\n",
    "\n",
    "In an ideal implementation where the communication channel is proven to be limited, Alice and Bob do not need to be trusted. If it is not possible to verify the channel capacity, then Alice or Bob must be trusted for the test to work. \n",
    "\n",
    "### Note: Supporting Software\n",
    "The following Bell inequality and quantum violation were found using the open-source julia package, [BellScenario.jl](https://github.com/ChitambarLab/BellScenario.jl). This package is currently in an alpha version and is unfortunately experiencing a bug which prevents proper execution within a Jupyter notebook. The result is reported in the following cells."
   ]
  },
  {
   "cell_type": "markdown",
   "metadata": {},
   "source": [
    "## Test Setting\n",
    "\n",
    "We consider a single-qubit scenario where Alice and Bob each have a black-box with classical inputs and outputs. Alice is given an input, $x\\in\\{0,1,2,3\\}$ and encodes the value in a qubit, $\\rho_x$. The qubit is sent to Bob via some communication channel. Bob receives the qubit and performs a projective measurement based on the input $y\\in\\{0,1\\}$. The outcome of the measurement, $b\\in\\{0,1\\}$ is output by Bob.\n",
    "\n",
    "<img src=\"img/qubit_bell_violation.png\" alt=\"Drawing\" style=\"width: 400px;\"/>\n",
    "\n",
    "This black-box scenario is characterized in a device-independent way by considering its set of conditional probabilities $\\{p(b|xy)\\}$. The conditional probability distribution or behavior of a black-box device can be considered as a vector $\\vec{p}$ where each element corresponds to a different probability $p(b|xy)$.\n",
    "\n"
   ]
  },
  {
   "cell_type": "markdown",
   "metadata": {},
   "source": [
    "## The Classical Bound\n",
    "\n",
    "The classical set of probabilities $\\mathcal{C}$ is the convex hull of the deterministic black-box behaviors, $\\mathcal{C} = \\text{conv}(\\vec{p}_D)$. A behavior is deterministic if $p(b|xy)\\in \\{0,1\\}$ for all $b$, $x$, and $y$. The deterministic behaviors of a black-box scenario are finite and therefore describe a convex polytope.\n",
    "\n",
    "A Bell inequality is a linear inequality that bounds the classical polytope for a black-box scenario. Given the inputs, outputs, and communication between Alice and Bob, the bell inequalities can be computed. The procedure is to first enumerate the deterministic behaviors, then use a polytope transformation algorithm to find the bounding inequalities. The vertices and facets used for this result are computed using the [BellScenario.jl](https://github.com/ChitambarLab/BellScenario.jl) julia package.\n",
    "\n",
    "A significant Bell inequality for which there is a quantum violation is expressed,\n",
    "\n",
    "$$\n",
    "6 \\geq \\Big(p(0|00) + p(1|10) + p(0|20) + p(1|30)\\Big) + \\Big(p(1|01) + p(0|11) + p(0|21) + p(1|31)\\Big).\n",
    "$$\n",
    "\n",
    "This inequality may be daunting, but it can be broken down by Bob's input $y=0$ (left) and $y=1$ (right). It is important to reiterate that Alice and Bob do not know each other's input. Alice's Best strategy is to use an encoding such as $0,2 \\rightarrow |0\\rangle$ and $1,3 \\rightarrow |1\\rangle$, while Bob performs and identity decoding for $y=0$ and an inverted decoding for $y=1$. Explicitly, the identity decoder is $\\{|0\\rangle\\langle0|,|1\\rangle\\langle1|\\}$ and the inverting decoder is $\\{|0\\rangle\\langle1|,|1\\rangle\\langle0| \\}$. However, a closer look at the bell inequality reveals that when $y=1$, a violation would require Bob to be able to invert only the received but only when Alice has input $x\\in\\{0,1\\}$. Bob does not know Alice's inputs, so there is no way for Bob to condition a decoding strategy on Alice's input. As a result, classical communication limited systems cannot violate the bell inequality.\n",
    "\n",
    "In the case where Alice is able to share the input $x$ with Bob, a conditional decoding strategy could be applied and a violation would occur. This edge case is precisely why the communication channel must be limited to a single bit or qubit of information."
   ]
  },
  {
   "cell_type": "markdown",
   "metadata": {},
   "source": [
    "## Quantum Violation\n",
    "\n",
    "Quantum mechanics can violate the discussed Bell inequality using the following protocol. This protocol was computed using the [BellScenario.jl](https://github.com/ChitambarLab/BellScenario.jl) julia package to optimize the quantum violation using semi-definite programming. \n",
    "\n",
    "Alice encodes the input $x$ into a BB84 qubit state $|\\psi_x\\rangle$ where $|\\psi_0\\rangle = |0\\rangle$, $|\\psi_1\\rangle =|1\\rangle$, $|\\psi_2\\rangle = |+\\rangle$, $|\\psi_3\\rangle = |-\\rangle$. Bob measures with a projective measurement onto a basis rotated off the BB84 states by an angle $\\theta=\\pi/4$. The measurement bases for each input $y$ are expressed\n",
    "\n",
    "$$\n",
    "\\begin{align}\n",
    "    &|\\Pi_0^{y=0}\\rangle = \\cos(\\pi/8)|0\\rangle + \\sin(\\pi/8)|1\\rangle, \\quad |\\Pi_1^{y=0}\\rangle = \\sin(\\pi/8)|0\\rangle - \\cos(\\pi/8)|1\\rangle \\\\\n",
    "    &|\\Pi_0^{y=1}\\rangle = \\cos(3\\pi/8)|0\\rangle + \\sin(3\\pi/8)|1\\rangle, \\quad |\\Pi_1^{y=1}\\rangle = \\sin(3\\pi/8)|0\\rangle - \\cos(3\\pi/8)|1\\rangle \\\\\n",
    "\\end{align}\n",
    "$$\n",
    "\n",
    "Since the quantum states consist of $|0/1\\rangle$ and $|+/-\\rangle$ bases, they require superposition to construct. Likewise, the quantum measurements are incompatible because the two measurement sets align with rotated $|0/1\\rangle$ and $|+/-\\rangle$ bases and therefore do not commute. On Bloch sphere, the states and measurements lie within the $x$-$z$-plane and take the following orientation.\n",
    "\n",
    "<img src=\"img/quantum_protocol_qubit_violation.png\" alt=\"Drawing\" style=\"width: 600px;\"/>\n",
    "\n",
    "\n",
    "\n",
    "The conditional probabilities of each outcome are computed through the inner product, $p(b|xy) = |\\langle\\Pi_b^y|\\psi_x\\rangle|^2 = \\cos^2(\\phi/2)$, where $\\phi$ is the angle of separation between $|\\psi_x\\rangle$, and $|\\Pi_b^y\\rangle$ on Bloch sphere. By the symmetry of the BB84 states $\\phi$ can be one of two values $\\pi/4$ or $3\\pi/4$, therefore, $p(b|xy)\\in \\{\\cos^2(\\pi/8),\\cos^2(3\\pi/8)\\}$. Computing the conditional probabilities for the classical bound, it is found that each of the probabilities in the inequality take on the value $p(b|xy) = \\cos^2(\\pi/8)$. Summing up all of the conditional probabilities in the inequality, a violation is found, \n",
    "\n",
    "$$\n",
    "8\\cos^2(\\pi/8) = 6.818 \\nleq 6.\n",
    "$$\n",
    "\n",
    "The protocol violates the classical bound by $13.6\\%$.\n",
    "\n",
    "The quantum violation occurs with a single qubit. There is no entanglement, only superposition and measurement incompatibility."
   ]
  },
  {
   "cell_type": "markdown",
   "metadata": {},
   "source": [
    "## Analyzing the Quantum Violation\n",
    "\n",
    "This analysis shows:\n",
    "\n",
    "1. The quantum protocol violates and is optimal with respect to rotation of measurments.\n",
    "2. Violation does not occur if compatible measurments are used on the BB84 states.\n",
    "3. Violation does not occur if classical states are used with incompatible measurements.\n",
    "\n",
    "It can be concluded that superposition and measurement incompatibility are both required for a violation to occur in this protocol. The case of classical states and compatible measurements is not considered because such a scenario would be classical and would therefore be bounded by the derived Bell inequality."
   ]
  },
  {
   "cell_type": "markdown",
   "metadata": {},
   "source": [
    "### Setup\n"
   ]
  },
  {
   "cell_type": "code",
   "execution_count": 1,
   "metadata": {},
   "outputs": [],
   "source": [
    "# imports\n",
    "%matplotlib inline\n",
    "\n",
    "import matplotlib.pyplot as plt\n",
    "import numpy as np\n",
    "\n",
    "import context\n",
    "from device_independent_test import incompatible_measurement"
   ]
  },
  {
   "cell_type": "markdown",
   "metadata": {},
   "source": [
    "#### Quantum States\n",
    "\n",
    "We first define Alice's qubits. The BB84 states are are encoded as $\\{|0\\rangle, |1\\rangle, |+\\rangle, |-\\rangle\\}$, and the classical states are encoded as $\\{|0\\rangle, |1\\rangle, |0\\rangle, |1\\rangle\\}$. We note that the the classical states will achieve the classical bound if measured in the computational basis."
   ]
  },
  {
   "cell_type": "code",
   "execution_count": 2,
   "metadata": {},
   "outputs": [],
   "source": [
    "# qubit states\n",
    "ψ0 = [1,0]\n",
    "ψ1 = [0,1]\n",
    "ψ2 = [1,1]/np.sqrt(2)\n",
    "ψ3 = [1,-1]/np.sqrt(2)\n",
    "\n",
    "# quantum state encodings\n",
    "ψ_bb84 = [ψ0, ψ1, ψ2, ψ3]\n",
    "ψ_classical = [ψ0, ψ1, ψ0, ψ1]"
   ]
  },
  {
   "cell_type": "markdown",
   "metadata": {},
   "source": [
    "#### Quantum Measurements\n",
    "\n",
    "We define Bob's measurements as two pairs of projective measurements. Each measurement has two outputs specified by $b$ and each measurement is used conditionally based on Bob's input $y$. We wish to see how these quantum stategies perform against misalignment of devices so we will scan the measurements over an angle $\\theta$."
   ]
  },
  {
   "cell_type": "code",
   "execution_count": 3,
   "metadata": {},
   "outputs": [],
   "source": [
    "# projective measurements Πby\n",
    "Π00 = lambda θ: [np.cos(θ),np.sin(θ)]\n",
    "Π10 = lambda θ: [np.sin(θ),-np.cos(θ)]\n",
    "Π01 = lambda θ: [np.cos(θ + np.pi/4),np.sin(θ + np.pi/4)]\n",
    "Π11 = lambda θ: [np.sin(θ + np.pi/4),-np.cos(θ + np.pi/4)]\n",
    "\n",
    "# incompatible projective measurments \n",
    "y0_Π = [Π00,Π10]\n",
    "y1_Π = [Π01,Π11]\n",
    "\n",
    "# measurement compatible with y0_Π\n",
    "y1_cl_Π = [Π10,Π00]"
   ]
  },
  {
   "cell_type": "markdown",
   "metadata": {},
   "source": [
    "#### Calculating Performance Against the Classical Bound\n",
    "\n",
    "We begin by defining some lists to collect data into:"
   ]
  },
  {
   "cell_type": "code",
   "execution_count": 4,
   "metadata": {},
   "outputs": [],
   "source": [
    "classical_bound = []\n",
    "\n",
    "# bb84 states with in/compatible measurements\n",
    "bb84_incompatible_scores = [] \n",
    "bb84_compatible_scores = []\n",
    "\n",
    "# classical states with incompatible measurements\n",
    "cl_incompatible_scores = []"
   ]
  },
  {
   "cell_type": "markdown",
   "metadata": {},
   "source": [
    "We now compute the score against the Bell inequality for a range of rotation angles, $\\theta \\in [0, \\pi/2]$."
   ]
  },
  {
   "cell_type": "code",
   "execution_count": 5,
   "metadata": {},
   "outputs": [],
   "source": [
    "# Measurement angle on a hilbert space\n",
    "θ_series = np.arange(0, np.pi/2, np.pi/2048)\n",
    "\n",
    "# computing the bell scores as the measurements are rotated about the y-axis.\n",
    "for θ in θ_series:\n",
    "    \n",
    "    # conditional probability matrices\n",
    "    y0_probs = np.zeros((2,4))\n",
    "    y0_cl_probs = np.zeros((2,4))\n",
    "\n",
    "    y1_probs = np.zeros((2,4))\n",
    "    y1_cl_incomp_probs = np.zeros((2,4))\n",
    "    y1_comp_probs = np.zeros((2,4))\n",
    "    \n",
    "    for x in range(0,4):\n",
    "        ψx_bb84 = ψ_bb84[x]\n",
    "        ψx_cl = ψ_classical[x]\n",
    "        \n",
    "        for b in range(0,2):\n",
    "            # y=0 measurement\n",
    "            Πb0 = y0_Π[b]\n",
    "            y0_probs[b,x] = np.inner(Πb0(θ),ψx_bb84)**2\n",
    "            y0_cl_probs[b,x] = np.inner(Πb0(θ),ψx_cl)**2\n",
    "            \n",
    "            # y=1 incompatible measurement\n",
    "            Πb1 = y1_Π[b]\n",
    "            y1_probs[b,x] = np.inner(Πb1(θ),ψx_bb84)**2\n",
    "            y1_cl_incomp_probs[b,x] = np.inner(Πb1(θ),ψx_cl)**2\n",
    "            \n",
    "            # y=1 compatible measurement\n",
    "            Πb1_comp = y1_cl_Π[b]\n",
    "            y1_comp_probs[b,x] = np.inner(Πb1_comp(θ),ψx_bb84)**2                \n",
    "\n",
    "    # aggregating scores into arrays of data\n",
    "    bb84_incompatible_scores.append(incompatible_measurement.bell_score(y0_probs, y1_probs))\n",
    "    bb84_compatible_scores.append(incompatible_measurement.bell_score(y0_probs, y0_probs))\n",
    "\n",
    "    cl_incompatible_scores.append(incompatible_measurement.bell_score(y0_cl_probs, y1_cl_incomp_probs))\n",
    "    \n",
    "    classical_bound.append(6)"
   ]
  },
  {
   "cell_type": "markdown",
   "metadata": {},
   "source": [
    "## Plot of Violating and Nonviolating Quantum Scenarios\n",
    "\n",
    "* The discussed quantum protocol violates with the `Max Quantum Violation` of $6.818$.\n",
    "* The `Incompatible Measurements` plot shows that if measurments are rotated in either direction, the violation decreases. This implies that the discussed protocol has been aligned in the optimal fashion.\n",
    "* The `Compatible Measurments` plot shows that there is no rotation angle for which compatible measurements can violate the quantum bound.\n",
    "\n",
    "The conclusion is that superposition is necessary for this violation, but is not sufficient on its own. Measurment incompatiblity must also be applied."
   ]
  },
  {
   "cell_type": "code",
   "execution_count": 6,
   "metadata": {},
   "outputs": [
    {
     "data": {
      "image/png": "[encoded data removed]",
      "text/plain": [
       "<Figure size 432x288 with 1 Axes>"
      ]
     },
     "metadata": {
      "needs_background": "light"
     },
     "output_type": "display_data"
    }
   ],
   "source": [
    "cl_bound_plt, = plt.plot(θ_series, classical_bound, label='Classical Bound')\n",
    "\n",
    "# bb84 states incompatible measurments\n",
    "bb84_incomp_plt, = plt.plot(θ_series, bb84_incompatible_scores, label='Incomp Measurment', linestyle='-.')\n",
    "\n",
    "# bb84 states compatible measurments\n",
    "bb84_comp_plt, = plt.plot(θ_series, bb84_compatible_scores, label=\"Comp Measurement\", linestyle='--')\n",
    "\n",
    "# classical states incompatible measurements\n",
    "cl_incomp_plt, = plt.plot(θ_series, cl_incompatible_scores, label=\"cl incomp\", linestyle=\":\" )\n",
    "\n",
    "max_violation, = plt.plot(np.pi/8,6.828,'ro', label=\"Max Quantum Violation\")\n",
    "\n",
    "plt.legend(\n",
    "    [max_violation, bb84_incomp_plt, cl_bound_plt, bb84_comp_plt, cl_incomp_plt],\n",
    "    ['Max Quantum Violation','BB84 & Incompatible Measurements', 'Classical Bound', 'BB84 & Compatible Measurements', 'Classical & Incompatible Measurements'])\n",
    "\n",
    "plt.xlabel(\"Measurement Rotation Angle (radians)\")\n",
    "plt.ylabel(\"Bell Score\")\n",
    "plt.title(\"Quantum State Measurements vs. Angle\");"
   ]
  }
 ],
 "metadata": {
  "@webio": {
   "lastCommId": null,
   "lastKernelId": null
  },
  "kernelspec": {
   "display_name": "Python 3",
   "language": "python",
   "name": "python3"
  },
  "language_info": {
   "codemirror_mode": {
    "name": "ipython",
    "version": 3
   },
   "file_extension": ".py",
   "mimetype": "text/x-python",
   "name": "python",
   "nbconvert_exporter": "python",
   "pygments_lexer": "ipython3",
   "version": "3.7.4"
  },
  "toc": {
   "base_numbering": 1,
   "nav_menu": {},
   "number_sections": false,
   "sideBar": false,
   "skip_h1_title": false,
   "title_cell": "Table of Contents",
   "title_sidebar": "Contents",
   "toc_cell": false,
   "toc_position": {},
   "toc_section_display": false,
   "toc_window_display": false
  }
 },
 "nbformat": 4,
 "nbformat_minor": 2
}
