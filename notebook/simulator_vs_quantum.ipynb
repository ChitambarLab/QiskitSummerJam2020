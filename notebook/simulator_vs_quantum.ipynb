{
 "cells": [
  {
   "cell_type": "markdown",
   "metadata": {},
   "source": [
    "# Simulator vs. Quantum Machines\n",
    "\n",
    "\n",
    "We can run the device indepdent tests on a real quantum machine and a simulator to compare the result. We have used\n",
    "'ibmq_qasm_simulator' and 'ibmq_16_melbourne' to run these tests.\n",
    "\n",
    "<img src=\"img/quantum_v_simulator.png\" alt=\"Drawing\" style=\"width: 800px;\"/>\n",
    "\n",
    "As expected, the quantum computer does not perform as well as the simulator. However, the classical bounds are still broken by the quantum computer. Note that the dimensionality bound is the same for quantum and classical.\n",
    "\n",
    "\n",
    "## Test Setup"
   ]
  },
  {
   "cell_type": "code",
   "execution_count": 5,
   "metadata": {},
   "outputs": [
    {
     "name": "stderr",
     "output_type": "stream",
     "text": [
      "ibmqfactory.load_account:WARNING:2020-07-01 06:47:28,849: Credentials are already in use. The existing account in the session will be replaced.\n"
     ]
    }
   ],
   "source": [
    "# Importing standard Qiskit libraries and configuring account\n",
    "from qiskit import QuantumCircuit, execute, IBMQ\n",
    "from qiskit.tools.monitor import *\n",
    "from qiskit.providers.ibmq.managed import IBMQJobManager\n",
    "\n",
    "provider = IBMQ.load_account()\n",
    "\n",
    "import matplotlib.pyplot as plt\n",
    "import numpy as np\n",
    "\n",
    "import context\n",
    "from device_independent_test.handshake import HandShake\n",
    "from device_independent_test.quantum_communicator import LocalDispatcher\n",
    "\n",
    "# number of shots used in testing\n",
    "max_shots = 8192\n",
    "\n",
    "# paramters used for testing\n",
    "def get_params(shots):\n",
    "     return {\n",
    "        \"dimensionality\": {\n",
    "            \"tolerance\": 0.3,\n",
    "            \"shots\": shots\n",
    "        },\n",
    "        \"entanglement\": {\n",
    "            \"tolerance\": 0.7,\n",
    "            \"shots\": shots\n",
    "        },\n",
    "        \"measurement_incompatibility\": {\n",
    "            \"tolerance\": 0.5,\n",
    "            \"shots\": shots\n",
    "        }\n",
    "    }"
   ]
  },
  {
   "cell_type": "markdown",
   "metadata": {},
   "source": [
    "## Running on Simulator\n",
    "\n",
    "Tests pass with tight tolerance."
   ]
  },
  {
   "cell_type": "code",
   "execution_count": 6,
   "metadata": {},
   "outputs": [
    {
     "name": "stdout",
     "output_type": "stream",
     "text": [
      "Passed Dimensionality with value:  1.0\n",
      "Passed Measurment Incompatibility with value:  6.8309326171875\n",
      "Passed Entanglement with value:  2.818115234375\n"
     ]
    },
    {
     "data": {
      "text/plain": [
       "True"
      ]
     },
     "execution_count": 6,
     "metadata": {},
     "output_type": "execute_result"
    }
   ],
   "source": [
    "dispatcher = LocalDispatcher([provider.get_backend('ibmq_qasm_simulator')])\n",
    "handshake = HandShake(dispatcher)\n",
    "\n",
    "handshake.test_all(get_params(max_shots))"
   ]
  },
  {
   "cell_type": "markdown",
   "metadata": {},
   "source": [
    "## Running on 'ibmq_16_melbourne'\n",
    "\n",
    "Tests pass with wide tolerance."
   ]
  },
  {
   "cell_type": "code",
   "execution_count": 7,
   "metadata": {},
   "outputs": [
    {
     "name": "stdout",
     "output_type": "stream",
     "text": [
      "Passed Dimensionality with value:  0.910552978515625\n",
      "Passed Measurment Incompatibility with value:  6.551025390625\n",
      "Passed Entanglement with value:  2.212646484375\n"
     ]
    },
    {
     "data": {
      "text/plain": [
       "True"
      ]
     },
     "execution_count": 7,
     "metadata": {},
     "output_type": "execute_result"
    }
   ],
   "source": [
    "dispatcher = LocalDispatcher([provider.get_backend('ibmq_16_melbourne')])\n",
    "handshake = HandShake(dispatcher)\n",
    "handshake.test_all(get_params(shots=max_shots))"
   ]
  },
  {
   "cell_type": "markdown",
   "metadata": {},
   "source": [
    "## Generating Plots"
   ]
  },
  {
   "cell_type": "code",
   "execution_count": 24,
   "metadata": {},
   "outputs": [
    {
     "data": {
      "image/png": "[encoded data removed]",
      "text/plain": [
       "<Figure size 648x216 with 3 Axes>"
      ]
     },
     "metadata": {
      "needs_background": "light"
     },
     "output_type": "display_data"
    }
   ],
   "source": [
    "names = [\"Simulator\", \"IBM Quantum\"]\n",
    "dimensionality = [1.0, 0.910552978515625]\n",
    "measurement_incompatibility = [6.84375, 6.551025390625]\n",
    "entanglement = [2.8232421875, 2.212646484375]\n",
    "expected = {\n",
    "    \"dimensionality\": 1.0,\n",
    "    \"measurement_incompatibility\": 6.82842712475,\n",
    "    \"entanglement\": 2.8284271247461903\n",
    "}\n",
    "\n",
    "classical = {\n",
    "    \"dimensionality\": 1.0,\n",
    "    \"measurement_incompatibility\": 6,\n",
    "    \"entanglement\": 2\n",
    "}\n",
    "\n",
    "plt.figure(figsize=(9,3))\n",
    "\n",
    "plt.subplot(131)\n",
    "index = np.arange(2)\n",
    "width = 0.2\n",
    "plt.bar(index, dimensionality, align='center', width=width)\n",
    "plt.axhline(expected[\"dimensionality\"], color='green')\n",
    "plt.axhline(classical[\"dimensionality\"], color='red')\n",
    "plt.xticks(index, names)\n",
    "plt.title('Dimensionality')\n",
    "\n",
    "plt.subplot(132)\n",
    "plt.bar(index, measurement_incompatibility, align='center', width=width)\n",
    "plt.axhline(expected[\"measurement_incompatibility\"], color='green')\n",
    "plt.axhline(classical[\"measurement_incompatibility\"], color='red')\n",
    "\n",
    "plt.xticks(index, names)\n",
    "plt.title('Measurement Incompatibility')\n",
    "\n",
    "plt.subplot(133)\n",
    "plt.bar(index, entanglement, align='center', width=width)\n",
    "qbound = plt.axhline(expected[\"entanglement\"], color=\"green\")\n",
    "cbound = plt.axhline(classical[\"entanglement\"], color=\"red\")\n",
    "plt.xticks(index, names)\n",
    "plt.title('Entanglement')\n",
    "plt.legend([qbound, cbound], [\"Quantum Bound\", \"Classical Bound\"], loc='center left', bbox_to_anchor=(1, 0.5))\n",
    "\n",
    "plt.show()\n",
    "\n"
   ]
  }
 ],
 "metadata": {
  "kernelspec": {
   "display_name": "Python 3",
   "language": "python",
   "name": "python3"
  },
  "language_info": {
   "codemirror_mode": {
    "name": "ipython",
    "version": 3
   },
   "file_extension": ".py",
   "mimetype": "text/x-python",
   "name": "python",
   "nbconvert_exporter": "python",
   "pygments_lexer": "ipython3",
   "version": "3.7.4"
  }
 },
 "nbformat": 4,
 "nbformat_minor": 2
}
