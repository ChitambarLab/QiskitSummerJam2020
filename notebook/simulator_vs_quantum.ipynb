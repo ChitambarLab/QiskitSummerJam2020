{
 "cells": [
  {
   "cell_type": "markdown",
   "metadata": {},
   "source": [
    "# Simulator vs. Quantum Machines\n",
    "\n",
    "\n",
    "We can run the device indepdent tests on a real quantum machine and a simulator to compare the result. We have used\n",
    "'ibmq_qasm_simulator', and 'ibmq_16_melbourne' to run these tests, an"
   ]
  },
  {
   "cell_type": "code",
   "execution_count": 8,
   "metadata": {},
   "outputs": [
    {
     "name": "stderr",
     "output_type": "stream",
     "text": [
      "ibmqfactory.load_account:WARNING:2020-06-30 21:25:57,863: Credentials are already in use. The existing account in the session will be replaced.\n"
     ]
    }
   ],
   "source": [
    "# Importing standard Qiskit libraries and configuring account\n",
    "from qiskit import QuantumCircuit, execute, IBMQ\n",
    "from qiskit.tools.monitor import *\n",
    "from qiskit.providers.ibmq.managed import IBMQJobManager\n",
    "\n",
    "provider = IBMQ.load_account()\n",
    "\n",
    "import matplotlib.pyplot as plt\n",
    "import numpy as np\n",
    "\n",
    "import context\n",
    "from device_independent_test.handshake import HandShake\n",
    "from device_independent_test.quantum_communicator import LocalDispatcher"
   ]
  },
  {
   "cell_type": "code",
   "execution_count": 5,
   "metadata": {},
   "outputs": [
    {
     "name": "stdout",
     "output_type": "stream",
     "text": [
      "Passed Dimensionality with value:  1.0\n",
      "Passed Measurment Incompatibility with value:  6.84375\n",
      "Passed Entanglement with value:  2.8232421875\n"
     ]
    },
    {
     "data": {
      "text/plain": [
       "True"
      ]
     },
     "execution_count": 5,
     "metadata": {},
     "output_type": "execute_result"
    }
   ],
   "source": [
    "dispatcher = LocalDispatcher([provider.get_backend('ibmq_qasm_simulator')])\n",
    "handshake = HandShake(dispatcher)\n",
    "\n",
    "max_shots = 8192\n",
    "\n",
    "def get_params(shots):\n",
    "     return {\n",
    "        \"dimensionality\": {\n",
    "            \"tolerance\": 0.3,\n",
    "            \"shots\": shots\n",
    "        },\n",
    "        \"entanglement\": {\n",
    "            \"tolerance\": 0.7,\n",
    "            \"shots\": shots\n",
    "        },\n",
    "        \"measurement_incompatibility\": {\n",
    "            \"tolerance\": 0.5,\n",
    "            \"shots\": shots\n",
    "        }\n",
    "    }\n",
    "\n",
    "handshake.test_all(get_params(max_shots))"
   ]
  },
  {
   "cell_type": "code",
   "execution_count": 6,
   "metadata": {},
   "outputs": [
    {
     "name": "stdout",
     "output_type": "stream",
     "text": [
      "Passed Dimensionality with value:  1.0\n",
      "Passed Measurment Incompatibility with value:  6.8165283203125\n",
      "Passed Entanglement with value:  2.840087890625\n"
     ]
    },
    {
     "data": {
      "text/plain": [
       "True"
      ]
     },
     "execution_count": 6,
     "metadata": {},
     "output_type": "execute_result"
    }
   ],
   "source": [
    "dispatcher = LocalDispatcher([provider.get_backend('ibmq_16_melbourne')])\n",
    "handshake.test_all(get_params(shots=max_shots))"
   ]
  },
  {
   "cell_type": "code",
   "execution_count": 60,
   "metadata": {},
   "outputs": [
    {
     "data": {
      "image/png": "[encoded data removed]",
      "text/plain": [
       "<Figure size 648x216 with 3 Axes>"
      ]
     },
     "metadata": {
      "needs_background": "light"
     },
     "output_type": "display_data"
    }
   ],
   "source": [
    "names = [\"simulator\", \"quantum\"]\n",
    "dimensionality = [1.0, 1.0]\n",
    "measurement_incompatibility = [6.84375, 6.8165283203125]\n",
    "entanglement = [2.8232421875, 2.840087890625]\n",
    "expected = {\n",
    "    \"dimensionality\": 1.0,\n",
    "    \"measurement_incompatibility\": 6.82842712475,\n",
    "    \"entanglement\": 2.8284271247461903\n",
    "}\n",
    "\n",
    "plt.figure(figsize=(9,3))\n",
    "\n",
    "plt.subplot(131)\n",
    "index = np.arange(2)\n",
    "width = 0.2\n",
    "plt.bar(index, dimensionality, align='center', width=width)\n",
    "plt.axhline(expected[\"dimensionality\"], color='red')\n",
    "plt.xticks(index, names)\n",
    "plt.title('Dimensionality')\n",
    "\n",
    "plt.subplot(132)\n",
    "plt.bar(index, measurement_incompatibility, align='center', width=width)\n",
    "plt.axhline(expected[\"measurement_incompatibility\"], color='red')\n",
    "plt.xticks(index, names)\n",
    "plt.title('Measurement Incompatibility')\n",
    "\n",
    "plt.subplot(133)\n",
    "plt.bar(index, entanglement, align='center', width=width)\n",
    "plt.axhline(expected[\"entanglement\"], color=\"red\")\n",
    "plt.xticks(index, names)\n",
    "plt.title('Entanglement')\n",
    "plt.show()\n",
    "\n"
   ]
  }
 ],
 "metadata": {
  "kernelspec": {
   "display_name": "Python 3",
   "language": "python",
   "name": "python3"
  },
  "language_info": {
   "codemirror_mode": {
    "name": "ipython",
    "version": 3
   },
   "file_extension": ".py",
   "mimetype": "text/x-python",
   "name": "python",
   "nbconvert_exporter": "python",
   "pygments_lexer": "ipython3",
   "version": "3.7.5"
  }
 },
 "nbformat": 4,
 "nbformat_minor": 2
}
