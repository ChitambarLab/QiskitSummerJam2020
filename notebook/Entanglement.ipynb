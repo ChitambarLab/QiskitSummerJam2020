{
 "cells": [
  {
   "cell_type": "markdown",
   "metadata": {},
   "source": [
    "# Entanglement Testing"
   ]
  },
  {
   "cell_type": "code",
   "execution_count": 1,
   "metadata": {},
   "outputs": [],
   "source": [
    "# Importing standard Qiskit libraries and configuring account\n",
    "from qiskit import QuantumCircuit, execute, Aer, IBMQ\n",
    "from qiskit.compiler import transpile, assemble\n",
    "from qiskit.tools.jupyter import *\n",
    "from qiskit.visualization import *\n",
    "from qiskit.providers.ibmq.managed import IBMQJobManager\n",
    "\n",
    "# Loading your IBM Q account(s)\n",
    "import qiskit\n",
    "from qiskit import IBMQ\n",
    "#IBMQ.save_account(\"9e797fbe9a7b252773d8ecb4b561f09712835b125573c97213c2b3c8c19bdd2aae7309d90d9559961043ee89a263cc1f9a61c97b75c7441ee6716e1eda9af854\")\n",
    "provider = IBMQ.load_account()\n",
    "\n",
    "import matplotlib.pyplot as plt\n",
    "import numpy as np\n",
    "\n",
    "# custom code\n",
    "import context\n",
    "from device_independent_test import entanglement"
   ]
  },
  {
   "cell_type": "code",
   "execution_count": 2,
   "metadata": {},
   "outputs": [
    {
     "data": {
      "text/html": [
       "<pre style=\"word-wrap: normal;white-space: pre;background: #fff0;line-height: 1.1;font-family: &quot;Courier New&quot;,Courier,monospace\">     ┌───┐     \n",
       "q_0: ┤ H ├──■──\n",
       "     └───┘┌─┴─┐\n",
       "q_1: ─────┤ X ├\n",
       "          └───┘</pre>"
      ],
      "text/plain": [
       "     ┌───┐     \n",
       "q_0: ┤ H ├──■──\n",
       "     └───┘┌─┴─┐\n",
       "q_1: ─────┤ X ├\n",
       "          └───┘"
      ]
     },
     "execution_count": 2,
     "metadata": {},
     "output_type": "execute_result"
    }
   ],
   "source": [
    "# preparing a maximally entangled state\n",
    "circuit = entanglement.create_entangled_circuit()\n",
    "circuit.draw()"
   ]
  },
  {
   "cell_type": "code",
   "execution_count": 3,
   "metadata": {
    "scrolled": true
   },
   "outputs": [
    {
     "data": {
      "text/html": [
       "<pre style=\"word-wrap: normal;white-space: pre;background: #fff0;line-height: 1.1;font-family: &quot;Courier New&quot;,Courier,monospace\">        ┌───┐                          ░ ┌─┐   \n",
       "   q_0: ┤ H ├──■───────────────────────░─┤M├───\n",
       "        └───┘┌─┴─┐┌───┐┌───┐┌───┐┌───┐ ░ └╥┘┌─┐\n",
       "   q_1: ─────┤ X ├┤ S ├┤ H ├┤ T ├┤ H ├─░──╫─┤M├\n",
       "             └───┘└───┘└───┘└───┘└───┘ ░  ║ └╥┘\n",
       "meas_0: ══════════════════════════════════╩══╬═\n",
       "                                             ║ \n",
       "meas_1: ═════════════════════════════════════╩═\n",
       "                                               </pre>"
      ],
      "text/plain": [
       "        ┌───┐                          ░ ┌─┐   \n",
       "   q_0: ┤ H ├──■───────────────────────░─┤M├───\n",
       "        └───┘┌─┴─┐┌───┐┌───┐┌───┐┌───┐ ░ └╥┘┌─┐\n",
       "   q_1: ─────┤ X ├┤ S ├┤ H ├┤ T ├┤ H ├─░──╫─┤M├\n",
       "             └───┘└───┘└───┘└───┘└───┘ ░  ║ └╥┘\n",
       "meas_0: ══════════════════════════════════╩══╬═\n",
       "                                             ║ \n",
       "meas_1: ═════════════════════════════════════╩═\n",
       "                                               "
      ]
     },
     "execution_count": 3,
     "metadata": {},
     "output_type": "execute_result"
    }
   ],
   "source": [
    "# measure in Z basis for qubit 0, in W basis for qubit 1\n",
    "entanglement.measure_in_ZW(circuit)\n",
    "circuit.draw()"
   ]
  },
  {
   "cell_type": "code",
   "execution_count": 4,
   "metadata": {},
   "outputs": [],
   "source": [
    "simulator = Aer.get_backend(\"qasm_simulator\")\n",
    "shotnum = 10000"
   ]
  },
  {
   "cell_type": "code",
   "execution_count": 5,
   "metadata": {},
   "outputs": [],
   "source": [
    "result = execute(circuit, backend=simulator, shots=shotnum).result()\n",
    "#measurement = entanglement.measure_in_ZW(circuit)\n",
    "#measurement = entanglement.measure_in_ZW(circuit)\n",
    "#measurement = entanglement.measure_in_ZW(circuit)\n",
    "#circuit.draw()"
   ]
  },
  {
   "cell_type": "code",
   "execution_count": 6,
   "metadata": {},
   "outputs": [
    {
     "data": {
      "text/plain": [
       "{'10': 743, '11': 4350, '01': 748, '00': 4159}"
      ]
     },
     "execution_count": 6,
     "metadata": {},
     "output_type": "execute_result"
    }
   ],
   "source": [
    "#from qiskit.tools.visualization import plot_histogram\n",
    "stats = result.get_counts(circuit)\n",
    "stats"
   ]
  },
  {
   "cell_type": "code",
   "execution_count": 7,
   "metadata": {},
   "outputs": [
    {
     "data": {
      "text/plain": [
       "0.7018"
      ]
     },
     "execution_count": 7,
     "metadata": {},
     "output_type": "execute_result"
    }
   ],
   "source": [
    "expectation_XW = (stats['11']+stats['00']-stats['10']-stats['01'])/shotnum\n",
    "expectation_XW"
   ]
  }
 ],
 "metadata": {
  "kernelspec": {
   "display_name": "Python 3",
   "language": "python",
   "name": "python3"
  },
  "language_info": {
   "codemirror_mode": {
    "name": "ipython",
    "version": 3
   },
   "file_extension": ".py",
   "mimetype": "text/x-python",
   "name": "python",
   "nbconvert_exporter": "python",
   "pygments_lexer": "ipython3",
   "version": "3.7.3"
  }
 },
 "nbformat": 4,
 "nbformat_minor": 2
}
