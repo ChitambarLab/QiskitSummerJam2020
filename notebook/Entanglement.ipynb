{
 "cells": [
  {
   "cell_type": "markdown",
   "metadata": {},
   "source": [
    "# Entanglement Testing (CHSH)\n",
    "\n",
    "We test the entanglement of two qubits by whether the the bell state violates CHSH inequality and by how much.\n",
    "\n",
    "Initially, we prepare a shared bell state for Alice and Bob $\\frac{1}{\\sqrt{2}}(|00\\rangle + |11\\rangle)$."
   ]
  },
  {
   "cell_type": "code",
   "execution_count": 5,
   "metadata": {},
   "outputs": [
    {
     "name": "stderr",
     "output_type": "stream",
     "text": [
      "ibmqfactory.load_account:WARNING:2020-06-30 18:53:48,571: Credentials are already in use. The existing account in the session will be replaced.\n"
     ]
    },
    {
     "data": {
      "text/html": [
       "<pre style=\"word-wrap: normal;white-space: pre;background: #fff0;line-height: 1.1;font-family: &quot;Courier New&quot;,Courier,monospace\">     ┌───┐     \n",
       "q_0: ┤ H ├──■──\n",
       "     └───┘┌─┴─┐\n",
       "q_1: ─────┤ X ├\n",
       "          └───┘</pre>"
      ],
      "text/plain": [
       "     ┌───┐     \n",
       "q_0: ┤ H ├──■──\n",
       "     └───┘┌─┴─┐\n",
       "q_1: ─────┤ X ├\n",
       "          └───┘"
      ]
     },
     "execution_count": 5,
     "metadata": {},
     "output_type": "execute_result"
    }
   ],
   "source": [
    "# Importing standard Qiskit libraries and configuring account\n",
    "from qiskit import QuantumCircuit, execute, IBMQ\n",
    "from qiskit.tools.monitor import *\n",
    "from qiskit.providers.ibmq.managed import IBMQJobManager\n",
    "\n",
    "# Loading your IBM Q account(s)\n",
    "import qiskit\n",
    "from qiskit import IBMQ\n",
    "\n",
    "provider = IBMQ.load_account()\n",
    "\n",
    "import matplotlib.pyplot as plt\n",
    "import numpy as np\n",
    "\n",
    "import context\n",
    "from device_independent_test import entanglement\n",
    "\n",
    "def initial_state():\n",
    "    return entanglement.create_bell_state()\n",
    "\n",
    "initial_state().draw()"
   ]
  },
  {
   "cell_type": "markdown",
   "metadata": {},
   "source": [
    " Then, Alice measures with observables $\\{X, Z\\}$, and Bob measures with observables $\\{H, H'\\}$, where $X, Z$ are Pauli operator and $H$ is a Hardamard operator, and $H' = \\begin{pmatrix} 1 & -1 \\\\ -1 & -1 \\end{pmatrix}$.\n",
    " \n",
    " Measuring in $Z$ basis is a default measurement, and we get the following equivalent circuit. Note that $H = (X+Z)/2$ and $H' = (X-Z)/2$.\n",
    " \n",
    "* measure in $X$ = $H$ + measure in $Z$\n",
    "* measure in $H$ = $SHTH$ + measure in $Z$\n",
    "* measure in $H'$ = $SHT^\\dagger H$ + measure in $Z$"
   ]
  },
  {
   "cell_type": "code",
   "execution_count": 2,
   "metadata": {
    "tags": []
   },
   "outputs": [
    {
     "data": {
      "text/html": [
       "<pre style=\"word-wrap: normal;white-space: pre;background: #fff0;line-height: 1.1;font-family: &quot;Courier New&quot;,Courier,monospace\">        ┌───┐                          ░ ┌─┐   \n",
       "   q_0: ┤ H ├──■───────────────────────░─┤M├───\n",
       "        └───┘┌─┴─┐┌───┐┌───┐┌───┐┌───┐ ░ └╥┘┌─┐\n",
       "   q_1: ─────┤ X ├┤ S ├┤ H ├┤ T ├┤ H ├─░──╫─┤M├\n",
       "             └───┘└───┘└───┘└───┘└───┘ ░  ║ └╥┘\n",
       "meas_0: ══════════════════════════════════╩══╬═\n",
       "                                             ║ \n",
       "meas_1: ═════════════════════════════════════╩═\n",
       "                                               </pre>"
      ],
      "text/plain": [
       "        ┌───┐                          ░ ┌─┐   \n",
       "   q_0: ┤ H ├──■───────────────────────░─┤M├───\n",
       "        └───┘┌─┴─┐┌───┐┌───┐┌───┐┌───┐ ░ └╥┘┌─┐\n",
       "   q_1: ─────┤ X ├┤ S ├┤ H ├┤ T ├┤ H ├─░──╫─┤M├\n",
       "             └───┘└───┘└───┘└───┘└───┘ ░  ║ └╥┘\n",
       "meas_0: ══════════════════════════════════╩══╬═\n",
       "                                             ║ \n",
       "meas_1: ═════════════════════════════════════╩═\n",
       "                                               "
      ]
     },
     "execution_count": 2,
     "metadata": {},
     "output_type": "execute_result"
    }
   ],
   "source": [
    "# Alice measures with observable Z and Bob measures with observable H\n",
    "measure_ZH = initial_state()\n",
    "measure_ZH.s(1)\n",
    "measure_ZH.h(1)\n",
    "measure_ZH.t(1)\n",
    "measure_ZH.h(1)\n",
    "measure_ZH.measure_all()\n",
    "measure_ZH.draw()"
   ]
  },
  {
   "cell_type": "code",
   "execution_count": 3,
   "metadata": {},
   "outputs": [
    {
     "data": {
      "text/html": [
       "<pre style=\"word-wrap: normal;white-space: pre;background: #fff0;line-height: 1.1;font-family: &quot;Courier New&quot;,Courier,monospace\">        ┌───┐     ┌───┐                ░ ┌─┐   \n",
       "   q_0: ┤ H ├──■──┤ H ├────────────────░─┤M├───\n",
       "        └───┘┌─┴─┐├───┤┌───┐┌───┐┌───┐ ░ └╥┘┌─┐\n",
       "   q_1: ─────┤ X ├┤ S ├┤ H ├┤ T ├┤ H ├─░──╫─┤M├\n",
       "             └───┘└───┘└───┘└───┘└───┘ ░  ║ └╥┘\n",
       "meas_0: ══════════════════════════════════╩══╬═\n",
       "                                             ║ \n",
       "meas_1: ═════════════════════════════════════╩═\n",
       "                                               </pre>"
      ],
      "text/plain": [
       "        ┌───┐     ┌───┐                ░ ┌─┐   \n",
       "   q_0: ┤ H ├──■──┤ H ├────────────────░─┤M├───\n",
       "        └───┘┌─┴─┐├───┤┌───┐┌───┐┌───┐ ░ └╥┘┌─┐\n",
       "   q_1: ─────┤ X ├┤ S ├┤ H ├┤ T ├┤ H ├─░──╫─┤M├\n",
       "             └───┘└───┘└───┘└───┘└───┘ ░  ║ └╥┘\n",
       "meas_0: ══════════════════════════════════╩══╬═\n",
       "                                             ║ \n",
       "meas_1: ═════════════════════════════════════╩═\n",
       "                                               "
      ]
     },
     "execution_count": 3,
     "metadata": {},
     "output_type": "execute_result"
    }
   ],
   "source": [
    "# Alice measures with observable X and Bob measures with observable H\n",
    "measure_XH = initial_state()\n",
    "measure_XH.h(0)\n",
    "measure_XH.s(1)\n",
    "measure_XH.h(1)\n",
    "measure_XH.t(1)\n",
    "measure_XH.h(1)\n",
    "measure_XH.measure_all()\n",
    "measure_XH.draw()"
   ]
  },
  {
   "cell_type": "code",
   "execution_count": 4,
   "metadata": {},
   "outputs": [
    {
     "data": {
      "text/html": [
       "<pre style=\"word-wrap: normal;white-space: pre;background: #fff0;line-height: 1.1;font-family: &quot;Courier New&quot;,Courier,monospace\">        ┌───┐                            ░ ┌─┐   \n",
       "   q_0: ┤ H ├──■─────────────────────────░─┤M├───\n",
       "        └───┘┌─┴─┐┌───┐┌───┐┌─────┐┌───┐ ░ └╥┘┌─┐\n",
       "   q_1: ─────┤ X ├┤ S ├┤ H ├┤ TDG ├┤ H ├─░──╫─┤M├\n",
       "             └───┘└───┘└───┘└─────┘└───┘ ░  ║ └╥┘\n",
       "meas_0: ════════════════════════════════════╩══╬═\n",
       "                                               ║ \n",
       "meas_1: ═══════════════════════════════════════╩═\n",
       "                                                 </pre>"
      ],
      "text/plain": [
       "        ┌───┐                            ░ ┌─┐   \n",
       "   q_0: ┤ H ├──■─────────────────────────░─┤M├───\n",
       "        └───┘┌─┴─┐┌───┐┌───┐┌─────┐┌───┐ ░ └╥┘┌─┐\n",
       "   q_1: ─────┤ X ├┤ S ├┤ H ├┤ TDG ├┤ H ├─░──╫─┤M├\n",
       "             └───┘└───┘└───┘└─────┘└───┘ ░  ║ └╥┘\n",
       "meas_0: ════════════════════════════════════╩══╬═\n",
       "                                               ║ \n",
       "meas_1: ═══════════════════════════════════════╩═\n",
       "                                                 "
      ]
     },
     "execution_count": 4,
     "metadata": {},
     "output_type": "execute_result"
    }
   ],
   "source": [
    "# Alice measures with observable Z and Bob measures with observable H'\n",
    "measure_ZHp = initial_state()\n",
    "measure_ZHp.s(1)\n",
    "measure_ZHp.h(1)\n",
    "measure_ZHp.tdg(1)\n",
    "measure_ZHp.h(1)\n",
    "measure_ZHp.measure_all()\n",
    "measure_ZHp.draw()"
   ]
  },
  {
   "cell_type": "code",
   "execution_count": 5,
   "metadata": {},
   "outputs": [
    {
     "data": {
      "text/html": [
       "<pre style=\"word-wrap: normal;white-space: pre;background: #fff0;line-height: 1.1;font-family: &quot;Courier New&quot;,Courier,monospace\">        ┌───┐     ┌───┐                  ░ ┌─┐   \n",
       "   q_0: ┤ H ├──■──┤ H ├──────────────────░─┤M├───\n",
       "        └───┘┌─┴─┐├───┤┌───┐┌─────┐┌───┐ ░ └╥┘┌─┐\n",
       "   q_1: ─────┤ X ├┤ S ├┤ H ├┤ TDG ├┤ H ├─░──╫─┤M├\n",
       "             └───┘└───┘└───┘└─────┘└───┘ ░  ║ └╥┘\n",
       "meas_0: ════════════════════════════════════╩══╬═\n",
       "                                               ║ \n",
       "meas_1: ═══════════════════════════════════════╩═\n",
       "                                                 </pre>"
      ],
      "text/plain": [
       "        ┌───┐     ┌───┐                  ░ ┌─┐   \n",
       "   q_0: ┤ H ├──■──┤ H ├──────────────────░─┤M├───\n",
       "        └───┘┌─┴─┐├───┤┌───┐┌─────┐┌───┐ ░ └╥┘┌─┐\n",
       "   q_1: ─────┤ X ├┤ S ├┤ H ├┤ TDG ├┤ H ├─░──╫─┤M├\n",
       "             └───┘└───┘└───┘└─────┘└───┘ ░  ║ └╥┘\n",
       "meas_0: ════════════════════════════════════╩══╬═\n",
       "                                               ║ \n",
       "meas_1: ═══════════════════════════════════════╩═\n",
       "                                                 "
      ]
     },
     "execution_count": 5,
     "metadata": {},
     "output_type": "execute_result"
    }
   ],
   "source": [
    "# Alice measures with observable X and Bob measures with observable H'\n",
    "measure_XHp = initial_state()\n",
    "measure_XHp.h(0)\n",
    "measure_XHp.s(1)\n",
    "measure_XHp.h(1)\n",
    "measure_XHp.tdg(1)\n",
    "measure_XHp.h(1)\n",
    "measure_XHp.measure_all()\n",
    "measure_XHp.draw()"
   ]
  },
  {
   "cell_type": "code",
   "execution_count": 6,
   "metadata": {},
   "outputs": [
    {
     "name": "stdout",
     "output_type": "stream",
     "text": [
      "Job Status: job has successfully run\n",
      "Job Status: job has successfully run\n",
      "Job Status: job has successfully run\n",
      "Job Status: job has successfully run\n"
     ]
    }
   ],
   "source": [
    "def run_job(circuit, shots):\n",
    "    job = execute(circuit, backend=provider.get_backend('ibmq_qasm_simulator'), shots=shots)\n",
    "    job_monitor(job)\n",
    "    return job\n",
    "shots = 1000\n",
    "ZH_counts = run_job(measure_ZH, shots).result().get_counts()\n",
    "XH_counts = run_job(measure_XH, shots).result().get_counts()\n",
    "ZHp_counts = run_job(measure_ZHp, shots).result().get_counts()\n",
    "XHp_counts = run_job(measure_XHp, shots).result().get_counts()"
   ]
  },
  {
   "cell_type": "markdown",
   "metadata": {},
   "source": [
    "To calculate the left-hand side of the CHSH inequality given by\n",
    "$$ \\mid \\langle ZH \\rangle + \\langle XH \\rangle + \\langle ZH' \\rangle - \\langle XH' \\rangle \\mid \\leq 2 $$\n",
    "we compute the correlated expectation given by\n",
    "$$ \\langle AB \\rangle = Pr(00|AB) + Pr(11|AB) - Pr(01|AB) - Pr(10|AB). $$"
   ]
  },
  {
   "cell_type": "code",
   "execution_count": 7,
   "metadata": {},
   "outputs": [
    {
     "name": "stdout",
     "output_type": "stream",
     "text": [
      "2.8219999999999996\n"
     ]
    }
   ],
   "source": [
    "exp_ZH = entanglement.compute_expectation_for_CHSH(ZH_counts, shots)\n",
    "exp_XH = entanglement.compute_expectation_for_CHSH(XH_counts, shots)\n",
    "exp_ZHp = entanglement.compute_expectation_for_CHSH(ZHp_counts, shots)\n",
    "exp_XHp = entanglement.compute_expectation_for_CHSH(XHp_counts, shots)\n",
    "\n",
    "CHSH = exp_ZH + exp_XH + exp_ZHp - exp_XHp\n",
    "print(CHSH)"
   ]
  },
  {
   "cell_type": "markdown",
   "metadata": {},
   "source": [
    "This shows the test violates CHSH inequality, and the initial state is indeed an entangled state. We know that bell state violates this inequality with the value $2\\sqrt{2} \\approx 2.828$, and the value we get is pretty close to this value.\n",
    "\n",
    "This entanglement test can be done using the HandShake suite."
   ]
  },
  {
   "cell_type": "code",
   "execution_count": 8,
   "metadata": {},
   "outputs": [
    {
     "name": "stdout",
     "output_type": "stream",
     "text": [
      "Passed Entanglement with value:  2.83\n"
     ]
    },
    {
     "data": {
      "text/plain": [
       "(True, 2.83)"
      ]
     },
     "execution_count": 8,
     "metadata": {},
     "output_type": "execute_result"
    }
   ],
   "source": [
    "from device_independent_test.handshake import HandShake\n",
    "from device_independent_test.quantum_communicator import LocalDispatcher\n",
    "\n",
    "dispatcher = LocalDispatcher([provider.get_backend('ibmq_qasm_simulator')])\n",
    "handshake = HandShake(dispatcher)\n",
    "\n",
    "tolerance = 0.1\n",
    "shots = 1000\n",
    "handshake.entanglement(tolerance, shots)"
   ]
  },
  {
   "cell_type": "markdown",
   "metadata": {},
   "source": [
    "We can run it on the actual quantum machine by instantiating the dispatcher with actual machine."
   ]
  },
  {
   "cell_type": "code",
   "execution_count": null,
   "metadata": {},
   "outputs": [],
   "source": [
    "from qiskit.providers.ibmq import least_busy\n",
    "\n",
    "backend = least_busy(provider.backends())\n",
    "dispatcher = LocalDispatcher([backend])\n",
    "handshake = HandShake(dispatcher)\n",
    "\n",
    "tolerance = 0.7\n",
    "shots = 2000\n",
    "handshake.entanglement(tolerance, shots, 0)"
   ]
  },
  {
   "cell_type": "markdown",
   "metadata": {},
   "source": [
    "The quantum computers can have quite a large error. They typically violate the CHSH inequality, however, a wide tolerance has to be used to ensure a pass. The allowed tolerance is decided by the computation task at hand."
   ]
  }
 ],
 "metadata": {
  "@webio": {
   "lastCommId": null,
   "lastKernelId": null
  },
  "kernelspec": {
   "display_name": "Python 3",
   "language": "python",
   "name": "python3"
  },
  "language_info": {
   "codemirror_mode": {
    "name": "ipython",
    "version": 3
   },
   "file_extension": ".py",
   "mimetype": "text/x-python",
   "name": "python",
   "nbconvert_exporter": "python",
   "pygments_lexer": "ipython3",
   "version": "3.7.5"
  }
 },
 "nbformat": 4,
 "nbformat_minor": 2
}
